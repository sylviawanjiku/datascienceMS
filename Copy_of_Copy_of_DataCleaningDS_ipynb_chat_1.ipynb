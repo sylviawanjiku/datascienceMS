{
  "nbformat": 4,
  "nbformat_minor": 0,
  "metadata": {
    "colab": {
      "name": "Copy of Copy of DataCleaningDS.ipynb - chat 1",
      "provenance": [],
      "authorship_tag": "ABX9TyPKBqnhm9yGbXqCnjbEKzW6",
      "include_colab_link": true
    },
    "kernelspec": {
      "name": "python3",
      "display_name": "Python 3"
    },
    "language_info": {
      "name": "python"
    }
  },
  "cells": [
    {
      "cell_type": "markdown",
      "metadata": {
        "id": "view-in-github",
        "colab_type": "text"
      },
      "source": [
        "<a href=\"https://colab.research.google.com/github/sylviawanjiku/datascienceMS/blob/main/Copy_of_Copy_of_DataCleaningDS_ipynb_chat_1.ipynb\" target=\"_parent\"><img src=\"https://colab.research.google.com/assets/colab-badge.svg\" alt=\"Open In Colab\"/></a>"
      ]
    },
    {
      "cell_type": "markdown",
      "metadata": {
        "id": "DzH3Iaf7D_5B"
      },
      "source": [
        "Read Data"
      ]
    },
    {
      "cell_type": "code",
      "metadata": {
        "id": "dfPm02Sr3k6I"
      },
      "source": [
        "import pandas as pd"
      ],
      "execution_count": null,
      "outputs": []
    },
    {
      "cell_type": "code",
      "metadata": {
        "colab": {
          "base_uri": "https://localhost:8080/",
          "height": 202
        },
        "id": "2POy8ZkvEEEW",
        "outputId": "4165cb5f-6e7b-41c9-fab8-a0549616543f"
      },
      "source": [
        "data = pd.read_csv('chat (1).txt',error_bad_lines=False,sep='\\t',header=None,names=[\"Time\", \"Details\"])\n",
        "type(data)\n",
        "data.head(5)"
      ],
      "execution_count": null,
      "outputs": [
        {
          "output_type": "execute_result",
          "data": {
            "text/html": [
              "<div>\n",
              "<style scoped>\n",
              "    .dataframe tbody tr th:only-of-type {\n",
              "        vertical-align: middle;\n",
              "    }\n",
              "\n",
              "    .dataframe tbody tr th {\n",
              "        vertical-align: top;\n",
              "    }\n",
              "\n",
              "    .dataframe thead th {\n",
              "        text-align: right;\n",
              "    }\n",
              "</style>\n",
              "<table border=\"1\" class=\"dataframe\">\n",
              "  <thead>\n",
              "    <tr style=\"text-align: right;\">\n",
              "      <th></th>\n",
              "      <th>Time</th>\n",
              "      <th>Details</th>\n",
              "    </tr>\n",
              "  </thead>\n",
              "  <tbody>\n",
              "    <tr>\n",
              "      <th>0</th>\n",
              "      <td>17:55:24</td>\n",
              "      <td>From  Valentine Mwangi   to   sasha achieng(P...</td>\n",
              "    </tr>\n",
              "    <tr>\n",
              "      <th>1</th>\n",
              "      <td>18:05:09</td>\n",
              "      <td>From  D : Will the recording be shared on ema...</td>\n",
              "    </tr>\n",
              "    <tr>\n",
              "      <th>2</th>\n",
              "      <td>18:05:22</td>\n",
              "      <td>From  Jerry Tarus : I hope so also</td>\n",
              "    </tr>\n",
              "    <tr>\n",
              "      <th>3</th>\n",
              "      <td>18:05:24</td>\n",
              "      <td>From  sasha achieng : yes @D</td>\n",
              "    </tr>\n",
              "    <tr>\n",
              "      <th>4</th>\n",
              "      <td>18:05:37</td>\n",
              "      <td>From  D : Thanks</td>\n",
              "    </tr>\n",
              "  </tbody>\n",
              "</table>\n",
              "</div>"
            ],
            "text/plain": [
              "       Time                                            Details\n",
              "0  17:55:24   From  Valentine Mwangi   to   sasha achieng(P...\n",
              "1  18:05:09   From  D : Will the recording be shared on ema...\n",
              "2  18:05:22                 From  Jerry Tarus : I hope so also\n",
              "3  18:05:24                       From  sasha achieng : yes @D\n",
              "4  18:05:37                                   From  D : Thanks"
            ]
          },
          "metadata": {
            "tags": []
          },
          "execution_count": 10
        }
      ]
    },
    {
      "cell_type": "markdown",
      "metadata": {
        "id": "ylNZOlrOFPqd"
      },
      "source": [
        "Drop NULL rows"
      ]
    },
    {
      "cell_type": "code",
      "metadata": {
        "colab": {
          "base_uri": "https://localhost:8080/"
        },
        "id": "EMInQmXAFWnO",
        "outputId": "3959eaeb-c0da-4d03-b8a3-7b0b0d16935d"
      },
      "source": [
        "data.info()"
      ],
      "execution_count": null,
      "outputs": [
        {
          "output_type": "stream",
          "text": [
            "<class 'pandas.core.frame.DataFrame'>\n",
            "RangeIndex: 208 entries, 0 to 207\n",
            "Data columns (total 2 columns):\n",
            " #   Column   Non-Null Count  Dtype \n",
            "---  ------   --------------  ----- \n",
            " 0   Time     208 non-null    object\n",
            " 1   Details  200 non-null    object\n",
            "dtypes: object(2)\n",
            "memory usage: 3.4+ KB\n"
          ],
          "name": "stdout"
        }
      ]
    },
    {
      "cell_type": "code",
      "metadata": {
        "colab": {
          "base_uri": "https://localhost:8080/",
          "height": 414
        },
        "id": "mUfFHEKtU3Cg",
        "outputId": "2aaa967e-d077-4ba6-825b-2e21702d53d8"
      },
      "source": [
        "drop_list = ['Time']\n",
        "df = data.drop(columns=drop_list)\n",
        "df"
      ],
      "execution_count": null,
      "outputs": [
        {
          "output_type": "execute_result",
          "data": {
            "text/html": [
              "<div>\n",
              "<style scoped>\n",
              "    .dataframe tbody tr th:only-of-type {\n",
              "        vertical-align: middle;\n",
              "    }\n",
              "\n",
              "    .dataframe tbody tr th {\n",
              "        vertical-align: top;\n",
              "    }\n",
              "\n",
              "    .dataframe thead th {\n",
              "        text-align: right;\n",
              "    }\n",
              "</style>\n",
              "<table border=\"1\" class=\"dataframe\">\n",
              "  <thead>\n",
              "    <tr style=\"text-align: right;\">\n",
              "      <th></th>\n",
              "      <th>Details</th>\n",
              "    </tr>\n",
              "  </thead>\n",
              "  <tbody>\n",
              "    <tr>\n",
              "      <th>0</th>\n",
              "      <td>From  Valentine Mwangi   to   sasha achieng(P...</td>\n",
              "    </tr>\n",
              "    <tr>\n",
              "      <th>1</th>\n",
              "      <td>From  D : Will the recording be shared on ema...</td>\n",
              "    </tr>\n",
              "    <tr>\n",
              "      <th>2</th>\n",
              "      <td>From  Jerry Tarus : I hope so also</td>\n",
              "    </tr>\n",
              "    <tr>\n",
              "      <th>3</th>\n",
              "      <td>From  sasha achieng : yes @D</td>\n",
              "    </tr>\n",
              "    <tr>\n",
              "      <th>4</th>\n",
              "      <td>From  D : Thanks</td>\n",
              "    </tr>\n",
              "    <tr>\n",
              "      <th>...</th>\n",
              "      <td>...</td>\n",
              "    </tr>\n",
              "    <tr>\n",
              "      <th>203</th>\n",
              "      <td>From  Alvion : Thank you</td>\n",
              "    </tr>\n",
              "    <tr>\n",
              "      <th>204</th>\n",
              "      <td>From  sasha achieng : Looking forward to host...</td>\n",
              "    </tr>\n",
              "    <tr>\n",
              "      <th>205</th>\n",
              "      <td>From  Jerry Tarus   to   sasha achieng(Privat...</td>\n",
              "    </tr>\n",
              "    <tr>\n",
              "      <th>206</th>\n",
              "      <td>From  Griffin : thank you</td>\n",
              "    </tr>\n",
              "    <tr>\n",
              "      <th>207</th>\n",
              "      <td>From  bill : Thanks</td>\n",
              "    </tr>\n",
              "  </tbody>\n",
              "</table>\n",
              "<p>208 rows × 1 columns</p>\n",
              "</div>"
            ],
            "text/plain": [
              "                                               Details\n",
              "0     From  Valentine Mwangi   to   sasha achieng(P...\n",
              "1     From  D : Will the recording be shared on ema...\n",
              "2                   From  Jerry Tarus : I hope so also\n",
              "3                         From  sasha achieng : yes @D\n",
              "4                                     From  D : Thanks\n",
              "..                                                 ...\n",
              "203                           From  Alvion : Thank you\n",
              "204   From  sasha achieng : Looking forward to host...\n",
              "205   From  Jerry Tarus   to   sasha achieng(Privat...\n",
              "206                          From  Griffin : thank you\n",
              "207                                From  bill : Thanks\n",
              "\n",
              "[208 rows x 1 columns]"
            ]
          },
          "metadata": {
            "tags": []
          },
          "execution_count": 12
        }
      ]
    },
    {
      "cell_type": "code",
      "metadata": {
        "colab": {
          "base_uri": "https://localhost:8080/"
        },
        "id": "OADUpTC3FjBr",
        "outputId": "da67d49c-1124-468f-e14c-bfb3ec552122"
      },
      "source": [
        "# data=data.dropna()\n",
        "df.info()"
      ],
      "execution_count": null,
      "outputs": [
        {
          "output_type": "stream",
          "text": [
            "<class 'pandas.core.frame.DataFrame'>\n",
            "RangeIndex: 208 entries, 0 to 207\n",
            "Data columns (total 1 columns):\n",
            " #   Column   Non-Null Count  Dtype \n",
            "---  ------   --------------  ----- \n",
            " 0   Details  200 non-null    object\n",
            "dtypes: object(1)\n",
            "memory usage: 1.8+ KB\n"
          ],
          "name": "stdout"
        }
      ]
    },
    {
      "cell_type": "code",
      "metadata": {
        "colab": {
          "base_uri": "https://localhost:8080/",
          "height": 48
        },
        "id": "V7HNyxeUFxcW",
        "outputId": "cce9c334-e031-4391-96a2-229deb73aa1d"
      },
      "source": [
        "# drop_list = ['Time','Details']\n",
        "# df = data.drop(columns=drop_list)\n",
        "# df"
      ],
      "execution_count": null,
      "outputs": [
        {
          "output_type": "execute_result",
          "data": {
            "text/html": [
              "<div>\n",
              "<style scoped>\n",
              "    .dataframe tbody tr th:only-of-type {\n",
              "        vertical-align: middle;\n",
              "    }\n",
              "\n",
              "    .dataframe tbody tr th {\n",
              "        vertical-align: top;\n",
              "    }\n",
              "\n",
              "    .dataframe thead th {\n",
              "        text-align: right;\n",
              "    }\n",
              "</style>\n",
              "<table border=\"1\" class=\"dataframe\">\n",
              "  <thead>\n",
              "    <tr style=\"text-align: right;\">\n",
              "      <th></th>\n",
              "      <th>Users</th>\n",
              "    </tr>\n",
              "  </thead>\n",
              "  <tbody>\n",
              "  </tbody>\n",
              "</table>\n",
              "</div>"
            ],
            "text/plain": [
              "Empty DataFrame\n",
              "Columns: [Users]\n",
              "Index: []"
            ]
          },
          "metadata": {
            "tags": []
          },
          "execution_count": 9
        }
      ]
    },
    {
      "cell_type": "code",
      "metadata": {
        "id": "0CMpk32CuYZa"
      },
      "source": [
        "#Remove @user\n",
        "def remove_users(conversation,pattern1,pattern2):\n",
        "  r = re.findall(pattern1, conversation)\n",
        "  for i in r:\n",
        "      conversation = re.sub(i, '', conversation)\n",
        "\n",
        "  r = re.findall(pattern2, conversation)\n",
        "  for i in r:\n",
        "      conversation = re.sub(i, '', conversation)\n",
        "  return conversation"
      ],
      "execution_count": null,
      "outputs": []
    },
    {
      "cell_type": "code",
      "metadata": {
        "colab": {
          "base_uri": "https://localhost:8080/"
        },
        "id": "ucNq5jSKumea",
        "outputId": "f5493494-80b1-4271-c652-6895dd19c38e"
      },
      "source": [
        "convo = df['Details'].astype('str') \n",
        "convo"
      ],
      "execution_count": null,
      "outputs": [
        {
          "output_type": "execute_result",
          "data": {
            "text/plain": [
              "0       From  Valentine Mwangi   to   sasha achieng(P...\n",
              "1       From  D : Will the recording be shared on ema...\n",
              "2                     From  Jerry Tarus : I hope so also\n",
              "3                           From  sasha achieng : yes @D\n",
              "4                                       From  D : Thanks\n",
              "                             ...                        \n",
              "203                             From  Alvion : Thank you\n",
              "204     From  sasha achieng : Looking forward to host...\n",
              "205     From  Jerry Tarus   to   sasha achieng(Privat...\n",
              "206                            From  Griffin : thank you\n",
              "207                                  From  bill : Thanks\n",
              "Name: Details, Length: 208, dtype: object"
            ]
          },
          "metadata": {
            "tags": []
          },
          "execution_count": 22
        }
      ]
    },
    {
      "cell_type": "code",
      "metadata": {
        "colab": {
          "base_uri": "https://localhost:8080/",
          "height": 414
        },
        "id": "X97-YkRMfeP_",
        "outputId": "1f3ff276-3d93-4d32-9874-bd4c81e7a949"
      },
      "source": [
        "import numpy as np\n",
        "import re\n",
        "\n",
        "df['convo_text']= np.vectorize(remove_users)(convo,\"@[\\w]*\", \"@[\\w]*\")\n",
        "df['convo_text'].head(20)\n",
        "df"
      ],
      "execution_count": null,
      "outputs": [
        {
          "output_type": "execute_result",
          "data": {
            "text/html": [
              "<div>\n",
              "<style scoped>\n",
              "    .dataframe tbody tr th:only-of-type {\n",
              "        vertical-align: middle;\n",
              "    }\n",
              "\n",
              "    .dataframe tbody tr th {\n",
              "        vertical-align: top;\n",
              "    }\n",
              "\n",
              "    .dataframe thead th {\n",
              "        text-align: right;\n",
              "    }\n",
              "</style>\n",
              "<table border=\"1\" class=\"dataframe\">\n",
              "  <thead>\n",
              "    <tr style=\"text-align: right;\">\n",
              "      <th></th>\n",
              "      <th>Details</th>\n",
              "      <th>convo_text</th>\n",
              "    </tr>\n",
              "  </thead>\n",
              "  <tbody>\n",
              "    <tr>\n",
              "      <th>0</th>\n",
              "      <td>From  Valentine Mwangi   to   sasha achieng(P...</td>\n",
              "      <td>From  Valentine Mwangi   to   sasha achieng(P...</td>\n",
              "    </tr>\n",
              "    <tr>\n",
              "      <th>1</th>\n",
              "      <td>From  D : Will the recording be shared on ema...</td>\n",
              "      <td>From  D : Will the recording be shared on ema...</td>\n",
              "    </tr>\n",
              "    <tr>\n",
              "      <th>2</th>\n",
              "      <td>From  Jerry Tarus : I hope so also</td>\n",
              "      <td>From  Jerry Tarus : I hope so also</td>\n",
              "    </tr>\n",
              "    <tr>\n",
              "      <th>3</th>\n",
              "      <td>From  sasha achieng : yes @D</td>\n",
              "      <td>From  sasha achieng : yes</td>\n",
              "    </tr>\n",
              "    <tr>\n",
              "      <th>4</th>\n",
              "      <td>From  D : Thanks</td>\n",
              "      <td>From  D : Thanks</td>\n",
              "    </tr>\n",
              "    <tr>\n",
              "      <th>...</th>\n",
              "      <td>...</td>\n",
              "      <td>...</td>\n",
              "    </tr>\n",
              "    <tr>\n",
              "      <th>203</th>\n",
              "      <td>From  Alvion : Thank you</td>\n",
              "      <td>From  Alvion : Thank you</td>\n",
              "    </tr>\n",
              "    <tr>\n",
              "      <th>204</th>\n",
              "      <td>From  sasha achieng : Looking forward to host...</td>\n",
              "      <td>From  sasha achieng : Looking forward to host...</td>\n",
              "    </tr>\n",
              "    <tr>\n",
              "      <th>205</th>\n",
              "      <td>From  Jerry Tarus   to   sasha achieng(Privat...</td>\n",
              "      <td>From  Jerry Tarus   to   sasha achieng(Privat...</td>\n",
              "    </tr>\n",
              "    <tr>\n",
              "      <th>206</th>\n",
              "      <td>From  Griffin : thank you</td>\n",
              "      <td>From  Griffin : thank you</td>\n",
              "    </tr>\n",
              "    <tr>\n",
              "      <th>207</th>\n",
              "      <td>From  bill : Thanks</td>\n",
              "      <td>From  bill : Thanks</td>\n",
              "    </tr>\n",
              "  </tbody>\n",
              "</table>\n",
              "<p>208 rows × 2 columns</p>\n",
              "</div>"
            ],
            "text/plain": [
              "                                               Details                                         convo_text\n",
              "0     From  Valentine Mwangi   to   sasha achieng(P...   From  Valentine Mwangi   to   sasha achieng(P...\n",
              "1     From  D : Will the recording be shared on ema...   From  D : Will the recording be shared on ema...\n",
              "2                   From  Jerry Tarus : I hope so also                 From  Jerry Tarus : I hope so also\n",
              "3                         From  sasha achieng : yes @D                         From  sasha achieng : yes \n",
              "4                                     From  D : Thanks                                   From  D : Thanks\n",
              "..                                                 ...                                                ...\n",
              "203                           From  Alvion : Thank you                           From  Alvion : Thank you\n",
              "204   From  sasha achieng : Looking forward to host...   From  sasha achieng : Looking forward to host...\n",
              "205   From  Jerry Tarus   to   sasha achieng(Privat...   From  Jerry Tarus   to   sasha achieng(Privat...\n",
              "206                          From  Griffin : thank you                          From  Griffin : thank you\n",
              "207                                From  bill : Thanks                                From  bill : Thanks\n",
              "\n",
              "[208 rows x 2 columns]"
            ]
          },
          "metadata": {
            "tags": []
          },
          "execution_count": 23
        }
      ]
    },
    {
      "cell_type": "code",
      "metadata": {
        "colab": {
          "base_uri": "https://localhost:8080/"
        },
        "id": "62Ql64O_u2_T",
        "outputId": "ab84b2a5-d8b6-4f2f-b9bd-24be2416aa2b"
      },
      "source": [
        "# NORMALIZATION - converts all convo into lowercase\n",
        "df['convo_text'] = df['convo_text'].str.lower()\n",
        "df['convo_text']"
      ],
      "execution_count": null,
      "outputs": [
        {
          "output_type": "execute_result",
          "data": {
            "text/plain": [
              "0       from  valentine mwangi   to   sasha achieng(p...\n",
              "1       from  d : will the recording be shared on ema...\n",
              "2                     from  jerry tarus : i hope so also\n",
              "3                             from  sasha achieng : yes \n",
              "4                                       from  d : thanks\n",
              "                             ...                        \n",
              "203                             from  alvion : thank you\n",
              "204     from  sasha achieng : looking forward to host...\n",
              "205     from  jerry tarus   to   sasha achieng(privat...\n",
              "206                            from  griffin : thank you\n",
              "207                                  from  bill : thanks\n",
              "Name: convo_text, Length: 208, dtype: object"
            ]
          },
          "metadata": {
            "tags": []
          },
          "execution_count": 24
        }
      ]
    },
    {
      "cell_type": "markdown",
      "metadata": {
        "id": "iUTMH34U6hiD"
      },
      "source": [
        "Check for questions in dataset"
      ]
    },
    {
      "cell_type": "code",
      "metadata": {
        "colab": {
          "base_uri": "https://localhost:8080/"
        },
        "id": "mZ3NP1IF22xP",
        "outputId": "22fdde8c-6737-4619-94ce-1ffb04a16c9a"
      },
      "source": [
        "no_of_questions = df.apply(lambda x: x.str.contains('\\?')).sum()\n",
        "no_of_questions"
      ],
      "execution_count": null,
      "outputs": [
        {
          "output_type": "execute_result",
          "data": {
            "text/plain": [
              "Details       33\n",
              "convo_text    33\n",
              "dtype: int64"
            ]
          },
          "metadata": {
            "tags": []
          },
          "execution_count": 25
        }
      ]
    },
    {
      "cell_type": "code",
      "metadata": {
        "colab": {
          "base_uri": "https://localhost:8080/"
        },
        "id": "vqzMAdqT-3ZH",
        "outputId": "92efeb9f-a7a7-42cf-fbd5-2feb8152ce7c"
      },
      "source": [
        "questions_list = []\n",
        "questions_list += [x for x in df['convo_text'] if '?' in x]\n",
        "questions_list"
      ],
      "execution_count": null,
      "outputs": [
        {
          "output_type": "execute_result",
          "data": {
            "text/plain": [
              "[' from  d : will the recording be shared on email later?',\n",
              " ' from  yikkin : how do you get the speaker on ? i can t hear no one ',\n",
              " ' from  sasha achieng : hi yikkin - are you able to hear us now?',\n",
              " ' from  sasha achieng : what do you think about that question..... the future of credit scoring in banking?',\n",
              " ' from  akil elkamel : how is the status of data in term of completeness and correctness in real banking word? in case we have some missing data, we need data imputation, right? we make the data imputation before or after train/test data splitting? ',\n",
              " ' from  ian : do you deploy your models in the cloud? if yes, which provider is most popular with banks? ',\n",
              " ' from  sasha achieng : would the use of different models than the ones allowed by regulator translate into better scoring results ?',\n",
              " ' from  mark g : has the credit scoring system changed since covid-19 and in what way to accommodate the times of covid especially with loan defaults, extension of loan reprieve and what criteria do you consider for a loan reprieve during covid times?',\n",
              " ' from  faith njoki : in regards to the future of credit scoring, do you think that banks will adopt artificial neural networks to credit score anytime soon and do away with the logistic regression models?',\n",
              " \" from  karijatu nadjiru : what variables would you use for a behavioral score card for a segment of the population that is unbaked for doesn't have much credit history. the only form of data you would have is say phone meta data and transactions on say a tire one account? \",\n",
              " ' from  victor mandela : have you thought of creating an application/interactive dashboards for credit scoring forecasts and monitoring most of the repetitive works you may have at work?',\n",
              " \" from  cherono k : you mentioned about feature selection and the variables you've mentioned are quite few. how many features approximately after selection do they end up in the logistic regression model?\",\n",
              " ' from  immaculate tallam : this is an interesting question from ian......do you deploy your models in the cloud? if yes, which provider is most popular with banks?',\n",
              " ' from  laban bore : please comment on some of the pitfalls of ml application in your organization?',\n",
              " ' from  jason : learning path?',\n",
              " \" from  jerry tarus :  michael, wouldn't that be breaching customer's data? \",\n",
              " \" from  ng'ethe bernice : i'm assuming spending trends and user behavior change over time, like with the covid situation or when a user looses or acquires a new job. how do you take into account these changes or how do you go about maintenance and improvement of models? also how do you ensure the system is robust enough to detect these changes\",\n",
              " ' from  omosule john iberuoluwa : can you say that again?',\n",
              " \" from  adrianteri : i see comments about the pandemic situation ...does this make historical data go out of the window? my understanding of ml it's all about having enough data for models ...\",\n",
              " ' from  rohi anon :  chris, what are some of the key metrics that one would use herein?',\n",
              " ' from  jason : what level of accuracy is desired in banking models? like medical models need very high accuracy levels',\n",
              " ' from  victor mandela : burning questions for  ....have you thought of creating an automated /interactive dashboards for monitoring most of the repetitive works and metrics you may have at work ?',\n",
              " ' from  jason : what level of accuracy is desired in banking models? like medical models need very high accuracy levels',\n",
              " ' from  karijatu nadjiru : , what kind of customer data do you usually analyst with regards to customer retention strategies? ',\n",
              " ' from  sasha achieng   to   malcolm maliti(privately) : will do... did you register? i hope i have your email address',\n",
              " ' from  barbara s : , what model do you use to identify fraudulent customers or transactions?',\n",
              " ' from  ian : how is the compensation? 😋',\n",
              " \" from  ng'ethe bernice : , do you think that data visualization is also part of eda?\",\n",
              " ' from  sasha achieng   to   valentine mwangi(privately) : can you switch on your video?',\n",
              " ' from  adrianteri :  mwangi  orwa  mwega  naishorwa can we a rally knbstats to avail their data in machine readeable formats? their reports are awesome but are targeted communicating findings while treasures are often locked away ..',\n",
              " ' from  laban bore : comment on the absolute truth and the learning results from ml models? i see significant variation. ',\n",
              " ' from  jason : what is the learning path of all panelists?',\n",
              " ' from  jason   to   sasha achieng(privately) : hi sasha. what packages do you have for full-time employees? do you have evening classes?']"
            ]
          },
          "metadata": {
            "tags": []
          },
          "execution_count": 26
        }
      ]
    },
    {
      "cell_type": "code",
      "metadata": {
        "colab": {
          "base_uri": "https://localhost:8080/"
        },
        "id": "yNC4v4jLCgdl",
        "outputId": "2ac76dcb-5f3b-4bc0-d270-275979c5f4d9"
      },
      "source": [
        "len(questions_list)"
      ],
      "execution_count": null,
      "outputs": [
        {
          "output_type": "execute_result",
          "data": {
            "text/plain": [
              "33"
            ]
          },
          "metadata": {
            "tags": []
          },
          "execution_count": 27
        }
      ]
    },
    {
      "cell_type": "code",
      "metadata": {
        "colab": {
          "base_uri": "https://localhost:8080/",
          "height": 1000
        },
        "id": "JWGAq9_OFDh0",
        "outputId": "626e7408-aa3f-4857-f5d7-edc3a39e786e"
      },
      "source": [
        "questions_df = pd.DataFrame (questions_list,columns=['Questions'])\n",
        "questions_df"
      ],
      "execution_count": null,
      "outputs": [
        {
          "output_type": "execute_result",
          "data": {
            "text/html": [
              "<div>\n",
              "<style scoped>\n",
              "    .dataframe tbody tr th:only-of-type {\n",
              "        vertical-align: middle;\n",
              "    }\n",
              "\n",
              "    .dataframe tbody tr th {\n",
              "        vertical-align: top;\n",
              "    }\n",
              "\n",
              "    .dataframe thead th {\n",
              "        text-align: right;\n",
              "    }\n",
              "</style>\n",
              "<table border=\"1\" class=\"dataframe\">\n",
              "  <thead>\n",
              "    <tr style=\"text-align: right;\">\n",
              "      <th></th>\n",
              "      <th>Questions</th>\n",
              "    </tr>\n",
              "  </thead>\n",
              "  <tbody>\n",
              "    <tr>\n",
              "      <th>0</th>\n",
              "      <td>from  d : will the recording be shared on ema...</td>\n",
              "    </tr>\n",
              "    <tr>\n",
              "      <th>1</th>\n",
              "      <td>from  yikkin : how do you get the speaker on ...</td>\n",
              "    </tr>\n",
              "    <tr>\n",
              "      <th>2</th>\n",
              "      <td>from  sasha achieng : hi yikkin - are you abl...</td>\n",
              "    </tr>\n",
              "    <tr>\n",
              "      <th>3</th>\n",
              "      <td>from  sasha achieng : what do you think about...</td>\n",
              "    </tr>\n",
              "    <tr>\n",
              "      <th>4</th>\n",
              "      <td>from  akil elkamel : how is the status of dat...</td>\n",
              "    </tr>\n",
              "    <tr>\n",
              "      <th>5</th>\n",
              "      <td>from  ian : do you deploy your models in the ...</td>\n",
              "    </tr>\n",
              "    <tr>\n",
              "      <th>6</th>\n",
              "      <td>from  sasha achieng : would the use of differ...</td>\n",
              "    </tr>\n",
              "    <tr>\n",
              "      <th>7</th>\n",
              "      <td>from  mark g : has the credit scoring system ...</td>\n",
              "    </tr>\n",
              "    <tr>\n",
              "      <th>8</th>\n",
              "      <td>from  faith njoki : in regards to the future ...</td>\n",
              "    </tr>\n",
              "    <tr>\n",
              "      <th>9</th>\n",
              "      <td>from  karijatu nadjiru : what variables would...</td>\n",
              "    </tr>\n",
              "    <tr>\n",
              "      <th>10</th>\n",
              "      <td>from  victor mandela : have you thought of cr...</td>\n",
              "    </tr>\n",
              "    <tr>\n",
              "      <th>11</th>\n",
              "      <td>from  cherono k : you mentioned about feature...</td>\n",
              "    </tr>\n",
              "    <tr>\n",
              "      <th>12</th>\n",
              "      <td>from  immaculate tallam : this is an interest...</td>\n",
              "    </tr>\n",
              "    <tr>\n",
              "      <th>13</th>\n",
              "      <td>from  laban bore : please comment on some of ...</td>\n",
              "    </tr>\n",
              "    <tr>\n",
              "      <th>14</th>\n",
              "      <td>from  jason : learning path?</td>\n",
              "    </tr>\n",
              "    <tr>\n",
              "      <th>15</th>\n",
              "      <td>from  jerry tarus :  michael, wouldn't that b...</td>\n",
              "    </tr>\n",
              "    <tr>\n",
              "      <th>16</th>\n",
              "      <td>from  ng'ethe bernice : i'm assuming spending...</td>\n",
              "    </tr>\n",
              "    <tr>\n",
              "      <th>17</th>\n",
              "      <td>from  omosule john iberuoluwa : can you say t...</td>\n",
              "    </tr>\n",
              "    <tr>\n",
              "      <th>18</th>\n",
              "      <td>from  adrianteri : i see comments about the p...</td>\n",
              "    </tr>\n",
              "    <tr>\n",
              "      <th>19</th>\n",
              "      <td>from  rohi anon :  chris, what are some of th...</td>\n",
              "    </tr>\n",
              "    <tr>\n",
              "      <th>20</th>\n",
              "      <td>from  jason : what level of accuracy is desir...</td>\n",
              "    </tr>\n",
              "    <tr>\n",
              "      <th>21</th>\n",
              "      <td>from  victor mandela : burning questions for ...</td>\n",
              "    </tr>\n",
              "    <tr>\n",
              "      <th>22</th>\n",
              "      <td>from  jason : what level of accuracy is desir...</td>\n",
              "    </tr>\n",
              "    <tr>\n",
              "      <th>23</th>\n",
              "      <td>from  karijatu nadjiru : , what kind of custo...</td>\n",
              "    </tr>\n",
              "    <tr>\n",
              "      <th>24</th>\n",
              "      <td>from  sasha achieng   to   malcolm maliti(pri...</td>\n",
              "    </tr>\n",
              "    <tr>\n",
              "      <th>25</th>\n",
              "      <td>from  barbara s : , what model do you use to ...</td>\n",
              "    </tr>\n",
              "    <tr>\n",
              "      <th>26</th>\n",
              "      <td>from  ian : how is the compensation? 😋</td>\n",
              "    </tr>\n",
              "    <tr>\n",
              "      <th>27</th>\n",
              "      <td>from  ng'ethe bernice : , do you think that d...</td>\n",
              "    </tr>\n",
              "    <tr>\n",
              "      <th>28</th>\n",
              "      <td>from  sasha achieng   to   valentine mwangi(p...</td>\n",
              "    </tr>\n",
              "    <tr>\n",
              "      <th>29</th>\n",
              "      <td>from  adrianteri :  mwangi  orwa  mwega  nais...</td>\n",
              "    </tr>\n",
              "    <tr>\n",
              "      <th>30</th>\n",
              "      <td>from  laban bore : comment on the absolute tr...</td>\n",
              "    </tr>\n",
              "    <tr>\n",
              "      <th>31</th>\n",
              "      <td>from  jason : what is the learning path of al...</td>\n",
              "    </tr>\n",
              "    <tr>\n",
              "      <th>32</th>\n",
              "      <td>from  jason   to   sasha achieng(privately) :...</td>\n",
              "    </tr>\n",
              "  </tbody>\n",
              "</table>\n",
              "</div>"
            ],
            "text/plain": [
              "                                            Questions\n",
              "0    from  d : will the recording be shared on ema...\n",
              "1    from  yikkin : how do you get the speaker on ...\n",
              "2    from  sasha achieng : hi yikkin - are you abl...\n",
              "3    from  sasha achieng : what do you think about...\n",
              "4    from  akil elkamel : how is the status of dat...\n",
              "5    from  ian : do you deploy your models in the ...\n",
              "6    from  sasha achieng : would the use of differ...\n",
              "7    from  mark g : has the credit scoring system ...\n",
              "8    from  faith njoki : in regards to the future ...\n",
              "9    from  karijatu nadjiru : what variables would...\n",
              "10   from  victor mandela : have you thought of cr...\n",
              "11   from  cherono k : you mentioned about feature...\n",
              "12   from  immaculate tallam : this is an interest...\n",
              "13   from  laban bore : please comment on some of ...\n",
              "14                       from  jason : learning path?\n",
              "15   from  jerry tarus :  michael, wouldn't that b...\n",
              "16   from  ng'ethe bernice : i'm assuming spending...\n",
              "17   from  omosule john iberuoluwa : can you say t...\n",
              "18   from  adrianteri : i see comments about the p...\n",
              "19   from  rohi anon :  chris, what are some of th...\n",
              "20   from  jason : what level of accuracy is desir...\n",
              "21   from  victor mandela : burning questions for ...\n",
              "22   from  jason : what level of accuracy is desir...\n",
              "23   from  karijatu nadjiru : , what kind of custo...\n",
              "24   from  sasha achieng   to   malcolm maliti(pri...\n",
              "25   from  barbara s : , what model do you use to ...\n",
              "26             from  ian : how is the compensation? 😋\n",
              "27   from  ng'ethe bernice : , do you think that d...\n",
              "28   from  sasha achieng   to   valentine mwangi(p...\n",
              "29   from  adrianteri :  mwangi  orwa  mwega  nais...\n",
              "30   from  laban bore : comment on the absolute tr...\n",
              "31   from  jason : what is the learning path of al...\n",
              "32   from  jason   to   sasha achieng(privately) :..."
            ]
          },
          "metadata": {
            "tags": []
          },
          "execution_count": 28
        }
      ]
    },
    {
      "cell_type": "code",
      "metadata": {
        "colab": {
          "base_uri": "https://localhost:8080/"
        },
        "id": "JnAxx2_HDiX7",
        "outputId": "39bcbc82-b2c0-4cdf-c528-db8defbb793f"
      },
      "source": [
        "answers_list = []\n",
        "answers_list += [x for x in df['convo_text'] if '?' not in x]\n",
        "answers_list"
      ],
      "execution_count": null,
      "outputs": [
        {
          "output_type": "execute_result",
          "data": {
            "text/plain": [
              "[' from  valentine mwangi   to   sasha achieng(privately) : allow me to unmute :)',\n",
              " ' from  jerry tarus : i hope so also',\n",
              " ' from  sasha achieng : yes ',\n",
              " ' from  d : thanks',\n",
              " ' from  jerry tarus : thanks sasha',\n",
              " ' from  masoi : thanks sasha',\n",
              " ' from  sasha achieng : welcome everybody',\n",
              " ' from  omosule john iberuoluwa : good to be here',\n",
              " ' from  masoi : 👍',\n",
              " ' from  omosule john iberuoluwa : we can hear you',\n",
              " ' from  ian yegon : we can hear you well',\n",
              " ' from  james wachira : good to be here ',\n",
              " ' from  geoffry kiptoo : i can hear you',\n",
              " ' from  aa : we can hear lima and charlie',\n",
              " ' from  kyalo : 👍',\n",
              " ' from  william : we can hear u loud and clear',\n",
              " ' from  kyalo : ,, join call over the internet ',\n",
              " \" from  kyalo : there's a button for that option \",\n",
              " ' from  omosule john iberuoluwa : john from nigeria',\n",
              " ' from  karijatu nadjiru : karijatu a business analytics and strategy intern with access bank  limited zambia. looking forward to learning.',\n",
              " ' from  sasha achieng : welcome john.',\n",
              " ' from  sasha achieng : welcome karijatu',\n",
              " ' from  william : william okomba.. moringa school data science student.',\n",
              " ' from  isaac looremeta : kenyan joining from kigali, rwanda.  student at cmu-africa',\n",
              " \" from  neshley davis : hello all, i'm davis from nairobi, kenya. junior research analyst.\",\n",
              " ' from  ekipkoech : enock, from ',\n",
              " ' from  joyleen.rotich : joyleen, in nairobi ncba bank, it operations ,interested in specializing in data science in my career, ready to learn ',\n",
              " ' from  albert owusu-banie : i am albert from ghana. ',\n",
              " 'nan',\n",
              " ' from  victor mandela : hello, victor mandela data science guru at xetova. i work around building interactive production platforms that are informed by data.',\n",
              " ' from  bongani : bongani from south africa',\n",
              " \" from  kevin chesa : hello guys, kevin chesa. data analyst/scientist consultant at trademark ea. excited to learn and meet y'all. \",\n",
              " ' from  victor mandela : i am here not to ask questions that matter.!',\n",
              " ' from  ekipkoech : enock, from nairobi data analyst & hrmis analyst',\n",
              " ' from  meshack mbonge : hello, meshack mbonge, a digital marketer based in nairobi and data science student',\n",
              " ' from  gladys muthoni kamau : gladys from kenya data scientist intern at kcb ',\n",
              " ' from  eric m. : eric here, data scientist at bayer for cluster africa',\n",
              " ' from  david muna : david,ds student moringa',\n",
              " ' from  aa : arnold, data analyst pkf ',\n",
              " ' from  kyalo : kyalo, computer science uon student,  data science enthusiast ',\n",
              " ' from  kev mutegi : mutegi, m&e consultant- health',\n",
              " ' from  griffin : griffin, data science student moringa',\n",
              " ' from  sharon : sharon nyabuti,',\n",
              " 'nan',\n",
              " ' from  gladys muthoni kamau : if you inboxed me kindly resend the text, just got disconnected ',\n",
              " ' from  carol muchemi : carol, data scientist in ada lab africa. ',\n",
              " ' from  chris kimathi : chris strategy & analytics gulf african bank',\n",
              " ' from  valentine mwangi : connect with sharon omega on linkedin: https://www.linkedin.com/in/sharon-omwega-570b6a103/',\n",
              " ' from  valentine mwangi : *omwega',\n",
              " ' from  bonface thaa : hi guys, bonface thaa. lead software engineer and data enthusiast from nairobi.',\n",
              " ' from  lijan : lijan, digital banking risk management stanchart bank kenya',\n",
              " ' from  walter n : walter, statistics and computer science student tum,  also a data science enthusiast ',\n",
              " ' from  lesego letimela : lesego letimela, enthusiast, south africa',\n",
              " ' from  jason : jason, electrical engineer (renewables)',\n",
              " ' from  parmutia makui : parmutia, data scientist at world agroforestry',\n",
              " \" from  jacob ukokobili : please i'd like to have slide after presentation. thank you.\",\n",
              " ' from  roy kinoti : roy, computer science and statistics student at technical university of mombasa ',\n",
              " ' from  sasha achieng : connect with sharon omega on linkedin: https://www.linkedin.com/in/sharon-omwega-570b6a103/',\n",
              " ' from  sasha achieng : we will share a recording post the event just incase you face technical issues. in the meantime drop your questions here.',\n",
              " ' from  james wachira : wachira, system admin, trailmycar (applied statistics with computing) ',\n",
              " ' from  sasha achieng : welcome james.',\n",
              " ' from  james wachira : thanks sasha',\n",
              " ' from  omosule john iberuoluwa : thanks sharon',\n",
              " ' from  gikunda mbiriri : great presentation sharon',\n",
              " ' from  sasha achieng : thank you sharon',\n",
              " ' from  bertrand fotsing   to   sasha achieng(privately) : questions :',\n",
              " 'nan',\n",
              " 'nan',\n",
              " ' from  mitchell : there are times the data speaks to something different from what the business knows. how do you go about that ',\n",
              " ' from  tom radido : thanks sharon, great presentation',\n",
              " ' from  jacob ukokobili : thanks sharon, awesome presentation. please are you married',\n",
              " ' from  meshack mbonge : great presentation sharon, thank you. as a student, i would be keen to know what learning path you took',\n",
              " ' from  william : wonderful presentation',\n",
              " 'nan',\n",
              " ' from  lijan : in kenya context how will data protection act constrain say the credit scoring for a fully digital bank in terms real-time data',\n",
              " \" from  stanley kang'ethe : please share your learning curve sharon\",\n",
              " \" from  michael ng'ang'a : future of credit scoring: in my view, yes its all about profiling customers and it would help a lot if we have additional data (transactional data) in the mix to help in making faster decisions and improving the loaning process.\",\n",
              " ' from  gikunda mbiriri : your learning path please',\n",
              " ' from  kev mutegi : comprehensive presentation. it would be great in your presentation to have a snapshot of outputs maybe from a case study analysis, visualizations or other examples for each of the 6 steps credit scoring methodology. ',\n",
              " ' from  john wafula : please share your learning roadmap sharon',\n",
              " ' from  kanorio purity : how many variables do you feed the logistic model',\n",
              " ' from  sasha achieng : hi  we will have a workshop on building credit scoring models next week. more information will be shared at the end of todays webinar....',\n",
              " ' from  poly : just to add to why neural nets are not suitable in the banking industry is because neural nets can not be  easily explained',\n",
              " ' from  rachel chune : great presentation sharon',\n",
              " ' from  poly : banks are very paranoid they mostly have on premise it services',\n",
              " ' from  alvin ndungu : do you incorporate docker and kubernetes into you models and deployment',\n",
              " ' from  gladys muthoni kamau : wow...great presentation sharon.',\n",
              " ' from  sasha achieng : connect with sharon: https://www.linkedin.com/in/sharon-omwega-570b6a103/',\n",
              " \" from  ng'ethe bernice : could you please resend her linkedin profile\",\n",
              " ' from  precy mae : thank you sharon',\n",
              " ' from  sasha achieng : connect with sharon: https://www.linkedin.com/in/sharon-omwega-570b6a103/',\n",
              " ' from  sasha achieng : hi chris :-)',\n",
              " ' from  sharon omwega : hello  elkamel, banks have taken initiative and have started to shift resources to collecting data and storing data using best practice methods. they now understand that data is silver but interpretable data is cold.',\n",
              " ' from  valentine mwangi : chris orwa linkedin profile:',\n",
              " ' from  valentine mwangi : https://www.linkedin.com/in/chrisorwa/',\n",
              " ' from  sharon omwega :  ngotho banks collaborate with the crb to enrich the data that they use to build models. its a symbiotic relationship, we provide them with loan performance data and they share with us crb info as well',\n",
              " ' from  sharon omwega : hello  k, we are exposed to approximately 100+ variables but end up using 12 - 16 variables in the logistic regression model',\n",
              " \" from  michael ng'ang'a : hi , , would the banks be overstepping if they considered additional information (data about customers) to help in credit scoring by referencing other sources with customer data like shopping, holidaying trends etc..., similar to the reference they make at iprs (people registrations records with the govt) during kyc.\",\n",
              " ' from  victor mandela : also asked a question ',\n",
              " ' from  jerry tarus : it would be a miniature of human profiling. ',\n",
              " ' from  sharon omwega :  once the scorecard is developed and put in production, it is now an automated process. the repetitive part is in the credit scorecard monitoring. however, there are ways to automate these reports and get real time interactive dashboards and information on the performance of the models. ',\n",
              " ' from  victor mageto :  you mentioned on feature engineering to close the gap for lack of sufficient data, could you mention more data augmentation techniques one can use. ',\n",
              " ' from  laban bore : comment on human intervention vs ab testing vs ml models in answering the questions/problem  ',\n",
              " ' from  victor mageto :  could that lead to underfitting',\n",
              " ' from  omosule john iberuoluwa : talking about roles and columns',\n",
              " ' from  omosule john iberuoluwa : *rows',\n",
              " ' from  laban bore : comment on human intervention vs ab testing vs ml models in answering the questions/problem  ',\n",
              " ' from  isaac byron :  all these do you need a gpu or tpus to handle these bank data or just normal pcs can do ',\n",
              " ' from  adrianteri : thanks blackorwa',\n",
              " ' from  sasha achieng : thank you chris orwa',\n",
              " ' from  daniel kurui : thanks guys!',\n",
              " ' from  william : thanks chris',\n",
              " ' from  kev mutegi : it will be great to learn more on simulations especially in sectors with data limitations and incoherences',\n",
              " ' from  sharon omwega : , yes we do use docker etc.',\n",
              " ' from  omosule john iberuoluwa : thank you chris',\n",
              " ' from  samuel wahome : thank you chris ',\n",
              " ' from  rachel chune : thank you chris',\n",
              " ' from  jerry tarus : we are losing you ',\n",
              " ' from  kyalo : thank you chris ',\n",
              " ' from  tom radido : thanks chris',\n",
              " ' from  chris orwa : thank you, everyone',\n",
              " ' from  chris orwa : face recognition  has been piloted in banks for kyc process, but there has been concerns about who is responsible if the face recognition systems make a wrong decision',\n",
              " ' from  chris orwa : anything above 70 percent accuracy is good in general banking but not in credit. you need higher precision just like in the medical field',\n",
              " ' from  malcolm maliti   to   sasha achieng(privately) : hi sasha, will you please share the recorded clip when available for me please, i joined very late and i was very interested in this topic. malcolmisto.com',\n",
              " ' from  sasha achieng   to   malcolm maliti(privately) : got it',\n",
              " ' from  malcolm maliti   to   sasha achieng(privately) : thank you very much',\n",
              " \" from  valentine mwangi : donna's linkedin: https://www.linkedin.com/in/donna-naishorwa-b685a7aa/\",\n",
              " ' from  victor mageto : given its a supervised classification i believe applying svm algorithm with linear kernel function can also provide higher accuracy. ',\n",
              " ' from  omosule john iberuoluwa : i think inactive/active customer should be considered for the classification problem.',\n",
              " ' from  sasha achieng : thank you so much donna',\n",
              " ' from  patrick mwizero : thank you',\n",
              " ' from  jay r : hi donna,',\n",
              " 'nan',\n",
              " 'nan',\n",
              " ' from  chris orwa : it is a tall order but we should have a lobby, not just knbs but all government agencies',\n",
              " ' from  jason :  learning paths',\n",
              " ' from  rachel chune : thank you donna',\n",
              " ' from  kev mutegi : the last presentor was super! please share presentations as well as contacts',\n",
              " \" from  valentine mwangi : donna's linkedin: https://www.linkedin.com/in/donna-naishorwa-b685a7aa/\",\n",
              " \" from  valentine mwangi : donna's linkedin: https://www.linkedin.com/in/donna-naishorwa-b685a7aa/\",\n",
              " ' from  valentine mwangi : kindly fill in the following feedback form:',\n",
              " ' from  valentine mwangi : http://bit.ly/datascienceinbankingfeedback',\n",
              " ' from  valentine mwangi : we will also be sending you the recording to you once you fill the form.',\n",
              " ' from  valentine mwangi : http://bit.ly/datascienceinbankingfeedback',\n",
              " ' from  omosule john iberuoluwa : where can i maintain a portfolio of work.',\n",
              " ' from  roy kinoti : kindly resend the feedback link',\n",
              " ' from  omosule john iberuoluwa : please i need an answer to this.',\n",
              " ' from  neshley davis : thanks all for the great insights. learning a lot',\n",
              " ' from  jason : thanks valentine for this. lets have more of such events.',\n",
              " ' from  sasha achieng : if you are interested in getting started with data science you can check out what we offer at moringa school -https://moringaschool.com/courses/data-science-course',\n",
              " ' from  sasha achieng : we will also be sending you the recording to you once you fill the form.',\n",
              " 'nan',\n",
              " ' from  jerry tarus   to   sasha achieng(privately) : hey sasha, kindly share with me your contact details. i need to catch up with you and enquire something.',\n",
              " ' from  carol muchemi : thank you chris. ',\n",
              " ' from  sasha achieng   to   jason(privately) : hi jason please email us on contact.com ',\n",
              " ' from  sasha achieng   to   jerry tarus(privately) : hi you can reach me on sasha.achieng.com',\n",
              " ' from  jason   to   sasha achieng(privately) : okay. will do',\n",
              " \" from  stanley kang'ethe   to   sasha achieng(privately) : do give certificates after completing the course at moringa\",\n",
              " \" from  sasha achieng   to   stanley kang'ethe(privately) : yes we do\",\n",
              " \" from  sasha achieng   to   stanley kang'ethe(privately) : email us on contact.com\",\n",
              " \" from  stanley kang'ethe   to   sasha achieng(privately) : thank you,i will get in touch\",\n",
              " ' from  wanjohi christopher : thanks for insights',\n",
              " ' from  omosule john iberuoluwa : where can i maintain a portfolio of work.',\n",
              " ' from  sasha achieng : thank you so much everybody!',\n",
              " ' from  cherono k : thank you. learnt a lot.',\n",
              " ' from  jerry tarus   to   sasha achieng(privately) : thank you',\n",
              " ' from  jacob ukokobili : thanks guys ',\n",
              " ' from  nape : thanks for the session.',\n",
              " ' from  omosule john iberuoluwa : thank you all',\n",
              " ' from  valentine mwangi : more information about afterwork: https://afterwork.ai',\n",
              " ' from  alvion : thank you',\n",
              " ' from  sasha achieng : looking forward to hosting you in the future!',\n",
              " ' from  jerry tarus   to   sasha achieng(privately) : the session has been awesome',\n",
              " ' from  griffin : thank you',\n",
              " ' from  bill : thanks']"
            ]
          },
          "metadata": {
            "tags": []
          },
          "execution_count": 29
        }
      ]
    },
    {
      "cell_type": "code",
      "metadata": {
        "colab": {
          "base_uri": "https://localhost:8080/"
        },
        "id": "eMgkyJIaFShp",
        "outputId": "087b10d7-8a96-42b1-f24b-807fdcdc78e0"
      },
      "source": [
        "len(answers_list)"
      ],
      "execution_count": null,
      "outputs": [
        {
          "output_type": "execute_result",
          "data": {
            "text/plain": [
              "175"
            ]
          },
          "metadata": {
            "tags": []
          },
          "execution_count": 30
        }
      ]
    },
    {
      "cell_type": "code",
      "metadata": {
        "colab": {
          "base_uri": "https://localhost:8080/",
          "height": 414
        },
        "id": "F_-c1VwCEsJE",
        "outputId": "4f406ac8-30d4-4715-9fc3-89693223d515"
      },
      "source": [
        "answers_df = pd.DataFrame(answers_list)\n",
        "answers_df"
      ],
      "execution_count": null,
      "outputs": [
        {
          "output_type": "execute_result",
          "data": {
            "text/html": [
              "<div>\n",
              "<style scoped>\n",
              "    .dataframe tbody tr th:only-of-type {\n",
              "        vertical-align: middle;\n",
              "    }\n",
              "\n",
              "    .dataframe tbody tr th {\n",
              "        vertical-align: top;\n",
              "    }\n",
              "\n",
              "    .dataframe thead th {\n",
              "        text-align: right;\n",
              "    }\n",
              "</style>\n",
              "<table border=\"1\" class=\"dataframe\">\n",
              "  <thead>\n",
              "    <tr style=\"text-align: right;\">\n",
              "      <th></th>\n",
              "      <th>0</th>\n",
              "    </tr>\n",
              "  </thead>\n",
              "  <tbody>\n",
              "    <tr>\n",
              "      <th>0</th>\n",
              "      <td>from  valentine mwangi   to   sasha achieng(p...</td>\n",
              "    </tr>\n",
              "    <tr>\n",
              "      <th>1</th>\n",
              "      <td>from  jerry tarus : i hope so also</td>\n",
              "    </tr>\n",
              "    <tr>\n",
              "      <th>2</th>\n",
              "      <td>from  sasha achieng : yes</td>\n",
              "    </tr>\n",
              "    <tr>\n",
              "      <th>3</th>\n",
              "      <td>from  d : thanks</td>\n",
              "    </tr>\n",
              "    <tr>\n",
              "      <th>4</th>\n",
              "      <td>from  jerry tarus : thanks sasha</td>\n",
              "    </tr>\n",
              "    <tr>\n",
              "      <th>...</th>\n",
              "      <td>...</td>\n",
              "    </tr>\n",
              "    <tr>\n",
              "      <th>170</th>\n",
              "      <td>from  alvion : thank you</td>\n",
              "    </tr>\n",
              "    <tr>\n",
              "      <th>171</th>\n",
              "      <td>from  sasha achieng : looking forward to host...</td>\n",
              "    </tr>\n",
              "    <tr>\n",
              "      <th>172</th>\n",
              "      <td>from  jerry tarus   to   sasha achieng(privat...</td>\n",
              "    </tr>\n",
              "    <tr>\n",
              "      <th>173</th>\n",
              "      <td>from  griffin : thank you</td>\n",
              "    </tr>\n",
              "    <tr>\n",
              "      <th>174</th>\n",
              "      <td>from  bill : thanks</td>\n",
              "    </tr>\n",
              "  </tbody>\n",
              "</table>\n",
              "<p>175 rows × 1 columns</p>\n",
              "</div>"
            ],
            "text/plain": [
              "                                                     0\n",
              "0     from  valentine mwangi   to   sasha achieng(p...\n",
              "1                   from  jerry tarus : i hope so also\n",
              "2                           from  sasha achieng : yes \n",
              "3                                     from  d : thanks\n",
              "4                     from  jerry tarus : thanks sasha\n",
              "..                                                 ...\n",
              "170                           from  alvion : thank you\n",
              "171   from  sasha achieng : looking forward to host...\n",
              "172   from  jerry tarus   to   sasha achieng(privat...\n",
              "173                          from  griffin : thank you\n",
              "174                                from  bill : thanks\n",
              "\n",
              "[175 rows x 1 columns]"
            ]
          },
          "metadata": {
            "tags": []
          },
          "execution_count": 31
        }
      ]
    },
    {
      "cell_type": "markdown",
      "metadata": {
        "id": "3D71fbfgC0Cl"
      },
      "source": [
        "Convert list to dataframe"
      ]
    }
  ]
}