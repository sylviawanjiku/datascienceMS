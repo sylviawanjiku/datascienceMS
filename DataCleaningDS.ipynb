{
  "nbformat": 4,
  "nbformat_minor": 0,
  "metadata": {
    "colab": {
      "name": "DataCleaningDS.ipynb",
      "provenance": [],
      "authorship_tag": "ABX9TyMALjZxPouVoX3jWFBY+mP1",
      "include_colab_link": true
    },
    "kernelspec": {
      "name": "python3",
      "display_name": "Python 3"
    },
    "language_info": {
      "name": "python"
    }
  },
  "cells": [
    {
      "cell_type": "markdown",
      "metadata": {
        "id": "view-in-github",
        "colab_type": "text"
      },
      "source": [
        "<a href=\"https://colab.research.google.com/github/sylviawanjiku/datascienceMS/blob/main/DataCleaningDS.ipynb\" target=\"_parent\"><img src=\"https://colab.research.google.com/assets/colab-badge.svg\" alt=\"Open In Colab\"/></a>"
      ]
    },
    {
      "cell_type": "markdown",
      "metadata": {
        "id": "DzH3Iaf7D_5B"
      },
      "source": [
        "Read Data"
      ]
    },
    {
      "cell_type": "code",
      "metadata": {
        "id": "dfPm02Sr3k6I"
      },
      "source": [
        "import pandas as pd"
      ],
      "execution_count": 162,
      "outputs": []
    },
    {
      "cell_type": "code",
      "metadata": {
        "colab": {
          "base_uri": "https://localhost:8080/",
          "height": 202
        },
        "id": "2POy8ZkvEEEW",
        "outputId": "3cc00a69-d138-4b14-e3c0-fffdcf84e6ed"
      },
      "source": [
        "data = pd.read_csv('ds_part-time_14thJune2021.txt',error_bad_lines=False,sep='\\t',header=None,names=[\"Time\", \"Users\", \"Details\"])\n",
        "type(data)\n",
        "data.head(5)"
      ],
      "execution_count": 163,
      "outputs": [
        {
          "output_type": "execute_result",
          "data": {
            "text/html": [
              "<div>\n",
              "<style scoped>\n",
              "    .dataframe tbody tr th:only-of-type {\n",
              "        vertical-align: middle;\n",
              "    }\n",
              "\n",
              "    .dataframe tbody tr th {\n",
              "        vertical-align: top;\n",
              "    }\n",
              "\n",
              "    .dataframe thead th {\n",
              "        text-align: right;\n",
              "    }\n",
              "</style>\n",
              "<table border=\"1\" class=\"dataframe\">\n",
              "  <thead>\n",
              "    <tr style=\"text-align: right;\">\n",
              "      <th></th>\n",
              "      <th>Time</th>\n",
              "      <th>Users</th>\n",
              "      <th>Details</th>\n",
              "    </tr>\n",
              "  </thead>\n",
              "  <tbody>\n",
              "    <tr>\n",
              "      <th>0</th>\n",
              "      <td>00:31:55</td>\n",
              "      <td>Moringa school Events:</td>\n",
              "      <td>Love all the quotes coming in!</td>\n",
              "    </tr>\n",
              "    <tr>\n",
              "      <th>1</th>\n",
              "      <td>00:34:20</td>\n",
              "      <td>Kendi Muchungi:</td>\n",
              "      <td>What about NoSQL now integral to Data Science?</td>\n",
              "    </tr>\n",
              "    <tr>\n",
              "      <th>2</th>\n",
              "      <td>00:36:10</td>\n",
              "      <td>Shawn KA100A:</td>\n",
              "      <td>Kindly increase your mic volume</td>\n",
              "    </tr>\n",
              "    <tr>\n",
              "      <th>3</th>\n",
              "      <td>00:36:37</td>\n",
              "      <td>Shawn KA100A:</td>\n",
              "      <td>yes</td>\n",
              "    </tr>\n",
              "    <tr>\n",
              "      <th>4</th>\n",
              "      <td>00:36:39</td>\n",
              "      <td>Shawn KA100A:</td>\n",
              "      <td>yes</td>\n",
              "    </tr>\n",
              "  </tbody>\n",
              "</table>\n",
              "</div>"
            ],
            "text/plain": [
              "       Time  ...                                         Details\n",
              "0  00:31:55  ...                 Love all the quotes coming in! \n",
              "1  00:34:20  ...  What about NoSQL now integral to Data Science?\n",
              "2  00:36:10  ...                 Kindly increase your mic volume\n",
              "3  00:36:37  ...                                             yes\n",
              "4  00:36:39  ...                                             yes\n",
              "\n",
              "[5 rows x 3 columns]"
            ]
          },
          "metadata": {
            "tags": []
          },
          "execution_count": 163
        }
      ]
    },
    {
      "cell_type": "markdown",
      "metadata": {
        "id": "ylNZOlrOFPqd"
      },
      "source": [
        "Drop NULL rows"
      ]
    },
    {
      "cell_type": "code",
      "metadata": {
        "colab": {
          "base_uri": "https://localhost:8080/"
        },
        "id": "EMInQmXAFWnO",
        "outputId": "043019be-d5bd-4ad0-9043-bd860609aa6c"
      },
      "source": [
        "data.info()"
      ],
      "execution_count": 164,
      "outputs": [
        {
          "output_type": "stream",
          "text": [
            "<class 'pandas.core.frame.DataFrame'>\n",
            "RangeIndex: 91 entries, 0 to 90\n",
            "Data columns (total 3 columns):\n",
            " #   Column   Non-Null Count  Dtype \n",
            "---  ------   --------------  ----- \n",
            " 0   Time     91 non-null     object\n",
            " 1   Users    86 non-null     object\n",
            " 2   Details  86 non-null     object\n",
            "dtypes: object(3)\n",
            "memory usage: 2.3+ KB\n"
          ],
          "name": "stdout"
        }
      ]
    },
    {
      "cell_type": "code",
      "metadata": {
        "colab": {
          "base_uri": "https://localhost:8080/"
        },
        "id": "OADUpTC3FjBr",
        "outputId": "c87cac76-c475-4e33-e86e-c4a62993dc4a"
      },
      "source": [
        "data=data.dropna()\n",
        "data.info()"
      ],
      "execution_count": 165,
      "outputs": [
        {
          "output_type": "stream",
          "text": [
            "<class 'pandas.core.frame.DataFrame'>\n",
            "Int64Index: 86 entries, 0 to 90\n",
            "Data columns (total 3 columns):\n",
            " #   Column   Non-Null Count  Dtype \n",
            "---  ------   --------------  ----- \n",
            " 0   Time     86 non-null     object\n",
            " 1   Users    86 non-null     object\n",
            " 2   Details  86 non-null     object\n",
            "dtypes: object(3)\n",
            "memory usage: 2.7+ KB\n"
          ],
          "name": "stdout"
        }
      ]
    },
    {
      "cell_type": "code",
      "metadata": {
        "colab": {
          "base_uri": "https://localhost:8080/",
          "height": 414
        },
        "id": "V7HNyxeUFxcW",
        "outputId": "4268abe6-43ca-4b42-ba46-41cc532b05fb"
      },
      "source": [
        "drop_list = ['Time','Users']\n",
        "df = data.drop(columns=drop_list)\n",
        "df"
      ],
      "execution_count": 166,
      "outputs": [
        {
          "output_type": "execute_result",
          "data": {
            "text/html": [
              "<div>\n",
              "<style scoped>\n",
              "    .dataframe tbody tr th:only-of-type {\n",
              "        vertical-align: middle;\n",
              "    }\n",
              "\n",
              "    .dataframe tbody tr th {\n",
              "        vertical-align: top;\n",
              "    }\n",
              "\n",
              "    .dataframe thead th {\n",
              "        text-align: right;\n",
              "    }\n",
              "</style>\n",
              "<table border=\"1\" class=\"dataframe\">\n",
              "  <thead>\n",
              "    <tr style=\"text-align: right;\">\n",
              "      <th></th>\n",
              "      <th>Details</th>\n",
              "    </tr>\n",
              "  </thead>\n",
              "  <tbody>\n",
              "    <tr>\n",
              "      <th>0</th>\n",
              "      <td>Love all the quotes coming in!</td>\n",
              "    </tr>\n",
              "    <tr>\n",
              "      <th>1</th>\n",
              "      <td>What about NoSQL now integral to Data Science?</td>\n",
              "    </tr>\n",
              "    <tr>\n",
              "      <th>2</th>\n",
              "      <td>Kindly increase your mic volume</td>\n",
              "    </tr>\n",
              "    <tr>\n",
              "      <th>3</th>\n",
              "      <td>yes</td>\n",
              "    </tr>\n",
              "    <tr>\n",
              "      <th>4</th>\n",
              "      <td>yes</td>\n",
              "    </tr>\n",
              "    <tr>\n",
              "      <th>...</th>\n",
              "      <td>...</td>\n",
              "    </tr>\n",
              "    <tr>\n",
              "      <th>86</th>\n",
              "      <td>thanks @sarah</td>\n",
              "    </tr>\n",
              "    <tr>\n",
              "      <th>87</th>\n",
              "      <td>Thank you Kevin, Sasha and Mark</td>\n",
              "    </tr>\n",
              "    <tr>\n",
              "      <th>88</th>\n",
              "      <td>Bye</td>\n",
              "    </tr>\n",
              "    <tr>\n",
              "      <th>89</th>\n",
              "      <td>Thank you, this was nice</td>\n",
              "    </tr>\n",
              "    <tr>\n",
              "      <th>90</th>\n",
              "      <td>Thank you and have a great evening!</td>\n",
              "    </tr>\n",
              "  </tbody>\n",
              "</table>\n",
              "<p>86 rows × 1 columns</p>\n",
              "</div>"
            ],
            "text/plain": [
              "                                           Details\n",
              "0                  Love all the quotes coming in! \n",
              "1   What about NoSQL now integral to Data Science?\n",
              "2                  Kindly increase your mic volume\n",
              "3                                              yes\n",
              "4                                              yes\n",
              "..                                             ...\n",
              "86                                   thanks @sarah\n",
              "87                 Thank you Kevin, Sasha and Mark\n",
              "88                                             Bye\n",
              "89                        Thank you, this was nice\n",
              "90             Thank you and have a great evening!\n",
              "\n",
              "[86 rows x 1 columns]"
            ]
          },
          "metadata": {
            "tags": []
          },
          "execution_count": 166
        }
      ]
    },
    {
      "cell_type": "code",
      "metadata": {
        "id": "0CMpk32CuYZa"
      },
      "source": [
        "#Remove @user\n",
        "def remove_users(conversation,pattern1,pattern2):\n",
        "  r = re.findall(pattern1, conversation)\n",
        "  for i in r:\n",
        "      conversation = re.sub(i, '', conversation)\n",
        "\n",
        "  r = re.findall(pattern2, conversation)\n",
        "  for i in r:\n",
        "      conversation = re.sub(i, '', conversation)\n",
        "  return conversation"
      ],
      "execution_count": 167,
      "outputs": []
    },
    {
      "cell_type": "code",
      "metadata": {
        "colab": {
          "base_uri": "https://localhost:8080/"
        },
        "id": "ucNq5jSKumea",
        "outputId": "5cf6ac6f-8f33-4f83-964c-065610c04ea2"
      },
      "source": [
        "convo = df['Details']\n",
        "convo"
      ],
      "execution_count": 168,
      "outputs": [
        {
          "output_type": "execute_result",
          "data": {
            "text/plain": [
              "0                    Love all the quotes coming in! \n",
              "1     What about NoSQL now integral to Data Science?\n",
              "2                    Kindly increase your mic volume\n",
              "3                                                yes\n",
              "4                                                yes\n",
              "                           ...                      \n",
              "86                                     thanks @sarah\n",
              "87                   Thank you Kevin, Sasha and Mark\n",
              "88                                               Bye\n",
              "89                          Thank you, this was nice\n",
              "90               Thank you and have a great evening!\n",
              "Name: Details, Length: 86, dtype: object"
            ]
          },
          "metadata": {
            "tags": []
          },
          "execution_count": 168
        }
      ]
    },
    {
      "cell_type": "code",
      "metadata": {
        "colab": {
          "base_uri": "https://localhost:8080/",
          "height": 414
        },
        "id": "X97-YkRMfeP_",
        "outputId": "0b245f31-e775-42dc-a75b-3e103e0ac0e9"
      },
      "source": [
        "import numpy as np\n",
        "import re\n",
        "\n",
        "df['convo_text']= np.vectorize(remove_users)(convo,\"@[\\w]*\", \"@[\\w]*\")\n",
        "df['convo_text'].head(20)\n",
        "df"
      ],
      "execution_count": 169,
      "outputs": [
        {
          "output_type": "execute_result",
          "data": {
            "text/html": [
              "<div>\n",
              "<style scoped>\n",
              "    .dataframe tbody tr th:only-of-type {\n",
              "        vertical-align: middle;\n",
              "    }\n",
              "\n",
              "    .dataframe tbody tr th {\n",
              "        vertical-align: top;\n",
              "    }\n",
              "\n",
              "    .dataframe thead th {\n",
              "        text-align: right;\n",
              "    }\n",
              "</style>\n",
              "<table border=\"1\" class=\"dataframe\">\n",
              "  <thead>\n",
              "    <tr style=\"text-align: right;\">\n",
              "      <th></th>\n",
              "      <th>Details</th>\n",
              "      <th>convo_text</th>\n",
              "    </tr>\n",
              "  </thead>\n",
              "  <tbody>\n",
              "    <tr>\n",
              "      <th>0</th>\n",
              "      <td>Love all the quotes coming in!</td>\n",
              "      <td>Love all the quotes coming in!</td>\n",
              "    </tr>\n",
              "    <tr>\n",
              "      <th>1</th>\n",
              "      <td>What about NoSQL now integral to Data Science?</td>\n",
              "      <td>What about NoSQL now integral to Data Science?</td>\n",
              "    </tr>\n",
              "    <tr>\n",
              "      <th>2</th>\n",
              "      <td>Kindly increase your mic volume</td>\n",
              "      <td>Kindly increase your mic volume</td>\n",
              "    </tr>\n",
              "    <tr>\n",
              "      <th>3</th>\n",
              "      <td>yes</td>\n",
              "      <td>yes</td>\n",
              "    </tr>\n",
              "    <tr>\n",
              "      <th>4</th>\n",
              "      <td>yes</td>\n",
              "      <td>yes</td>\n",
              "    </tr>\n",
              "    <tr>\n",
              "      <th>...</th>\n",
              "      <td>...</td>\n",
              "      <td>...</td>\n",
              "    </tr>\n",
              "    <tr>\n",
              "      <th>86</th>\n",
              "      <td>thanks @sarah</td>\n",
              "      <td>thanks</td>\n",
              "    </tr>\n",
              "    <tr>\n",
              "      <th>87</th>\n",
              "      <td>Thank you Kevin, Sasha and Mark</td>\n",
              "      <td>Thank you Kevin, Sasha and Mark</td>\n",
              "    </tr>\n",
              "    <tr>\n",
              "      <th>88</th>\n",
              "      <td>Bye</td>\n",
              "      <td>Bye</td>\n",
              "    </tr>\n",
              "    <tr>\n",
              "      <th>89</th>\n",
              "      <td>Thank you, this was nice</td>\n",
              "      <td>Thank you, this was nice</td>\n",
              "    </tr>\n",
              "    <tr>\n",
              "      <th>90</th>\n",
              "      <td>Thank you and have a great evening!</td>\n",
              "      <td>Thank you and have a great evening!</td>\n",
              "    </tr>\n",
              "  </tbody>\n",
              "</table>\n",
              "<p>86 rows × 2 columns</p>\n",
              "</div>"
            ],
            "text/plain": [
              "                                           Details                                      convo_text\n",
              "0                  Love all the quotes coming in!                  Love all the quotes coming in! \n",
              "1   What about NoSQL now integral to Data Science?  What about NoSQL now integral to Data Science?\n",
              "2                  Kindly increase your mic volume                 Kindly increase your mic volume\n",
              "3                                              yes                                             yes\n",
              "4                                              yes                                             yes\n",
              "..                                             ...                                             ...\n",
              "86                                   thanks @sarah                                         thanks \n",
              "87                 Thank you Kevin, Sasha and Mark                 Thank you Kevin, Sasha and Mark\n",
              "88                                             Bye                                             Bye\n",
              "89                        Thank you, this was nice                        Thank you, this was nice\n",
              "90             Thank you and have a great evening!             Thank you and have a great evening!\n",
              "\n",
              "[86 rows x 2 columns]"
            ]
          },
          "metadata": {
            "tags": []
          },
          "execution_count": 169
        }
      ]
    },
    {
      "cell_type": "code",
      "metadata": {
        "colab": {
          "base_uri": "https://localhost:8080/"
        },
        "id": "62Ql64O_u2_T",
        "outputId": "4784438a-93fe-4c37-d9cc-44a8e5c1789a"
      },
      "source": [
        "# NORMALIZATION - converts all convo into lowercase\n",
        "df['convo_text'] = df['convo_text'].str.lower()\n",
        "df['convo_text']"
      ],
      "execution_count": 170,
      "outputs": [
        {
          "output_type": "execute_result",
          "data": {
            "text/plain": [
              "0                    love all the quotes coming in! \n",
              "1     what about nosql now integral to data science?\n",
              "2                    kindly increase your mic volume\n",
              "3                                                yes\n",
              "4                                                yes\n",
              "                           ...                      \n",
              "86                                           thanks \n",
              "87                   thank you kevin, sasha and mark\n",
              "88                                               bye\n",
              "89                          thank you, this was nice\n",
              "90               thank you and have a great evening!\n",
              "Name: convo_text, Length: 86, dtype: object"
            ]
          },
          "metadata": {
            "tags": []
          },
          "execution_count": 170
        }
      ]
    },
    {
      "cell_type": "markdown",
      "metadata": {
        "id": "iUTMH34U6hiD"
      },
      "source": [
        "Check for questions in dataset"
      ]
    },
    {
      "cell_type": "code",
      "metadata": {
        "colab": {
          "base_uri": "https://localhost:8080/"
        },
        "id": "mZ3NP1IF22xP",
        "outputId": "aa4f99f5-d0fa-4d77-e89b-5e003024ab2c"
      },
      "source": [
        "no_of_questions = df.apply(lambda x: x.str.contains('\\?')).sum()\n",
        "no_of_questions"
      ],
      "execution_count": 171,
      "outputs": [
        {
          "output_type": "execute_result",
          "data": {
            "text/plain": [
              "Details       15\n",
              "convo_text    15\n",
              "dtype: int64"
            ]
          },
          "metadata": {
            "tags": []
          },
          "execution_count": 171
        }
      ]
    },
    {
      "cell_type": "code",
      "metadata": {
        "colab": {
          "base_uri": "https://localhost:8080/"
        },
        "id": "vqzMAdqT-3ZH",
        "outputId": "6d9dfeda-38a2-414b-da01-e6395c50dbec"
      },
      "source": [
        "questions_list = []\n",
        "questions_list += [x for x in df['convo_text'] if '?' in x]\n",
        "questions_list"
      ],
      "execution_count": 172,
      "outputs": [
        {
          "output_type": "execute_result",
          "data": {
            "text/plain": [
              "['what about nosql now integral to data science?',\n",
              " 'does the program cater to international students since part of the learning happens in person?',\n",
              " 'what if am not able to attend the saturday classes?',\n",
              " 'are there ips as in sw development?',\n",
              " ', what are ips ?',\n",
              " 'do you bring in industry mentors at moringa?',\n",
              " 'how will it be starting from scratch?',\n",
              " 'does one need to have a background in coding?',\n",
              " 'what about business intelligence analyst?',\n",
              " 'python or r? why do different organisation prefer one or the other? will we use tableau or bl?',\n",
              " 'can one attending a full time prep course enroll in the part time core course?',\n",
              " 'currently working in \\\\monitoring and \\\\evaluation how will this cause improve my skills?',\n",
              " \"do you recommend certain minimum specs in a student's laptop to be used in the learning?\",\n",
              " 'mark can i use anaconda instead of colab?',\n",
              " \"when's the next prep?\"]"
            ]
          },
          "metadata": {
            "tags": []
          },
          "execution_count": 172
        }
      ]
    },
    {
      "cell_type": "code",
      "metadata": {
        "colab": {
          "base_uri": "https://localhost:8080/"
        },
        "id": "yNC4v4jLCgdl",
        "outputId": "f5c53065-a5f0-4403-a42f-1177a308c29b"
      },
      "source": [
        "len(questions_list)"
      ],
      "execution_count": 173,
      "outputs": [
        {
          "output_type": "execute_result",
          "data": {
            "text/plain": [
              "15"
            ]
          },
          "metadata": {
            "tags": []
          },
          "execution_count": 173
        }
      ]
    },
    {
      "cell_type": "code",
      "metadata": {
        "colab": {
          "base_uri": "https://localhost:8080/",
          "height": 508
        },
        "id": "JWGAq9_OFDh0",
        "outputId": "245c20cf-535a-493c-c9a6-b6f202cc5187"
      },
      "source": [
        "questions_df = pd.DataFrame (questions_list,columns=['Questions'])\n",
        "questions_df"
      ],
      "execution_count": 174,
      "outputs": [
        {
          "output_type": "execute_result",
          "data": {
            "text/html": [
              "<div>\n",
              "<style scoped>\n",
              "    .dataframe tbody tr th:only-of-type {\n",
              "        vertical-align: middle;\n",
              "    }\n",
              "\n",
              "    .dataframe tbody tr th {\n",
              "        vertical-align: top;\n",
              "    }\n",
              "\n",
              "    .dataframe thead th {\n",
              "        text-align: right;\n",
              "    }\n",
              "</style>\n",
              "<table border=\"1\" class=\"dataframe\">\n",
              "  <thead>\n",
              "    <tr style=\"text-align: right;\">\n",
              "      <th></th>\n",
              "      <th>Questions</th>\n",
              "    </tr>\n",
              "  </thead>\n",
              "  <tbody>\n",
              "    <tr>\n",
              "      <th>0</th>\n",
              "      <td>what about nosql now integral to data science?</td>\n",
              "    </tr>\n",
              "    <tr>\n",
              "      <th>1</th>\n",
              "      <td>does the program cater to international studen...</td>\n",
              "    </tr>\n",
              "    <tr>\n",
              "      <th>2</th>\n",
              "      <td>what if am not able to attend the saturday cla...</td>\n",
              "    </tr>\n",
              "    <tr>\n",
              "      <th>3</th>\n",
              "      <td>are there ips as in sw development?</td>\n",
              "    </tr>\n",
              "    <tr>\n",
              "      <th>4</th>\n",
              "      <td>, what are ips ?</td>\n",
              "    </tr>\n",
              "    <tr>\n",
              "      <th>5</th>\n",
              "      <td>do you bring in industry mentors at moringa?</td>\n",
              "    </tr>\n",
              "    <tr>\n",
              "      <th>6</th>\n",
              "      <td>how will it be starting from scratch?</td>\n",
              "    </tr>\n",
              "    <tr>\n",
              "      <th>7</th>\n",
              "      <td>does one need to have a background in coding?</td>\n",
              "    </tr>\n",
              "    <tr>\n",
              "      <th>8</th>\n",
              "      <td>what about business intelligence analyst?</td>\n",
              "    </tr>\n",
              "    <tr>\n",
              "      <th>9</th>\n",
              "      <td>python or r? why do different organisation pre...</td>\n",
              "    </tr>\n",
              "    <tr>\n",
              "      <th>10</th>\n",
              "      <td>can one attending a full time prep course enro...</td>\n",
              "    </tr>\n",
              "    <tr>\n",
              "      <th>11</th>\n",
              "      <td>currently working in \\monitoring and \\evaluati...</td>\n",
              "    </tr>\n",
              "    <tr>\n",
              "      <th>12</th>\n",
              "      <td>do you recommend certain minimum specs in a st...</td>\n",
              "    </tr>\n",
              "    <tr>\n",
              "      <th>13</th>\n",
              "      <td>mark can i use anaconda instead of colab?</td>\n",
              "    </tr>\n",
              "    <tr>\n",
              "      <th>14</th>\n",
              "      <td>when's the next prep?</td>\n",
              "    </tr>\n",
              "  </tbody>\n",
              "</table>\n",
              "</div>"
            ],
            "text/plain": [
              "                                            Questions\n",
              "0      what about nosql now integral to data science?\n",
              "1   does the program cater to international studen...\n",
              "2   what if am not able to attend the saturday cla...\n",
              "3                 are there ips as in sw development?\n",
              "4                                    , what are ips ?\n",
              "5        do you bring in industry mentors at moringa?\n",
              "6               how will it be starting from scratch?\n",
              "7       does one need to have a background in coding?\n",
              "8           what about business intelligence analyst?\n",
              "9   python or r? why do different organisation pre...\n",
              "10  can one attending a full time prep course enro...\n",
              "11  currently working in \\monitoring and \\evaluati...\n",
              "12  do you recommend certain minimum specs in a st...\n",
              "13          mark can i use anaconda instead of colab?\n",
              "14                              when's the next prep?"
            ]
          },
          "metadata": {
            "tags": []
          },
          "execution_count": 174
        }
      ]
    },
    {
      "cell_type": "code",
      "metadata": {
        "colab": {
          "base_uri": "https://localhost:8080/"
        },
        "id": "JnAxx2_HDiX7",
        "outputId": "84a44bd0-56e5-4f01-fef5-5f5dd3d1967d"
      },
      "source": [
        "answers_list = []\n",
        "answers_list += [x for x in df['convo_text'] if '?' not in x]\n",
        "answers_list"
      ],
      "execution_count": 175,
      "outputs": [
        {
          "output_type": "execute_result",
          "data": {
            "text/plain": [
              "['love all the quotes coming in! ',\n",
              " 'kindly increase your mic volume',\n",
              " 'yes',\n",
              " 'yes',\n",
              " '',\n",
              " 'drop all your questions here, we will do our best to answer them',\n",
              " '',\n",
              " ' the saturday classes are optional....if you cant attend physically you can join virtually.',\n",
              " 'can the full time online students join in the saturday on campus session',\n",
              " ' - thanks',\n",
              " 'saturday is not possible for me, both virtual or physically. thanks',\n",
              " ' the course caters for international students and we currently have international students in our full-time program. one can opt for virtual or physical on saturday',\n",
              " 'noted, thank you.',\n",
              " ' that is okay ….as long as you cover 15 hours of learning and submit your coursework on time. saturday is optional. ',\n",
              " 'thanks for that👍',\n",
              " \" that's a good question. kevin will address it shortly. \",\n",
              " ' yes there are ips',\n",
              " 'alright mark',\n",
              " 'to answer your question  unfortunately, the saturday classes are only open for part time students.',\n",
              " ' christine: unfortunately, no. the saturday classes are only open for part-time-data science students because we need to maintain out teacher (tm) to student ratios',\n",
              " 'ip stands for independent project where you have a stand alone project based on what you have learnt over the week  d o',\n",
              " ': ip are independent projects that students work on to apply their skills',\n",
              " ' yes we do.... we invite thought leaders every thursday for speaker sessions and we run lots of other professional development workshops with our students.',\n",
              " ' oppo 2, yes, from core, we’ll have mentoring fridays where an industry mentor comes to moringa to deliver a “ted talk” kind of presentation to expose students in the data science field.',\n",
              " ' emmanuel: it would be difficult at start, just like it is when you’re learning any new skill. although if you have a growth mindset, and you’re willing to put the 15 hours per week to learn, practice and apply your skills, you’ll crush the program',\n",
              " 'crisp-dm stands for “cross-industry process for data mining”. the crisp-dm methodology provides a structured approach to planning a data mining project. it is a robust and well-proven methodology. ... the model does not try to capture all possible routes through the data mining process.',\n",
              " ', we are in the same boat',\n",
              " 'that’s encouraging … hahaha.',\n",
              " 'no need to panic  …. you will get support in your learning journey... from content, skills training to technical mentorship',\n",
              " 'mark or kevin kindly bring out the difference between data science and data engineer.',\n",
              " 'to add to oppo2 question',\n",
              " 'analytical engineer',\n",
              " 'came across this the other day',\n",
              " ' 2: this link should help you:https://www.coursereport.com/blog/data-engineering-vs-data-science-vs-machine-learning-engineering-with-springboard',\n",
              " 'thank you',\n",
              " '2021 kevin hahaha',\n",
              " '',\n",
              " 'thank you for the presentation.',\n",
              " 'you will learn tableau',\n",
              " ', thank you',\n",
              " '*15th august 2021',\n",
              " ' and kevin, this is great also think of adding big data in machine learning that touches on pig,spark,zookeeper and bayesian reasoning.',\n",
              " 'most welcome ',\n",
              " 'you should also do part-time for software development class :-)',\n",
              " 'i thought leap belongs to uk residents...just a quick question',\n",
              " \"it's in the works .... very soon\",\n",
              " 'is there a payment plan for prep or we pay once',\n",
              " 'kindly share recording with us after its done,maybe issue was my earpiece',\n",
              " 'yes shawn, will send a link to the recording tomorrow via email you used to rsvp to this event.',\n",
              " 'thank you :)',\n",
              " 'that was quite comprehensive … thanks …',\n",
              " 'feel free to test out the data science assessment test here:- https://moringaschool.com/courses/data-science-course ',\n",
              " 'natural disasters',\n",
              " 'course*',\n",
              " \"don't worry about how you will manage to pay the fees, we have a financial aid program that aims to support all interested students. financial constraints should not be a hindrance to your studies. learn more here:- https://moringaschool.com/financial-aid \",\n",
              " 'thanks',\n",
              " 'nice questions guys..... feel free to type them here or unmute to ask... ',\n",
              " 'great insights ',\n",
              " ' core i5 - i7, 500gb memory, 8gb ram at the minimum',\n",
              " 'very helpful session.',\n",
              " \"i have really enjoyed today's session. i have learnt a lot as well. thanks mark and wakuze!\",\n",
              " 'thanks  nancy',\n",
              " 'thank you all for taking us through thé programme',\n",
              " 'to all students make use of kaggle, zindi websites. thank me later',\n",
              " '',\n",
              " 'thanks mark and kevin. the session was  great. i really learned alot.',\n",
              " 'thanks ',\n",
              " 'thank you kevin, sasha and mark',\n",
              " 'bye',\n",
              " 'thank you, this was nice',\n",
              " 'thank you and have a great evening!']"
            ]
          },
          "metadata": {
            "tags": []
          },
          "execution_count": 175
        }
      ]
    },
    {
      "cell_type": "code",
      "metadata": {
        "colab": {
          "base_uri": "https://localhost:8080/"
        },
        "id": "eMgkyJIaFShp",
        "outputId": "87ca5aad-3753-4ae6-8ea3-11ef5b56739f"
      },
      "source": [
        "len(answers_list)"
      ],
      "execution_count": 176,
      "outputs": [
        {
          "output_type": "execute_result",
          "data": {
            "text/plain": [
              "71"
            ]
          },
          "metadata": {
            "tags": []
          },
          "execution_count": 176
        }
      ]
    },
    {
      "cell_type": "code",
      "metadata": {
        "colab": {
          "base_uri": "https://localhost:8080/",
          "height": 414
        },
        "id": "F_-c1VwCEsJE",
        "outputId": "59d31afc-2e43-4e92-a3ee-de9dc50088d6"
      },
      "source": [
        "answers_df = pd.DataFrame(answers_list)\n",
        "answers_df"
      ],
      "execution_count": 177,
      "outputs": [
        {
          "output_type": "execute_result",
          "data": {
            "text/html": [
              "<div>\n",
              "<style scoped>\n",
              "    .dataframe tbody tr th:only-of-type {\n",
              "        vertical-align: middle;\n",
              "    }\n",
              "\n",
              "    .dataframe tbody tr th {\n",
              "        vertical-align: top;\n",
              "    }\n",
              "\n",
              "    .dataframe thead th {\n",
              "        text-align: right;\n",
              "    }\n",
              "</style>\n",
              "<table border=\"1\" class=\"dataframe\">\n",
              "  <thead>\n",
              "    <tr style=\"text-align: right;\">\n",
              "      <th></th>\n",
              "      <th>0</th>\n",
              "    </tr>\n",
              "  </thead>\n",
              "  <tbody>\n",
              "    <tr>\n",
              "      <th>0</th>\n",
              "      <td>love all the quotes coming in!</td>\n",
              "    </tr>\n",
              "    <tr>\n",
              "      <th>1</th>\n",
              "      <td>kindly increase your mic volume</td>\n",
              "    </tr>\n",
              "    <tr>\n",
              "      <th>2</th>\n",
              "      <td>yes</td>\n",
              "    </tr>\n",
              "    <tr>\n",
              "      <th>3</th>\n",
              "      <td>yes</td>\n",
              "    </tr>\n",
              "    <tr>\n",
              "      <th>4</th>\n",
              "      <td></td>\n",
              "    </tr>\n",
              "    <tr>\n",
              "      <th>...</th>\n",
              "      <td>...</td>\n",
              "    </tr>\n",
              "    <tr>\n",
              "      <th>66</th>\n",
              "      <td>thanks</td>\n",
              "    </tr>\n",
              "    <tr>\n",
              "      <th>67</th>\n",
              "      <td>thank you kevin, sasha and mark</td>\n",
              "    </tr>\n",
              "    <tr>\n",
              "      <th>68</th>\n",
              "      <td>bye</td>\n",
              "    </tr>\n",
              "    <tr>\n",
              "      <th>69</th>\n",
              "      <td>thank you, this was nice</td>\n",
              "    </tr>\n",
              "    <tr>\n",
              "      <th>70</th>\n",
              "      <td>thank you and have a great evening!</td>\n",
              "    </tr>\n",
              "  </tbody>\n",
              "</table>\n",
              "<p>71 rows × 1 columns</p>\n",
              "</div>"
            ],
            "text/plain": [
              "                                      0\n",
              "0       love all the quotes coming in! \n",
              "1       kindly increase your mic volume\n",
              "2                                   yes\n",
              "3                                   yes\n",
              "4                                      \n",
              "..                                  ...\n",
              "66                              thanks \n",
              "67      thank you kevin, sasha and mark\n",
              "68                                  bye\n",
              "69             thank you, this was nice\n",
              "70  thank you and have a great evening!\n",
              "\n",
              "[71 rows x 1 columns]"
            ]
          },
          "metadata": {
            "tags": []
          },
          "execution_count": 177
        }
      ]
    },
    {
      "cell_type": "markdown",
      "metadata": {
        "id": "3D71fbfgC0Cl"
      },
      "source": [
        "Convert list to dataframe"
      ]
    }
  ]
}