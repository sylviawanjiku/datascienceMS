{
  "nbformat": 4,
  "nbformat_minor": 0,
  "metadata": {
    "colab": {
      "name": "Python_Notebook_Solution_Moringa_Data_Science_Prep_W3_Independent_Project_2019_06",
      "provenance": [],
      "collapsed_sections": [],
      "include_colab_link": true
    },
    "kernelspec": {
      "name": "python3",
      "display_name": "Python 3"
    }
  },
  "cells": [
    {
      "cell_type": "markdown",
      "metadata": {
        "id": "view-in-github",
        "colab_type": "text"
      },
      "source": [
        "<a href=\"https://colab.research.google.com/github/sylviawanjiku/datascienceMS/blob/main/Python_Notebook_Solution_Moringa_Data_Science_Prep_W3_Independent_Project_2019_06.ipynb\" target=\"_parent\"><img src=\"https://colab.research.google.com/assets/colab-badge.svg\" alt=\"Open In Colab\"/></a>"
      ]
    },
    {
      "cell_type": "markdown",
      "metadata": {
        "id": "eOx8AJUiM4zA"
      },
      "source": [
        "# Moringa Data Science Prep Independent Project: Week 3"
      ]
    },
    {
      "cell_type": "markdown",
      "metadata": {
        "id": "6aTpv9w3RJ7x"
      },
      "source": [
        "**Question**\n",
        "\n",
        "Currently MTN Cote d'Ivoire would like to upgrade its technology infrastructure for its mobile users in Ivory Coast. Studying the given dataset, how does MTN Cote d'Ivoire go about the upgrade of its infrastructure strategy within the given cities?\n",
        "\n",
        "Questions for consideration:\n",
        "\n",
        "* Which cities were the most used city for the three days?\n",
        "* Which cities were the most used during business and home hours?\n",
        "\n",
        "**Datasets Provided**\n",
        "\n",
        "* cells_geo_description.xlsx [https://drive.google.com/a/moringaschool.com/file/d/1-rIM5ihDu79RaH7rAs-d-7SQSAQhrY9N/view?usp=sharing]\n",
        "* cells_geo.csv [https://drive.google.com/a/moringaschool.com/file/d/1ABZux280OjL3yWcOn8BDA_f5QsyO0QPU/view?usp=sharing]\n",
        "* CDR_description.xlsx [https://drive.google.com/open?id=1cVoNXl25IO5-_yQk97ThdeqhE6yw8YTD]\n",
        "* CDR 20120507 [http://bit.ly/TelecomDataset1]\n",
        "* CDR 20120508 [http://bit.ly/TelecomDataset2]\n",
        "* CDR 20120509 [http://bit.ly/TelecomDataset3]\n",
        "\n",
        "\n"
      ]
    },
    {
      "cell_type": "markdown",
      "metadata": {
        "id": "BsrS1_5OVKR5"
      },
      "source": [
        "### Importing our Libraries"
      ]
    },
    {
      "cell_type": "code",
      "metadata": {
        "id": "9WZbeAcqMxpw"
      },
      "source": [
        "# Importing our required libraries\n",
        "# ---\n",
        "# \n",
        "import pandas as pd\n",
        "import numpy as np"
      ],
      "execution_count": null,
      "outputs": []
    },
    {
      "cell_type": "markdown",
      "metadata": {
        "id": "V1BjJ2TDVNiO"
      },
      "source": [
        "### Loading our Datasets"
      ]
    },
    {
      "cell_type": "code",
      "metadata": {
        "id": "R1w1reTqVUuB",
        "colab": {
          "base_uri": "https://localhost:8080/",
          "height": 1000
        },
        "outputId": "5ddc49ab-2d3d-4246-9ce2-c786174d7464"
      },
      "source": [
        "# Dataset 1\n",
        "# ---\n",
        "# Loading dataset 1 \n",
        "# ---\n",
        "# \n",
        "df = pd.read_csv('http://bit.ly/TelecomDataset1')\n",
        "df.head()"
      ],
      "execution_count": null,
      "outputs": [
        {
          "output_type": "error",
          "ename": "KeyboardInterrupt",
          "evalue": "ignored",
          "traceback": [
            "\u001b[0;31m---------------------------------------------------------------------------\u001b[0m",
            "\u001b[0;31mKeyboardInterrupt\u001b[0m                         Traceback (most recent call last)",
            "\u001b[0;32m<ipython-input-2-6baa48315c26>\u001b[0m in \u001b[0;36m<module>\u001b[0;34m()\u001b[0m\n\u001b[1;32m      4\u001b[0m \u001b[0;31m# ---\u001b[0m\u001b[0;34m\u001b[0m\u001b[0;34m\u001b[0m\u001b[0;34m\u001b[0m\u001b[0m\n\u001b[1;32m      5\u001b[0m \u001b[0;31m#\u001b[0m\u001b[0;34m\u001b[0m\u001b[0;34m\u001b[0m\u001b[0;34m\u001b[0m\u001b[0m\n\u001b[0;32m----> 6\u001b[0;31m \u001b[0mdf\u001b[0m \u001b[0;34m=\u001b[0m \u001b[0mpd\u001b[0m\u001b[0;34m.\u001b[0m\u001b[0mread_csv\u001b[0m\u001b[0;34m(\u001b[0m\u001b[0;34m'http://bit.ly/TelecomDataset1'\u001b[0m\u001b[0;34m)\u001b[0m\u001b[0;34m\u001b[0m\u001b[0;34m\u001b[0m\u001b[0m\n\u001b[0m\u001b[1;32m      7\u001b[0m \u001b[0mdf\u001b[0m\u001b[0;34m.\u001b[0m\u001b[0mhead\u001b[0m\u001b[0;34m(\u001b[0m\u001b[0;34m)\u001b[0m\u001b[0;34m\u001b[0m\u001b[0;34m\u001b[0m\u001b[0m\n",
            "\u001b[0;32m/usr/local/lib/python3.6/dist-packages/pandas/io/parsers.py\u001b[0m in \u001b[0;36mparser_f\u001b[0;34m(filepath_or_buffer, sep, delimiter, header, names, index_col, usecols, squeeze, prefix, mangle_dupe_cols, dtype, engine, converters, true_values, false_values, skipinitialspace, skiprows, skipfooter, nrows, na_values, keep_default_na, na_filter, verbose, skip_blank_lines, parse_dates, infer_datetime_format, keep_date_col, date_parser, dayfirst, cache_dates, iterator, chunksize, compression, thousands, decimal, lineterminator, quotechar, quoting, doublequote, escapechar, comment, encoding, dialect, error_bad_lines, warn_bad_lines, delim_whitespace, low_memory, memory_map, float_precision)\u001b[0m\n\u001b[1;32m    674\u001b[0m         )\n\u001b[1;32m    675\u001b[0m \u001b[0;34m\u001b[0m\u001b[0m\n\u001b[0;32m--> 676\u001b[0;31m         \u001b[0;32mreturn\u001b[0m \u001b[0m_read\u001b[0m\u001b[0;34m(\u001b[0m\u001b[0mfilepath_or_buffer\u001b[0m\u001b[0;34m,\u001b[0m \u001b[0mkwds\u001b[0m\u001b[0;34m)\u001b[0m\u001b[0;34m\u001b[0m\u001b[0;34m\u001b[0m\u001b[0m\n\u001b[0m\u001b[1;32m    677\u001b[0m \u001b[0;34m\u001b[0m\u001b[0m\n\u001b[1;32m    678\u001b[0m     \u001b[0mparser_f\u001b[0m\u001b[0;34m.\u001b[0m\u001b[0m__name__\u001b[0m \u001b[0;34m=\u001b[0m \u001b[0mname\u001b[0m\u001b[0;34m\u001b[0m\u001b[0;34m\u001b[0m\u001b[0m\n",
            "\u001b[0;32m/usr/local/lib/python3.6/dist-packages/pandas/io/parsers.py\u001b[0m in \u001b[0;36m_read\u001b[0;34m(filepath_or_buffer, kwds)\u001b[0m\n\u001b[1;32m    429\u001b[0m     \u001b[0;31m# See https://github.com/python/mypy/issues/1297\u001b[0m\u001b[0;34m\u001b[0m\u001b[0;34m\u001b[0m\u001b[0;34m\u001b[0m\u001b[0m\n\u001b[1;32m    430\u001b[0m     fp_or_buf, _, compression, should_close = get_filepath_or_buffer(\n\u001b[0;32m--> 431\u001b[0;31m         \u001b[0mfilepath_or_buffer\u001b[0m\u001b[0;34m,\u001b[0m \u001b[0mencoding\u001b[0m\u001b[0;34m,\u001b[0m \u001b[0mcompression\u001b[0m\u001b[0;34m\u001b[0m\u001b[0;34m\u001b[0m\u001b[0m\n\u001b[0m\u001b[1;32m    432\u001b[0m     )\n\u001b[1;32m    433\u001b[0m     \u001b[0mkwds\u001b[0m\u001b[0;34m[\u001b[0m\u001b[0;34m\"compression\"\u001b[0m\u001b[0;34m]\u001b[0m \u001b[0;34m=\u001b[0m \u001b[0mcompression\u001b[0m\u001b[0;34m\u001b[0m\u001b[0;34m\u001b[0m\u001b[0m\n",
            "\u001b[0;32m/usr/local/lib/python3.6/dist-packages/pandas/io/common.py\u001b[0m in \u001b[0;36mget_filepath_or_buffer\u001b[0;34m(filepath_or_buffer, encoding, compression, mode)\u001b[0m\n\u001b[1;32m    175\u001b[0m             \u001b[0;31m# Override compression based on Content-Encoding header\u001b[0m\u001b[0;34m\u001b[0m\u001b[0;34m\u001b[0m\u001b[0;34m\u001b[0m\u001b[0m\n\u001b[1;32m    176\u001b[0m             \u001b[0mcompression\u001b[0m \u001b[0;34m=\u001b[0m \u001b[0;34m\"gzip\"\u001b[0m\u001b[0;34m\u001b[0m\u001b[0;34m\u001b[0m\u001b[0m\n\u001b[0;32m--> 177\u001b[0;31m         \u001b[0mreader\u001b[0m \u001b[0;34m=\u001b[0m \u001b[0mBytesIO\u001b[0m\u001b[0;34m(\u001b[0m\u001b[0mreq\u001b[0m\u001b[0;34m.\u001b[0m\u001b[0mread\u001b[0m\u001b[0;34m(\u001b[0m\u001b[0;34m)\u001b[0m\u001b[0;34m)\u001b[0m\u001b[0;34m\u001b[0m\u001b[0;34m\u001b[0m\u001b[0m\n\u001b[0m\u001b[1;32m    178\u001b[0m         \u001b[0mreq\u001b[0m\u001b[0;34m.\u001b[0m\u001b[0mclose\u001b[0m\u001b[0;34m(\u001b[0m\u001b[0;34m)\u001b[0m\u001b[0;34m\u001b[0m\u001b[0;34m\u001b[0m\u001b[0m\n\u001b[1;32m    179\u001b[0m         \u001b[0;32mreturn\u001b[0m \u001b[0mreader\u001b[0m\u001b[0;34m,\u001b[0m \u001b[0mencoding\u001b[0m\u001b[0;34m,\u001b[0m \u001b[0mcompression\u001b[0m\u001b[0;34m,\u001b[0m \u001b[0;32mTrue\u001b[0m\u001b[0;34m\u001b[0m\u001b[0;34m\u001b[0m\u001b[0m\n",
            "\u001b[0;32m/usr/lib/python3.6/http/client.py\u001b[0m in \u001b[0;36mread\u001b[0;34m(self, amt)\u001b[0m\n\u001b[1;32m    470\u001b[0m             \u001b[0;32melse\u001b[0m\u001b[0;34m:\u001b[0m\u001b[0;34m\u001b[0m\u001b[0;34m\u001b[0m\u001b[0m\n\u001b[1;32m    471\u001b[0m                 \u001b[0;32mtry\u001b[0m\u001b[0;34m:\u001b[0m\u001b[0;34m\u001b[0m\u001b[0;34m\u001b[0m\u001b[0m\n\u001b[0;32m--> 472\u001b[0;31m                     \u001b[0ms\u001b[0m \u001b[0;34m=\u001b[0m \u001b[0mself\u001b[0m\u001b[0;34m.\u001b[0m\u001b[0m_safe_read\u001b[0m\u001b[0;34m(\u001b[0m\u001b[0mself\u001b[0m\u001b[0;34m.\u001b[0m\u001b[0mlength\u001b[0m\u001b[0;34m)\u001b[0m\u001b[0;34m\u001b[0m\u001b[0;34m\u001b[0m\u001b[0m\n\u001b[0m\u001b[1;32m    473\u001b[0m                 \u001b[0;32mexcept\u001b[0m \u001b[0mIncompleteRead\u001b[0m\u001b[0;34m:\u001b[0m\u001b[0;34m\u001b[0m\u001b[0;34m\u001b[0m\u001b[0m\n\u001b[1;32m    474\u001b[0m                     \u001b[0mself\u001b[0m\u001b[0;34m.\u001b[0m\u001b[0m_close_conn\u001b[0m\u001b[0;34m(\u001b[0m\u001b[0;34m)\u001b[0m\u001b[0;34m\u001b[0m\u001b[0;34m\u001b[0m\u001b[0m\n",
            "\u001b[0;32m/usr/lib/python3.6/http/client.py\u001b[0m in \u001b[0;36m_safe_read\u001b[0;34m(self, amt)\u001b[0m\n\u001b[1;32m    620\u001b[0m         \u001b[0ms\u001b[0m \u001b[0;34m=\u001b[0m \u001b[0;34m[\u001b[0m\u001b[0;34m]\u001b[0m\u001b[0;34m\u001b[0m\u001b[0;34m\u001b[0m\u001b[0m\n\u001b[1;32m    621\u001b[0m         \u001b[0;32mwhile\u001b[0m \u001b[0mamt\u001b[0m \u001b[0;34m>\u001b[0m \u001b[0;36m0\u001b[0m\u001b[0;34m:\u001b[0m\u001b[0;34m\u001b[0m\u001b[0;34m\u001b[0m\u001b[0m\n\u001b[0;32m--> 622\u001b[0;31m             \u001b[0mchunk\u001b[0m \u001b[0;34m=\u001b[0m \u001b[0mself\u001b[0m\u001b[0;34m.\u001b[0m\u001b[0mfp\u001b[0m\u001b[0;34m.\u001b[0m\u001b[0mread\u001b[0m\u001b[0;34m(\u001b[0m\u001b[0mmin\u001b[0m\u001b[0;34m(\u001b[0m\u001b[0mamt\u001b[0m\u001b[0;34m,\u001b[0m \u001b[0mMAXAMOUNT\u001b[0m\u001b[0;34m)\u001b[0m\u001b[0;34m)\u001b[0m\u001b[0;34m\u001b[0m\u001b[0;34m\u001b[0m\u001b[0m\n\u001b[0m\u001b[1;32m    623\u001b[0m             \u001b[0;32mif\u001b[0m \u001b[0;32mnot\u001b[0m \u001b[0mchunk\u001b[0m\u001b[0;34m:\u001b[0m\u001b[0;34m\u001b[0m\u001b[0;34m\u001b[0m\u001b[0m\n\u001b[1;32m    624\u001b[0m                 \u001b[0;32mraise\u001b[0m \u001b[0mIncompleteRead\u001b[0m\u001b[0;34m(\u001b[0m\u001b[0;34mb''\u001b[0m\u001b[0;34m.\u001b[0m\u001b[0mjoin\u001b[0m\u001b[0;34m(\u001b[0m\u001b[0ms\u001b[0m\u001b[0;34m)\u001b[0m\u001b[0;34m,\u001b[0m \u001b[0mamt\u001b[0m\u001b[0;34m)\u001b[0m\u001b[0;34m\u001b[0m\u001b[0;34m\u001b[0m\u001b[0m\n",
            "\u001b[0;32m/usr/lib/python3.6/socket.py\u001b[0m in \u001b[0;36mreadinto\u001b[0;34m(self, b)\u001b[0m\n\u001b[1;32m    584\u001b[0m         \u001b[0;32mwhile\u001b[0m \u001b[0;32mTrue\u001b[0m\u001b[0;34m:\u001b[0m\u001b[0;34m\u001b[0m\u001b[0;34m\u001b[0m\u001b[0m\n\u001b[1;32m    585\u001b[0m             \u001b[0;32mtry\u001b[0m\u001b[0;34m:\u001b[0m\u001b[0;34m\u001b[0m\u001b[0;34m\u001b[0m\u001b[0m\n\u001b[0;32m--> 586\u001b[0;31m                 \u001b[0;32mreturn\u001b[0m \u001b[0mself\u001b[0m\u001b[0;34m.\u001b[0m\u001b[0m_sock\u001b[0m\u001b[0;34m.\u001b[0m\u001b[0mrecv_into\u001b[0m\u001b[0;34m(\u001b[0m\u001b[0mb\u001b[0m\u001b[0;34m)\u001b[0m\u001b[0;34m\u001b[0m\u001b[0;34m\u001b[0m\u001b[0m\n\u001b[0m\u001b[1;32m    587\u001b[0m             \u001b[0;32mexcept\u001b[0m \u001b[0mtimeout\u001b[0m\u001b[0;34m:\u001b[0m\u001b[0;34m\u001b[0m\u001b[0;34m\u001b[0m\u001b[0m\n\u001b[1;32m    588\u001b[0m                 \u001b[0mself\u001b[0m\u001b[0;34m.\u001b[0m\u001b[0m_timeout_occurred\u001b[0m \u001b[0;34m=\u001b[0m \u001b[0;32mTrue\u001b[0m\u001b[0;34m\u001b[0m\u001b[0;34m\u001b[0m\u001b[0m\n",
            "\u001b[0;32m/usr/lib/python3.6/ssl.py\u001b[0m in \u001b[0;36mrecv_into\u001b[0;34m(self, buffer, nbytes, flags)\u001b[0m\n\u001b[1;32m   1010\u001b[0m                   \u001b[0;34m\"non-zero flags not allowed in calls to recv_into() on %s\"\u001b[0m \u001b[0;34m%\u001b[0m\u001b[0;34m\u001b[0m\u001b[0;34m\u001b[0m\u001b[0m\n\u001b[1;32m   1011\u001b[0m                   self.__class__)\n\u001b[0;32m-> 1012\u001b[0;31m             \u001b[0;32mreturn\u001b[0m \u001b[0mself\u001b[0m\u001b[0;34m.\u001b[0m\u001b[0mread\u001b[0m\u001b[0;34m(\u001b[0m\u001b[0mnbytes\u001b[0m\u001b[0;34m,\u001b[0m \u001b[0mbuffer\u001b[0m\u001b[0;34m)\u001b[0m\u001b[0;34m\u001b[0m\u001b[0;34m\u001b[0m\u001b[0m\n\u001b[0m\u001b[1;32m   1013\u001b[0m         \u001b[0;32melse\u001b[0m\u001b[0;34m:\u001b[0m\u001b[0;34m\u001b[0m\u001b[0;34m\u001b[0m\u001b[0m\n\u001b[1;32m   1014\u001b[0m             \u001b[0;32mreturn\u001b[0m \u001b[0msocket\u001b[0m\u001b[0;34m.\u001b[0m\u001b[0mrecv_into\u001b[0m\u001b[0;34m(\u001b[0m\u001b[0mself\u001b[0m\u001b[0;34m,\u001b[0m \u001b[0mbuffer\u001b[0m\u001b[0;34m,\u001b[0m \u001b[0mnbytes\u001b[0m\u001b[0;34m,\u001b[0m \u001b[0mflags\u001b[0m\u001b[0;34m)\u001b[0m\u001b[0;34m\u001b[0m\u001b[0;34m\u001b[0m\u001b[0m\n",
            "\u001b[0;32m/usr/lib/python3.6/ssl.py\u001b[0m in \u001b[0;36mread\u001b[0;34m(self, len, buffer)\u001b[0m\n\u001b[1;32m    872\u001b[0m             \u001b[0;32mraise\u001b[0m \u001b[0mValueError\u001b[0m\u001b[0;34m(\u001b[0m\u001b[0;34m\"Read on closed or unwrapped SSL socket.\"\u001b[0m\u001b[0;34m)\u001b[0m\u001b[0;34m\u001b[0m\u001b[0;34m\u001b[0m\u001b[0m\n\u001b[1;32m    873\u001b[0m         \u001b[0;32mtry\u001b[0m\u001b[0;34m:\u001b[0m\u001b[0;34m\u001b[0m\u001b[0;34m\u001b[0m\u001b[0m\n\u001b[0;32m--> 874\u001b[0;31m             \u001b[0;32mreturn\u001b[0m \u001b[0mself\u001b[0m\u001b[0;34m.\u001b[0m\u001b[0m_sslobj\u001b[0m\u001b[0;34m.\u001b[0m\u001b[0mread\u001b[0m\u001b[0;34m(\u001b[0m\u001b[0mlen\u001b[0m\u001b[0;34m,\u001b[0m \u001b[0mbuffer\u001b[0m\u001b[0;34m)\u001b[0m\u001b[0;34m\u001b[0m\u001b[0;34m\u001b[0m\u001b[0m\n\u001b[0m\u001b[1;32m    875\u001b[0m         \u001b[0;32mexcept\u001b[0m \u001b[0mSSLError\u001b[0m \u001b[0;32mas\u001b[0m \u001b[0mx\u001b[0m\u001b[0;34m:\u001b[0m\u001b[0;34m\u001b[0m\u001b[0;34m\u001b[0m\u001b[0m\n\u001b[1;32m    876\u001b[0m             \u001b[0;32mif\u001b[0m \u001b[0mx\u001b[0m\u001b[0;34m.\u001b[0m\u001b[0margs\u001b[0m\u001b[0;34m[\u001b[0m\u001b[0;36m0\u001b[0m\u001b[0;34m]\u001b[0m \u001b[0;34m==\u001b[0m \u001b[0mSSL_ERROR_EOF\u001b[0m \u001b[0;32mand\u001b[0m \u001b[0mself\u001b[0m\u001b[0;34m.\u001b[0m\u001b[0msuppress_ragged_eofs\u001b[0m\u001b[0;34m:\u001b[0m\u001b[0;34m\u001b[0m\u001b[0;34m\u001b[0m\u001b[0m\n",
            "\u001b[0;32m/usr/lib/python3.6/ssl.py\u001b[0m in \u001b[0;36mread\u001b[0;34m(self, len, buffer)\u001b[0m\n\u001b[1;32m    629\u001b[0m         \"\"\"\n\u001b[1;32m    630\u001b[0m         \u001b[0;32mif\u001b[0m \u001b[0mbuffer\u001b[0m \u001b[0;32mis\u001b[0m \u001b[0;32mnot\u001b[0m \u001b[0;32mNone\u001b[0m\u001b[0;34m:\u001b[0m\u001b[0;34m\u001b[0m\u001b[0;34m\u001b[0m\u001b[0m\n\u001b[0;32m--> 631\u001b[0;31m             \u001b[0mv\u001b[0m \u001b[0;34m=\u001b[0m \u001b[0mself\u001b[0m\u001b[0;34m.\u001b[0m\u001b[0m_sslobj\u001b[0m\u001b[0;34m.\u001b[0m\u001b[0mread\u001b[0m\u001b[0;34m(\u001b[0m\u001b[0mlen\u001b[0m\u001b[0;34m,\u001b[0m \u001b[0mbuffer\u001b[0m\u001b[0;34m)\u001b[0m\u001b[0;34m\u001b[0m\u001b[0;34m\u001b[0m\u001b[0m\n\u001b[0m\u001b[1;32m    632\u001b[0m         \u001b[0;32melse\u001b[0m\u001b[0;34m:\u001b[0m\u001b[0;34m\u001b[0m\u001b[0;34m\u001b[0m\u001b[0m\n\u001b[1;32m    633\u001b[0m             \u001b[0mv\u001b[0m \u001b[0;34m=\u001b[0m \u001b[0mself\u001b[0m\u001b[0;34m.\u001b[0m\u001b[0m_sslobj\u001b[0m\u001b[0;34m.\u001b[0m\u001b[0mread\u001b[0m\u001b[0;34m(\u001b[0m\u001b[0mlen\u001b[0m\u001b[0;34m)\u001b[0m\u001b[0;34m\u001b[0m\u001b[0;34m\u001b[0m\u001b[0m\n",
            "\u001b[0;31mKeyboardInterrupt\u001b[0m: "
          ]
        }
      ]
    },
    {
      "cell_type": "code",
      "metadata": {
        "id": "tTIhhHJfVUkD",
        "colab": {
          "base_uri": "https://localhost:8080/",
          "height": 289
        },
        "outputId": "8a809c48-e9a4-44b8-aace-b87288b9c19d"
      },
      "source": [
        "# Dataset 2\n",
        "# ---\n",
        "# Loading dataset 2\n",
        "# ---\n",
        "#  \n",
        "df2 = pd.read_csv('http://bit.ly/TelecomDataset2')\n",
        "df2.head()"
      ],
      "execution_count": null,
      "outputs": [
        {
          "output_type": "execute_result",
          "data": {
            "text/html": [
              "<div>\n",
              "<style scoped>\n",
              "    .dataframe tbody tr th:only-of-type {\n",
              "        vertical-align: middle;\n",
              "    }\n",
              "\n",
              "    .dataframe tbody tr th {\n",
              "        vertical-align: top;\n",
              "    }\n",
              "\n",
              "    .dataframe thead th {\n",
              "        text-align: right;\n",
              "    }\n",
              "</style>\n",
              "<table border=\"1\" class=\"dataframe\">\n",
              "  <thead>\n",
              "    <tr style=\"text-align: right;\">\n",
              "      <th></th>\n",
              "      <th>PRODUCT</th>\n",
              "      <th>VALUE</th>\n",
              "      <th>DATE_TIME</th>\n",
              "      <th>CELL_ON_SITE</th>\n",
              "      <th>DW_A_NUMBER</th>\n",
              "      <th>DW_B_NUMBER</th>\n",
              "      <th>COUNTRY_A</th>\n",
              "      <th>COUNTRY_B</th>\n",
              "      <th>CELL_ID</th>\n",
              "      <th>SITE_ID</th>\n",
              "    </tr>\n",
              "  </thead>\n",
              "  <tbody>\n",
              "    <tr>\n",
              "      <th>0</th>\n",
              "      <td>sms</td>\n",
              "      <td>0</td>\n",
              "      <td>2012-05-07 23:02:06.0</td>\n",
              "      <td>2</td>\n",
              "      <td>32255675c3b6fe3</td>\n",
              "      <td>1aa7ae01386e9fb</td>\n",
              "      <td>19e2e</td>\n",
              "      <td>19e2e</td>\n",
              "      <td>+854AcBQT2</td>\n",
              "      <td>+854AcBQT2</td>\n",
              "    </tr>\n",
              "    <tr>\n",
              "      <th>1</th>\n",
              "      <td>Voice</td>\n",
              "      <td>0</td>\n",
              "      <td>2012-05-07 23:03:44.0</td>\n",
              "      <td>1</td>\n",
              "      <td>ff16d6ac74c1c64</td>\n",
              "      <td>87d87309c15a8c9</td>\n",
              "      <td>19e2e</td>\n",
              "      <td>19e2e</td>\n",
              "      <td>+854AcBQT2</td>\n",
              "      <td>+854AcBQT2</td>\n",
              "    </tr>\n",
              "    <tr>\n",
              "      <th>2</th>\n",
              "      <td>sms</td>\n",
              "      <td>0</td>\n",
              "      <td>2012-05-07 23:04:06.0</td>\n",
              "      <td>0</td>\n",
              "      <td>98d9f2fb5ff624b</td>\n",
              "      <td>93343ba6e41af95</td>\n",
              "      <td>19e2e</td>\n",
              "      <td>19e2e</td>\n",
              "      <td>+laSrk7g6q</td>\n",
              "      <td>+laSrk7g6q</td>\n",
              "    </tr>\n",
              "    <tr>\n",
              "      <th>3</th>\n",
              "      <td>Voice</td>\n",
              "      <td>37</td>\n",
              "      <td>2012-05-07 23:04:48.0</td>\n",
              "      <td>1</td>\n",
              "      <td>3f9c8a33ec7be1f</td>\n",
              "      <td>7d05a38f89c49d8</td>\n",
              "      <td>19e2e</td>\n",
              "      <td>19e2e</td>\n",
              "      <td>/xvRrCVKoQ</td>\n",
              "      <td>/xvRrCVKoQ</td>\n",
              "    </tr>\n",
              "    <tr>\n",
              "      <th>4</th>\n",
              "      <td>sms</td>\n",
              "      <td>25</td>\n",
              "      <td>2012-05-07 23:04:58.0</td>\n",
              "      <td>1</td>\n",
              "      <td>7bcccc03adf3864</td>\n",
              "      <td>56a5d5430d2fa86</td>\n",
              "      <td>19e2e</td>\n",
              "      <td>19e2e</td>\n",
              "      <td>+bO+qkSonO</td>\n",
              "      <td>+bO+qkSonO</td>\n",
              "    </tr>\n",
              "  </tbody>\n",
              "</table>\n",
              "</div>"
            ],
            "text/plain": [
              "  PRODUCT  VALUE              DATE_TIME  ... COUNTRY_B     CELL_ID     SITE_ID\n",
              "0     sms      0  2012-05-07 23:02:06.0  ...     19e2e  +854AcBQT2  +854AcBQT2\n",
              "1   Voice      0  2012-05-07 23:03:44.0  ...     19e2e  +854AcBQT2  +854AcBQT2\n",
              "2     sms      0  2012-05-07 23:04:06.0  ...     19e2e  +laSrk7g6q  +laSrk7g6q\n",
              "3   Voice     37  2012-05-07 23:04:48.0  ...     19e2e  /xvRrCVKoQ  /xvRrCVKoQ\n",
              "4     sms     25  2012-05-07 23:04:58.0  ...     19e2e  +bO+qkSonO  +bO+qkSonO\n",
              "\n",
              "[5 rows x 10 columns]"
            ]
          },
          "metadata": {
            "tags": []
          },
          "execution_count": 3
        }
      ]
    },
    {
      "cell_type": "code",
      "metadata": {
        "id": "9IjDNwV6VUVb",
        "colab": {
          "base_uri": "https://localhost:8080/",
          "height": 309
        },
        "outputId": "003eb7e6-0cf4-4284-c69d-869a348d54e5"
      },
      "source": [
        "# Dataset 3\n",
        "# ---\n",
        "# Loading dataset 3\n",
        "# ---\n",
        "#  \n",
        "df3 = pd.read_csv('http://bit.ly/TelecomDataset3')  \n",
        "df3.head()"
      ],
      "execution_count": null,
      "outputs": [
        {
          "output_type": "execute_result",
          "data": {
            "text/html": [
              "<div>\n",
              "<style scoped>\n",
              "    .dataframe tbody tr th:only-of-type {\n",
              "        vertical-align: middle;\n",
              "    }\n",
              "\n",
              "    .dataframe tbody tr th {\n",
              "        vertical-align: top;\n",
              "    }\n",
              "\n",
              "    .dataframe thead th {\n",
              "        text-align: right;\n",
              "    }\n",
              "</style>\n",
              "<table border=\"1\" class=\"dataframe\">\n",
              "  <thead>\n",
              "    <tr style=\"text-align: right;\">\n",
              "      <th></th>\n",
              "      <th>PRODUCT</th>\n",
              "      <th>VALUE</th>\n",
              "      <th>DATE_TIME</th>\n",
              "      <th>CELL_ON_SITE</th>\n",
              "      <th>DW_A_NUMBER_INT</th>\n",
              "      <th>DW_B_NUMBER_INT</th>\n",
              "      <th>COUNTRY_A</th>\n",
              "      <th>COUNTRY_B</th>\n",
              "      <th>CELLID</th>\n",
              "      <th>SIET_ID</th>\n",
              "    </tr>\n",
              "  </thead>\n",
              "  <tbody>\n",
              "    <tr>\n",
              "      <th>0</th>\n",
              "      <td>Voice</td>\n",
              "      <td>61</td>\n",
              "      <td>2012-05-08 23:01:28.0</td>\n",
              "      <td>2</td>\n",
              "      <td>966f68353622feb</td>\n",
              "      <td>ffd53a3bb2db6f1</td>\n",
              "      <td>19e2e</td>\n",
              "      <td>19e2e</td>\n",
              "      <td>+38u2u/rfx</td>\n",
              "      <td>+38u2u/rfx</td>\n",
              "    </tr>\n",
              "    <tr>\n",
              "      <th>1</th>\n",
              "      <td>sms</td>\n",
              "      <td>0</td>\n",
              "      <td>2012-05-08 23:01:31.0</td>\n",
              "      <td>1</td>\n",
              "      <td>a0a597384c612d7</td>\n",
              "      <td>cf3b218f1dde792</td>\n",
              "      <td>19e2e</td>\n",
              "      <td>19e2e</td>\n",
              "      <td>+Fs4mTvdKx</td>\n",
              "      <td>+Fs4mTvdKx</td>\n",
              "    </tr>\n",
              "    <tr>\n",
              "      <th>2</th>\n",
              "      <td>Voice</td>\n",
              "      <td>10</td>\n",
              "      <td>2012-05-08 23:02:59.0</td>\n",
              "      <td>1</td>\n",
              "      <td>5441a9a58c97132</td>\n",
              "      <td>52f8b299515b9b7</td>\n",
              "      <td>19e2e</td>\n",
              "      <td>19e2e</td>\n",
              "      <td>+ZaaZozy/+</td>\n",
              "      <td>+ZaaZozy/+</td>\n",
              "    </tr>\n",
              "    <tr>\n",
              "      <th>3</th>\n",
              "      <td>sms</td>\n",
              "      <td>0</td>\n",
              "      <td>2012-05-08 23:03:04.0</td>\n",
              "      <td>0</td>\n",
              "      <td>8ab8b9ed6989f61</td>\n",
              "      <td>e09e736e46c5c3d</td>\n",
              "      <td>19e2e</td>\n",
              "      <td>19e2e</td>\n",
              "      <td>+cNeJzsTp3</td>\n",
              "      <td>+cNeJzsTp3</td>\n",
              "    </tr>\n",
              "    <tr>\n",
              "      <th>4</th>\n",
              "      <td>Voice</td>\n",
              "      <td>22</td>\n",
              "      <td>2012-05-08 23:03:16.0</td>\n",
              "      <td>4</td>\n",
              "      <td>52662a62b199334</td>\n",
              "      <td>2186273faab4602</td>\n",
              "      <td>19e2e</td>\n",
              "      <td>19e2e</td>\n",
              "      <td>/eeMklgyJA</td>\n",
              "      <td>/eeMklgyJA</td>\n",
              "    </tr>\n",
              "  </tbody>\n",
              "</table>\n",
              "</div>"
            ],
            "text/plain": [
              "  PRODUCT  VALUE              DATE_TIME  ... COUNTRY_B      CELLID     SIET_ID\n",
              "0   Voice     61  2012-05-08 23:01:28.0  ...     19e2e  +38u2u/rfx  +38u2u/rfx\n",
              "1     sms      0  2012-05-08 23:01:31.0  ...     19e2e  +Fs4mTvdKx  +Fs4mTvdKx\n",
              "2   Voice     10  2012-05-08 23:02:59.0  ...     19e2e  +ZaaZozy/+  +ZaaZozy/+\n",
              "3     sms      0  2012-05-08 23:03:04.0  ...     19e2e  +cNeJzsTp3  +cNeJzsTp3\n",
              "4   Voice     22  2012-05-08 23:03:16.0  ...     19e2e  /eeMklgyJA  /eeMklgyJA\n",
              "\n",
              "[5 rows x 10 columns]"
            ]
          },
          "metadata": {
            "tags": []
          },
          "execution_count": 4
        }
      ]
    },
    {
      "cell_type": "code",
      "metadata": {
        "id": "2nUpCtFk5XYT",
        "colab": {
          "base_uri": "https://localhost:8080/",
          "height": 204
        },
        "outputId": "2b167758-c325-41f8-e63b-d8443dea0560"
      },
      "source": [
        "# Dataset 4\n",
        "# ---\n",
        "# Loading dataset 3: Cells Geo dataset\n",
        "# ---\n",
        "#   \n",
        "cells_geo = pd.read_csv('cells_geo.csv', header = 0, index_col=0, delimiter=';')\n",
        "cells_geo.head()"
      ],
      "execution_count": null,
      "outputs": [
        {
          "output_type": "execute_result",
          "data": {
            "text/html": [
              "<div>\n",
              "<style scoped>\n",
              "    .dataframe tbody tr th:only-of-type {\n",
              "        vertical-align: middle;\n",
              "    }\n",
              "\n",
              "    .dataframe tbody tr th {\n",
              "        vertical-align: top;\n",
              "    }\n",
              "\n",
              "    .dataframe thead th {\n",
              "        text-align: right;\n",
              "    }\n",
              "</style>\n",
              "<table border=\"1\" class=\"dataframe\">\n",
              "  <thead>\n",
              "    <tr style=\"text-align: right;\">\n",
              "      <th></th>\n",
              "      <th>VILLES</th>\n",
              "      <th>STATUS</th>\n",
              "      <th>LOCALISATION</th>\n",
              "      <th>DECOUPZONE</th>\n",
              "      <th>ZONENAME</th>\n",
              "      <th>LONGITUDE</th>\n",
              "      <th>LATITUDE</th>\n",
              "      <th>REGION</th>\n",
              "      <th>AREA</th>\n",
              "      <th>CELL_ID</th>\n",
              "      <th>SITE_CODE</th>\n",
              "    </tr>\n",
              "  </thead>\n",
              "  <tbody>\n",
              "    <tr>\n",
              "      <th>0</th>\n",
              "      <td>ADJAME</td>\n",
              "      <td>In Service</td>\n",
              "      <td>ABIDJAN</td>\n",
              "      <td>\"Abidjan_EST</td>\n",
              "      <td>AGBANNEW</td>\n",
              "      <td>-4.000667</td>\n",
              "      <td>5.368194</td>\n",
              "      <td>LAGUNE</td>\n",
              "      <td>NaN</td>\n",
              "      <td>fbb2e75af3</td>\n",
              "      <td>0bb492ef17</td>\n",
              "    </tr>\n",
              "    <tr>\n",
              "      <th>1</th>\n",
              "      <td>ADJAME</td>\n",
              "      <td>In Service</td>\n",
              "      <td>ABIDJAN</td>\n",
              "      <td>\"Abidjan_EST</td>\n",
              "      <td>AGBANNEW</td>\n",
              "      <td>-4.000667</td>\n",
              "      <td>5.368194</td>\n",
              "      <td>LAGUNE</td>\n",
              "      <td>NaN</td>\n",
              "      <td>1502501d78</td>\n",
              "      <td>0bb492ef17</td>\n",
              "    </tr>\n",
              "    <tr>\n",
              "      <th>2</th>\n",
              "      <td>ADJAME</td>\n",
              "      <td>In Service</td>\n",
              "      <td>ABIDJAN</td>\n",
              "      <td>\"Abidjan_EST</td>\n",
              "      <td>AGBANNEW</td>\n",
              "      <td>-4.000667</td>\n",
              "      <td>5.368194</td>\n",
              "      <td>LAGUNE</td>\n",
              "      <td>NaN</td>\n",
              "      <td>0c2e182a0c</td>\n",
              "      <td>0bb492ef17</td>\n",
              "    </tr>\n",
              "    <tr>\n",
              "      <th>3</th>\n",
              "      <td>ASSINIE</td>\n",
              "      <td>In Service</td>\n",
              "      <td>INTERIEUR</td>\n",
              "      <td>Grand-EST</td>\n",
              "      <td>ASSINIE\"</td>\n",
              "      <td>-3.488467</td>\n",
              "      <td>5.158761</td>\n",
              "      <td>SUD COMOE</td>\n",
              "      <td>NaN</td>\n",
              "      <td>69bdfc69fd</td>\n",
              "      <td>8a1e6ce31f</td>\n",
              "    </tr>\n",
              "    <tr>\n",
              "      <th>4</th>\n",
              "      <td>ASSINIE</td>\n",
              "      <td>In Service</td>\n",
              "      <td>INTERIEUR</td>\n",
              "      <td>Grand-EST</td>\n",
              "      <td>ASSINIE\"</td>\n",
              "      <td>-3.488467</td>\n",
              "      <td>5.158761</td>\n",
              "      <td>SUD COMOE</td>\n",
              "      <td>NaN</td>\n",
              "      <td>7a1029d2ab</td>\n",
              "      <td>8a1e6ce31f</td>\n",
              "    </tr>\n",
              "  </tbody>\n",
              "</table>\n",
              "</div>"
            ],
            "text/plain": [
              "    VILLES      STATUS LOCALISATION  ... AREA     CELL_ID   SITE_CODE\n",
              "0   ADJAME  In Service      ABIDJAN  ...  NaN  fbb2e75af3  0bb492ef17\n",
              "1   ADJAME  In Service      ABIDJAN  ...  NaN  1502501d78  0bb492ef17\n",
              "2   ADJAME  In Service      ABIDJAN  ...  NaN  0c2e182a0c  0bb492ef17\n",
              "3  ASSINIE  In Service    INTERIEUR  ...  NaN  69bdfc69fd  8a1e6ce31f\n",
              "4  ASSINIE  In Service    INTERIEUR  ...  NaN  7a1029d2ab  8a1e6ce31f\n",
              "\n",
              "[5 rows x 11 columns]"
            ]
          },
          "metadata": {
            "tags": []
          },
          "execution_count": 6
        }
      ]
    },
    {
      "cell_type": "markdown",
      "metadata": {
        "id": "oobNb8OMVVlc"
      },
      "source": [
        "### Exploration"
      ]
    },
    {
      "cell_type": "code",
      "metadata": {
        "id": "HgWxWfQSVaFM",
        "colab": {
          "base_uri": "https://localhost:8080/",
          "height": 272
        },
        "outputId": "4b9fec63-d2d9-48a4-8ef6-b9eed59e33f7"
      },
      "source": [
        "# Dataset 1\n",
        "# ---\n",
        "# Checking the information for dataset 1\n",
        "# ---\n",
        "# \n",
        "df.info()"
      ],
      "execution_count": null,
      "outputs": [
        {
          "output_type": "stream",
          "text": [
            "<class 'pandas.core.frame.DataFrame'>\n",
            "RangeIndex: 15011816 entries, 0 to 15011815\n",
            "Data columns (total 10 columns):\n",
            "PRODUTC            object\n",
            "VALUE              int64\n",
            "DATETIME           object\n",
            "CELL_ON_SITE       object\n",
            "DW_A_NUMBER_INT    object\n",
            "DW_B_NUMBER_INT    object\n",
            "COUNTRY_A          object\n",
            "COUNTRY_B          object\n",
            "CELL_ID            object\n",
            "SITE_ID            object\n",
            "dtypes: int64(1), object(9)\n",
            "memory usage: 1.1+ GB\n"
          ],
          "name": "stdout"
        }
      ]
    },
    {
      "cell_type": "code",
      "metadata": {
        "id": "SQljaOyX36bU",
        "colab": {
          "base_uri": "https://localhost:8080/",
          "height": 272
        },
        "outputId": "293cbdc6-0eed-4b07-c8ab-c716a5323b0e"
      },
      "source": [
        "# Dataset 2\n",
        "# ---\n",
        "# Checking the information for dataset 2\n",
        "# ---\n",
        "# \n",
        "df2.info()"
      ],
      "execution_count": null,
      "outputs": [
        {
          "output_type": "stream",
          "text": [
            "<class 'pandas.core.frame.DataFrame'>\n",
            "RangeIndex: 19606112 entries, 0 to 19606111\n",
            "Data columns (total 10 columns):\n",
            "PRODUCT         object\n",
            "VALUE           int64\n",
            "DATE_TIME       object\n",
            "CELL_ON_SITE    object\n",
            "DW_A_NUMBER     object\n",
            "DW_B_NUMBER     object\n",
            "COUNTRY_A       object\n",
            "COUNTRY_B       object\n",
            "CELL_ID         object\n",
            "SITE_ID         object\n",
            "dtypes: int64(1), object(9)\n",
            "memory usage: 1.5+ GB\n"
          ],
          "name": "stdout"
        }
      ]
    },
    {
      "cell_type": "code",
      "metadata": {
        "id": "ZmMv9brw4qep",
        "colab": {
          "base_uri": "https://localhost:8080/",
          "height": 272
        },
        "outputId": "d77554f8-8438-43e5-f198-69a70a517838"
      },
      "source": [
        "# Dataset 3\n",
        "# ---\n",
        "# Checking the information for dataset 2\n",
        "# ---\n",
        "#  \n",
        "df3.info()"
      ],
      "execution_count": null,
      "outputs": [
        {
          "output_type": "stream",
          "text": [
            "<class 'pandas.core.frame.DataFrame'>\n",
            "RangeIndex: 14834801 entries, 0 to 14834800\n",
            "Data columns (total 10 columns):\n",
            "PRODUCT            object\n",
            "VALUE              int64\n",
            "DATE_TIME          object\n",
            "CELL_ON_SITE       object\n",
            "DW_A_NUMBER_INT    object\n",
            "DW_B_NUMBER_INT    object\n",
            "COUNTRY_A          object\n",
            "COUNTRY_B          object\n",
            "CELLID             object\n",
            "SIET_ID            object\n",
            "dtypes: int64(1), object(9)\n",
            "memory usage: 1.1+ GB\n"
          ],
          "name": "stdout"
        }
      ]
    },
    {
      "cell_type": "code",
      "metadata": {
        "id": "-X7vcuq05nsI",
        "colab": {
          "base_uri": "https://localhost:8080/",
          "height": 289
        },
        "outputId": "8688af9c-04fa-4790-e7c8-4eb67779daa0"
      },
      "source": [
        "# Dataset 4\n",
        "# ---\n",
        "# Checking the information for dataset 2\n",
        "# ---\n",
        "#  \n",
        "cells_geo.info()"
      ],
      "execution_count": null,
      "outputs": [
        {
          "output_type": "stream",
          "text": [
            "<class 'pandas.core.frame.DataFrame'>\n",
            "Int64Index: 3974 entries, 0 to 3973\n",
            "Data columns (total 11 columns):\n",
            "VILLES          3974 non-null object\n",
            "STATUS          3907 non-null object\n",
            "LOCALISATION    3974 non-null object\n",
            "DECOUPZONE      3974 non-null object\n",
            "ZONENAME        3968 non-null object\n",
            "LONGITUDE       3974 non-null float64\n",
            "LATITUDE        3974 non-null float64\n",
            "REGION          3974 non-null object\n",
            "AREA            3951 non-null object\n",
            "CELL_ID         3974 non-null object\n",
            "SITE_CODE       3974 non-null object\n",
            "dtypes: float64(2), object(9)\n",
            "memory usage: 372.6+ KB\n"
          ],
          "name": "stdout"
        }
      ]
    },
    {
      "cell_type": "markdown",
      "metadata": {
        "id": "t3djdQMIValr"
      },
      "source": [
        "### Data Cleaning "
      ]
    },
    {
      "cell_type": "code",
      "metadata": {
        "id": "NMPTWQHAVmuO",
        "colab": {
          "base_uri": "https://localhost:8080/",
          "height": 68
        },
        "outputId": "4353a1e4-e091-4562-879b-d1a623673866"
      },
      "source": [
        "# Dataset 1\n",
        "# ---\n",
        "# -> Changing columns to lowercase\n",
        "# -> Renaming column names \n",
        "# ---\n",
        "# \n",
        "df.columns = map(str.lower, df.columns)\n",
        "columns = ['product', 'value', 'datetime', 'cell_on_site', 'dw_a_number_int','dw_b_number_int', \n",
        "           'country_a', 'country_b', 'cell_id', 'site_id']\n",
        "df.columns = columns\n",
        "df.columns"
      ],
      "execution_count": null,
      "outputs": [
        {
          "output_type": "execute_result",
          "data": {
            "text/plain": [
              "Index(['product', 'value', 'datetime', 'cell_on_site', 'dw_a_number_int',\n",
              "       'dw_b_number_int', 'country_a', 'country_b', 'cell_id', 'site_id'],\n",
              "      dtype='object')"
            ]
          },
          "metadata": {
            "tags": []
          },
          "execution_count": 11
        }
      ]
    },
    {
      "cell_type": "code",
      "metadata": {
        "id": "XyeUYHoWVnF4",
        "colab": {
          "base_uri": "https://localhost:8080/",
          "height": 68
        },
        "outputId": "dd7ccfad-390a-463f-c384-41df4d421b83"
      },
      "source": [
        "# Dataset 2\n",
        "# ---\n",
        "# -> Changing columns to lowercase\n",
        "# -> Renaming column names\n",
        "# ---\n",
        "# \n",
        "df2.columns = map(str.lower, df.columns)\n",
        "columns = ['product', 'value', 'datetime', 'cell_on_site', 'dw_a_number_int','dw_b_number_int', \n",
        "           'country_a', 'country_b', 'cell_id', 'site_id']\n",
        "df2.columns = columns\n",
        "df2.columns"
      ],
      "execution_count": null,
      "outputs": [
        {
          "output_type": "execute_result",
          "data": {
            "text/plain": [
              "Index(['product', 'value', 'datetime', 'cell_on_site', 'dw_a_number_int',\n",
              "       'dw_b_number_int', 'country_a', 'country_b', 'cell_id', 'site_id'],\n",
              "      dtype='object')"
            ]
          },
          "metadata": {
            "tags": []
          },
          "execution_count": 12
        }
      ]
    },
    {
      "cell_type": "code",
      "metadata": {
        "id": "8gRuLDPmVnk6",
        "colab": {
          "base_uri": "https://localhost:8080/",
          "height": 68
        },
        "outputId": "3cff849a-2742-45d9-814b-e3ec5add8bfe"
      },
      "source": [
        "# Dataset 3\n",
        "# ---\n",
        "# -> Changing columns to lowercase\n",
        "# -> Renaming column names\n",
        "# ---\n",
        "# \n",
        "df3.columns = map(str.lower, df.columns)\n",
        "columns = ['product', 'value', 'datetime', 'cell_on_site', 'dw_a_number_int','dw_b_number_int', 'country_a', \n",
        "           'country_b', 'cell_id', 'site_id']\n",
        "df3.columns = columns\n",
        "df3.columns"
      ],
      "execution_count": null,
      "outputs": [
        {
          "output_type": "execute_result",
          "data": {
            "text/plain": [
              "Index(['product', 'value', 'datetime', 'cell_on_site', 'dw_a_number_int',\n",
              "       'dw_b_number_int', 'country_a', 'country_b', 'cell_id', 'site_id'],\n",
              "      dtype='object')"
            ]
          },
          "metadata": {
            "tags": []
          },
          "execution_count": 13
        }
      ]
    },
    {
      "cell_type": "code",
      "metadata": {
        "id": "h8kbFlpO5uxW",
        "colab": {
          "base_uri": "https://localhost:8080/",
          "height": 68
        },
        "outputId": "fa900099-e1c6-4d32-b469-9b51a28eea38"
      },
      "source": [
        "# Dataset 4\n",
        "# ---\n",
        "# -> Changing columns to lowercase\n",
        "# ---\n",
        "# \n",
        "cells_geo.columns = map(str.lower, cells_geo.columns)\n",
        "cells_geo.columns"
      ],
      "execution_count": null,
      "outputs": [
        {
          "output_type": "execute_result",
          "data": {
            "text/plain": [
              "Index(['villes', 'status', 'localisation', 'decoupzone', 'zonename',\n",
              "       'longitude', 'latitude', 'region', 'area', 'cell_id', 'site_code'],\n",
              "      dtype='object')"
            ]
          },
          "metadata": {
            "tags": []
          },
          "execution_count": 14
        }
      ]
    },
    {
      "cell_type": "code",
      "metadata": {
        "id": "OLOQkyEZVwc9",
        "colab": {
          "base_uri": "https://localhost:8080/",
          "height": 394
        },
        "outputId": "9391db81-7b25-4e50-d127-030c72b9e001"
      },
      "source": [
        "# Merging: Dataset 1 and 4\n",
        "# ---\n",
        "# -> Merging dataset 1 with dataset 4\n",
        "# -> Previewing the resulting dataset\n",
        "# ---\n",
        "# \n",
        "df1_merged = df.merge(cells_geo, how='inner', on='cell_id')\n",
        "df1_merged.head()"
      ],
      "execution_count": null,
      "outputs": [
        {
          "output_type": "execute_result",
          "data": {
            "text/html": [
              "<div>\n",
              "<style scoped>\n",
              "    .dataframe tbody tr th:only-of-type {\n",
              "        vertical-align: middle;\n",
              "    }\n",
              "\n",
              "    .dataframe tbody tr th {\n",
              "        vertical-align: top;\n",
              "    }\n",
              "\n",
              "    .dataframe thead th {\n",
              "        text-align: right;\n",
              "    }\n",
              "</style>\n",
              "<table border=\"1\" class=\"dataframe\">\n",
              "  <thead>\n",
              "    <tr style=\"text-align: right;\">\n",
              "      <th></th>\n",
              "      <th>product</th>\n",
              "      <th>value</th>\n",
              "      <th>datetime</th>\n",
              "      <th>cell_on_site</th>\n",
              "      <th>dw_a_number_int</th>\n",
              "      <th>dw_b_number_int</th>\n",
              "      <th>country_a</th>\n",
              "      <th>country_b</th>\n",
              "      <th>cell_id</th>\n",
              "      <th>site_id</th>\n",
              "      <th>villes</th>\n",
              "      <th>status</th>\n",
              "      <th>localisation</th>\n",
              "      <th>decoupzone</th>\n",
              "      <th>zonename</th>\n",
              "      <th>longitude</th>\n",
              "      <th>latitude</th>\n",
              "      <th>region</th>\n",
              "      <th>area</th>\n",
              "      <th>site_code</th>\n",
              "    </tr>\n",
              "  </thead>\n",
              "  <tbody>\n",
              "    <tr>\n",
              "      <th>0</th>\n",
              "      <td>Voice</td>\n",
              "      <td>0</td>\n",
              "      <td>2012-05-07 08:33:43.0</td>\n",
              "      <td>0</td>\n",
              "      <td>13d236932ae2bcf</td>\n",
              "      <td>662861c8d47acbb</td>\n",
              "      <td>19e2e</td>\n",
              "      <td>19e2e</td>\n",
              "      <td>1ce5a37ea9</td>\n",
              "      <td>NaN</td>\n",
              "      <td>ATTECOUBE</td>\n",
              "      <td>In Service</td>\n",
              "      <td>ABIDJAN</td>\n",
              "      <td>Abidjan_OUEST</td>\n",
              "      <td>ZONE C - Abidjan_OUEST</td>\n",
              "      <td>-4.035111</td>\n",
              "      <td>5.348917</td>\n",
              "      <td>LAGUNE</td>\n",
              "      <td>ABIDJAN NORTH</td>\n",
              "      <td>7f76d66503</td>\n",
              "    </tr>\n",
              "    <tr>\n",
              "      <th>1</th>\n",
              "      <td>Voice</td>\n",
              "      <td>0</td>\n",
              "      <td>2012-05-07 08:36:17.0</td>\n",
              "      <td>0</td>\n",
              "      <td>704ad46f5623789</td>\n",
              "      <td>8788ee37020a0b3</td>\n",
              "      <td>19e2e</td>\n",
              "      <td>19e2e</td>\n",
              "      <td>24ced8b6ba</td>\n",
              "      <td>NaN</td>\n",
              "      <td>PORT-BOUET</td>\n",
              "      <td>In Service</td>\n",
              "      <td>ABIDJAN</td>\n",
              "      <td>Abidjan_SUD</td>\n",
              "      <td>ZONE D - Abidjan_SUD</td>\n",
              "      <td>-3.945028</td>\n",
              "      <td>5.254056</td>\n",
              "      <td>LAGUNE</td>\n",
              "      <td>ABIDJAN SOUTH</td>\n",
              "      <td>ffa6bdc032</td>\n",
              "    </tr>\n",
              "    <tr>\n",
              "      <th>2</th>\n",
              "      <td>Voice</td>\n",
              "      <td>0</td>\n",
              "      <td>2012-05-07 08:37:47.0</td>\n",
              "      <td>3</td>\n",
              "      <td>de08884e7eb68a8</td>\n",
              "      <td>5a699ac9f644039</td>\n",
              "      <td>19e2e</td>\n",
              "      <td>19e2e</td>\n",
              "      <td>f7f527c807</td>\n",
              "      <td>NaN</td>\n",
              "      <td>PLATEAU</td>\n",
              "      <td>In Service</td>\n",
              "      <td>ABIDJAN</td>\n",
              "      <td>Abidjan_CENTRE</td>\n",
              "      <td>ZONE A - Abidjan_CENTRE</td>\n",
              "      <td>-4.026139</td>\n",
              "      <td>5.329250</td>\n",
              "      <td>LAGUNE</td>\n",
              "      <td>ABIDJAN SOUTH</td>\n",
              "      <td>3e46cdd0e8</td>\n",
              "    </tr>\n",
              "    <tr>\n",
              "      <th>3</th>\n",
              "      <td>Voice</td>\n",
              "      <td>0</td>\n",
              "      <td>2012-05-07 09:56:52.0</td>\n",
              "      <td>3</td>\n",
              "      <td>a5ff70730fe55d6</td>\n",
              "      <td>f34968a670b9422</td>\n",
              "      <td>19e2e</td>\n",
              "      <td>19e2e</td>\n",
              "      <td>f7f527c807</td>\n",
              "      <td>NaN</td>\n",
              "      <td>PLATEAU</td>\n",
              "      <td>In Service</td>\n",
              "      <td>ABIDJAN</td>\n",
              "      <td>Abidjan_CENTRE</td>\n",
              "      <td>ZONE A - Abidjan_CENTRE</td>\n",
              "      <td>-4.026139</td>\n",
              "      <td>5.329250</td>\n",
              "      <td>LAGUNE</td>\n",
              "      <td>ABIDJAN SOUTH</td>\n",
              "      <td>3e46cdd0e8</td>\n",
              "    </tr>\n",
              "    <tr>\n",
              "      <th>4</th>\n",
              "      <td>Voice</td>\n",
              "      <td>0</td>\n",
              "      <td>2012-05-07 20:17:41.0</td>\n",
              "      <td>3</td>\n",
              "      <td>4106e7c8e1bdc3c</td>\n",
              "      <td>87b5c66d514431b</td>\n",
              "      <td>19e2e</td>\n",
              "      <td>19e2e</td>\n",
              "      <td>f7f527c807</td>\n",
              "      <td>NaN</td>\n",
              "      <td>PLATEAU</td>\n",
              "      <td>In Service</td>\n",
              "      <td>ABIDJAN</td>\n",
              "      <td>Abidjan_CENTRE</td>\n",
              "      <td>ZONE A - Abidjan_CENTRE</td>\n",
              "      <td>-4.026139</td>\n",
              "      <td>5.329250</td>\n",
              "      <td>LAGUNE</td>\n",
              "      <td>ABIDJAN SOUTH</td>\n",
              "      <td>3e46cdd0e8</td>\n",
              "    </tr>\n",
              "  </tbody>\n",
              "</table>\n",
              "</div>"
            ],
            "text/plain": [
              "  product  value               datetime  ...  region           area   site_code\n",
              "0   Voice      0  2012-05-07 08:33:43.0  ...  LAGUNE  ABIDJAN NORTH  7f76d66503\n",
              "1   Voice      0  2012-05-07 08:36:17.0  ...  LAGUNE  ABIDJAN SOUTH  ffa6bdc032\n",
              "2   Voice      0  2012-05-07 08:37:47.0  ...  LAGUNE  ABIDJAN SOUTH  3e46cdd0e8\n",
              "3   Voice      0  2012-05-07 09:56:52.0  ...  LAGUNE  ABIDJAN SOUTH  3e46cdd0e8\n",
              "4   Voice      0  2012-05-07 20:17:41.0  ...  LAGUNE  ABIDJAN SOUTH  3e46cdd0e8\n",
              "\n",
              "[5 rows x 20 columns]"
            ]
          },
          "metadata": {
            "tags": []
          },
          "execution_count": 15
        }
      ]
    },
    {
      "cell_type": "code",
      "metadata": {
        "id": "w_3CdixOVxDX",
        "colab": {
          "base_uri": "https://localhost:8080/",
          "height": 34
        },
        "outputId": "7f743821-a75f-4e0d-c263-2ae5ba345c85"
      },
      "source": [
        "# Checking the shape of the new dataset\n",
        "# ---\n",
        "# \n",
        "df1_merged.shape"
      ],
      "execution_count": null,
      "outputs": [
        {
          "output_type": "execute_result",
          "data": {
            "text/plain": [
              "(176, 20)"
            ]
          },
          "metadata": {
            "tags": []
          },
          "execution_count": 16
        }
      ]
    },
    {
      "cell_type": "code",
      "metadata": {
        "id": "7Zb6UwgMVw2B",
        "colab": {
          "base_uri": "https://localhost:8080/",
          "height": 394
        },
        "outputId": "30cf6d85-f7f1-4d16-9659-049ad0f53b71"
      },
      "source": [
        "# Merging: Dataset 2 and 4\n",
        "# ---\n",
        "# -> Merging dataset 2 with dataset 4\n",
        "# -> Previewing the resulting dataset\n",
        "# ---\n",
        "# \n",
        "df2_merged = df2.merge(cells_geo, how='inner', on='cell_id')\n",
        "df2_merged.head()"
      ],
      "execution_count": null,
      "outputs": [
        {
          "output_type": "execute_result",
          "data": {
            "text/html": [
              "<div>\n",
              "<style scoped>\n",
              "    .dataframe tbody tr th:only-of-type {\n",
              "        vertical-align: middle;\n",
              "    }\n",
              "\n",
              "    .dataframe tbody tr th {\n",
              "        vertical-align: top;\n",
              "    }\n",
              "\n",
              "    .dataframe thead th {\n",
              "        text-align: right;\n",
              "    }\n",
              "</style>\n",
              "<table border=\"1\" class=\"dataframe\">\n",
              "  <thead>\n",
              "    <tr style=\"text-align: right;\">\n",
              "      <th></th>\n",
              "      <th>product</th>\n",
              "      <th>value</th>\n",
              "      <th>datetime</th>\n",
              "      <th>cell_on_site</th>\n",
              "      <th>dw_a_number_int</th>\n",
              "      <th>dw_b_number_int</th>\n",
              "      <th>country_a</th>\n",
              "      <th>country_b</th>\n",
              "      <th>cell_id</th>\n",
              "      <th>site_id</th>\n",
              "      <th>villes</th>\n",
              "      <th>status</th>\n",
              "      <th>localisation</th>\n",
              "      <th>decoupzone</th>\n",
              "      <th>zonename</th>\n",
              "      <th>longitude</th>\n",
              "      <th>latitude</th>\n",
              "      <th>region</th>\n",
              "      <th>area</th>\n",
              "      <th>site_code</th>\n",
              "    </tr>\n",
              "  </thead>\n",
              "  <tbody>\n",
              "    <tr>\n",
              "      <th>0</th>\n",
              "      <td>Voice</td>\n",
              "      <td>0</td>\n",
              "      <td>2012-05-08 06:47:21.0</td>\n",
              "      <td>1</td>\n",
              "      <td>67af5d494d30293</td>\n",
              "      <td>404ba3c13af0327</td>\n",
              "      <td>19e2e</td>\n",
              "      <td>19e2e</td>\n",
              "      <td>35e843a20a</td>\n",
              "      <td>NaN</td>\n",
              "      <td>TIASSALE</td>\n",
              "      <td>In Service</td>\n",
              "      <td>INTERIEUR</td>\n",
              "      <td>Grand-SUD</td>\n",
              "      <td>ZONE B - Grand-SUD</td>\n",
              "      <td>-4.824889</td>\n",
              "      <td>5.895250</td>\n",
              "      <td>LAGUNE</td>\n",
              "      <td>SOUTH WEST</td>\n",
              "      <td>78d279198d</td>\n",
              "    </tr>\n",
              "    <tr>\n",
              "      <th>1</th>\n",
              "      <td>Voice</td>\n",
              "      <td>0</td>\n",
              "      <td>2012-05-08 07:51:51.0</td>\n",
              "      <td>0</td>\n",
              "      <td>e34ff4a67d606fa</td>\n",
              "      <td>4407ee203016a4b</td>\n",
              "      <td>19e2e</td>\n",
              "      <td>19e2e</td>\n",
              "      <td>0e037c2d0c</td>\n",
              "      <td>NaN</td>\n",
              "      <td>SOUBRE</td>\n",
              "      <td>In Service</td>\n",
              "      <td>INTERIEUR</td>\n",
              "      <td>SUD-OUEST</td>\n",
              "      <td>ZONE E - SUD-OUEST</td>\n",
              "      <td>-6.602500</td>\n",
              "      <td>5.777111</td>\n",
              "      <td>BAS SASSANDRA</td>\n",
              "      <td>SOUTH WEST</td>\n",
              "      <td>956ede9166</td>\n",
              "    </tr>\n",
              "    <tr>\n",
              "      <th>2</th>\n",
              "      <td>Voice</td>\n",
              "      <td>0</td>\n",
              "      <td>2012-05-08 07:54:47.0</td>\n",
              "      <td>1</td>\n",
              "      <td>32f19812c5e6580</td>\n",
              "      <td>5a699ac9f644039</td>\n",
              "      <td>19e2e</td>\n",
              "      <td>19e2e</td>\n",
              "      <td>cf1f58a995</td>\n",
              "      <td>NaN</td>\n",
              "      <td>PORT-BOUET</td>\n",
              "      <td>In Service</td>\n",
              "      <td>ABIDJAN</td>\n",
              "      <td>Abidjan_SUD</td>\n",
              "      <td>ZONE D - Abidjan_SUD</td>\n",
              "      <td>-3.945028</td>\n",
              "      <td>5.254056</td>\n",
              "      <td>LAGUNE</td>\n",
              "      <td>ABIDJAN SOUTH</td>\n",
              "      <td>ffa6bdc032</td>\n",
              "    </tr>\n",
              "    <tr>\n",
              "      <th>3</th>\n",
              "      <td>Voice</td>\n",
              "      <td>0</td>\n",
              "      <td>2012-05-08 14:52:59.0</td>\n",
              "      <td>1</td>\n",
              "      <td>704ad46f5623789</td>\n",
              "      <td>8788ee37020a0b3</td>\n",
              "      <td>19e2e</td>\n",
              "      <td>19e2e</td>\n",
              "      <td>cf1f58a995</td>\n",
              "      <td>NaN</td>\n",
              "      <td>PORT-BOUET</td>\n",
              "      <td>In Service</td>\n",
              "      <td>ABIDJAN</td>\n",
              "      <td>Abidjan_SUD</td>\n",
              "      <td>ZONE D - Abidjan_SUD</td>\n",
              "      <td>-3.945028</td>\n",
              "      <td>5.254056</td>\n",
              "      <td>LAGUNE</td>\n",
              "      <td>ABIDJAN SOUTH</td>\n",
              "      <td>ffa6bdc032</td>\n",
              "    </tr>\n",
              "    <tr>\n",
              "      <th>4</th>\n",
              "      <td>Voice</td>\n",
              "      <td>0</td>\n",
              "      <td>2012-05-08 17:03:00.0</td>\n",
              "      <td>1</td>\n",
              "      <td>5a699ac9f644039</td>\n",
              "      <td>9b4bc9f7d7ce6b2</td>\n",
              "      <td>19e2e</td>\n",
              "      <td>19e2e</td>\n",
              "      <td>cf1f58a995</td>\n",
              "      <td>NaN</td>\n",
              "      <td>PORT-BOUET</td>\n",
              "      <td>In Service</td>\n",
              "      <td>ABIDJAN</td>\n",
              "      <td>Abidjan_SUD</td>\n",
              "      <td>ZONE D - Abidjan_SUD</td>\n",
              "      <td>-3.945028</td>\n",
              "      <td>5.254056</td>\n",
              "      <td>LAGUNE</td>\n",
              "      <td>ABIDJAN SOUTH</td>\n",
              "      <td>ffa6bdc032</td>\n",
              "    </tr>\n",
              "  </tbody>\n",
              "</table>\n",
              "</div>"
            ],
            "text/plain": [
              "  product  value  ...           area   site_code\n",
              "0   Voice      0  ...     SOUTH WEST  78d279198d\n",
              "1   Voice      0  ...     SOUTH WEST  956ede9166\n",
              "2   Voice      0  ...  ABIDJAN SOUTH  ffa6bdc032\n",
              "3   Voice      0  ...  ABIDJAN SOUTH  ffa6bdc032\n",
              "4   Voice      0  ...  ABIDJAN SOUTH  ffa6bdc032\n",
              "\n",
              "[5 rows x 20 columns]"
            ]
          },
          "metadata": {
            "tags": []
          },
          "execution_count": 18
        }
      ]
    },
    {
      "cell_type": "code",
      "metadata": {
        "id": "-AgXokbS6vsU",
        "colab": {
          "base_uri": "https://localhost:8080/",
          "height": 34
        },
        "outputId": "8437a6fd-a892-4c2a-da61-6632cec49690"
      },
      "source": [
        "# Checking the shape of the new dataset\n",
        "# ---\n",
        "# \n",
        "df2_merged.shape"
      ],
      "execution_count": null,
      "outputs": [
        {
          "output_type": "execute_result",
          "data": {
            "text/plain": [
              "(101, 20)"
            ]
          },
          "metadata": {
            "tags": []
          },
          "execution_count": 19
        }
      ]
    },
    {
      "cell_type": "code",
      "metadata": {
        "id": "TgrI9Z1J64YQ",
        "colab": {
          "base_uri": "https://localhost:8080/",
          "height": 394
        },
        "outputId": "3ce3abb7-f29f-47de-87d1-622e04970b3e"
      },
      "source": [
        "# Merging: Dataset 3 and 4\n",
        "# ---\n",
        "# -> Merging dataset 3 with dataset 4\n",
        "# -> Previewing the resulting dataset\n",
        "# ---\n",
        "# \n",
        "df3_merged = df3.merge(cells_geo, how='inner', on='cell_id')\n",
        "df3_merged.head()"
      ],
      "execution_count": null,
      "outputs": [
        {
          "output_type": "execute_result",
          "data": {
            "text/html": [
              "<div>\n",
              "<style scoped>\n",
              "    .dataframe tbody tr th:only-of-type {\n",
              "        vertical-align: middle;\n",
              "    }\n",
              "\n",
              "    .dataframe tbody tr th {\n",
              "        vertical-align: top;\n",
              "    }\n",
              "\n",
              "    .dataframe thead th {\n",
              "        text-align: right;\n",
              "    }\n",
              "</style>\n",
              "<table border=\"1\" class=\"dataframe\">\n",
              "  <thead>\n",
              "    <tr style=\"text-align: right;\">\n",
              "      <th></th>\n",
              "      <th>product</th>\n",
              "      <th>value</th>\n",
              "      <th>datetime</th>\n",
              "      <th>cell_on_site</th>\n",
              "      <th>dw_a_number_int</th>\n",
              "      <th>dw_b_number_int</th>\n",
              "      <th>country_a</th>\n",
              "      <th>country_b</th>\n",
              "      <th>cell_id</th>\n",
              "      <th>site_id</th>\n",
              "      <th>villes</th>\n",
              "      <th>status</th>\n",
              "      <th>localisation</th>\n",
              "      <th>decoupzone</th>\n",
              "      <th>zonename</th>\n",
              "      <th>longitude</th>\n",
              "      <th>latitude</th>\n",
              "      <th>region</th>\n",
              "      <th>area</th>\n",
              "      <th>site_code</th>\n",
              "    </tr>\n",
              "  </thead>\n",
              "  <tbody>\n",
              "    <tr>\n",
              "      <th>0</th>\n",
              "      <td>Voice</td>\n",
              "      <td>0</td>\n",
              "      <td>2012-05-09 01:51:55.0</td>\n",
              "      <td>1</td>\n",
              "      <td>893e7ee257dad27</td>\n",
              "      <td>662861c8d47acbb</td>\n",
              "      <td>19e2e</td>\n",
              "      <td>19e2e</td>\n",
              "      <td>045d658d47</td>\n",
              "      <td>NaN</td>\n",
              "      <td>COCODY</td>\n",
              "      <td>In Service</td>\n",
              "      <td>ABIDJAN</td>\n",
              "      <td>Abidjan_EST</td>\n",
              "      <td>ZONE B - Abidjan_EST</td>\n",
              "      <td>-3.982222</td>\n",
              "      <td>5.377583</td>\n",
              "      <td>LAGUNE</td>\n",
              "      <td>ABIDJAN NORTH</td>\n",
              "      <td>5818d7383c</td>\n",
              "    </tr>\n",
              "    <tr>\n",
              "      <th>1</th>\n",
              "      <td>Voice</td>\n",
              "      <td>0</td>\n",
              "      <td>2012-05-09 08:08:06.0</td>\n",
              "      <td>0</td>\n",
              "      <td>e34ff4a67d606fa</td>\n",
              "      <td>672e3c14d0ffcac</td>\n",
              "      <td>19e2e</td>\n",
              "      <td>19e2e</td>\n",
              "      <td>0e037c2d0c</td>\n",
              "      <td>NaN</td>\n",
              "      <td>SOUBRE</td>\n",
              "      <td>In Service</td>\n",
              "      <td>INTERIEUR</td>\n",
              "      <td>SUD-OUEST</td>\n",
              "      <td>ZONE E - SUD-OUEST</td>\n",
              "      <td>-6.602500</td>\n",
              "      <td>5.777111</td>\n",
              "      <td>BAS SASSANDRA</td>\n",
              "      <td>SOUTH WEST</td>\n",
              "      <td>956ede9166</td>\n",
              "    </tr>\n",
              "    <tr>\n",
              "      <th>2</th>\n",
              "      <td>Voice</td>\n",
              "      <td>0</td>\n",
              "      <td>2012-05-09 08:47:52.0</td>\n",
              "      <td>2</td>\n",
              "      <td>dfc914262973ddc</td>\n",
              "      <td>dabf9d4e16bb048</td>\n",
              "      <td>19e2e</td>\n",
              "      <td>19e2e</td>\n",
              "      <td>858fa132ac</td>\n",
              "      <td>NaN</td>\n",
              "      <td>COCODY</td>\n",
              "      <td>In Service</td>\n",
              "      <td>ABIDJAN</td>\n",
              "      <td>Abidjan_EST</td>\n",
              "      <td>ZONE B - Abidjan_EST</td>\n",
              "      <td>-4.003556</td>\n",
              "      <td>5.344750</td>\n",
              "      <td>LAGUNE</td>\n",
              "      <td>ABIDJAN NORTH</td>\n",
              "      <td>a55150a8e7</td>\n",
              "    </tr>\n",
              "    <tr>\n",
              "      <th>3</th>\n",
              "      <td>Voice</td>\n",
              "      <td>0</td>\n",
              "      <td>2012-05-09 11:47:13.0</td>\n",
              "      <td>2</td>\n",
              "      <td>dabf9d4e16bb048</td>\n",
              "      <td>746d38702c4a524</td>\n",
              "      <td>19e2e</td>\n",
              "      <td>19e2e</td>\n",
              "      <td>858fa132ac</td>\n",
              "      <td>NaN</td>\n",
              "      <td>COCODY</td>\n",
              "      <td>In Service</td>\n",
              "      <td>ABIDJAN</td>\n",
              "      <td>Abidjan_EST</td>\n",
              "      <td>ZONE B - Abidjan_EST</td>\n",
              "      <td>-4.003556</td>\n",
              "      <td>5.344750</td>\n",
              "      <td>LAGUNE</td>\n",
              "      <td>ABIDJAN NORTH</td>\n",
              "      <td>a55150a8e7</td>\n",
              "    </tr>\n",
              "    <tr>\n",
              "      <th>4</th>\n",
              "      <td>Voice</td>\n",
              "      <td>0</td>\n",
              "      <td>2012-05-09 11:48:56.0</td>\n",
              "      <td>2</td>\n",
              "      <td>a20b9c31b155d9c</td>\n",
              "      <td>e0fe95f96429a5c</td>\n",
              "      <td>19e2e</td>\n",
              "      <td>19e2e</td>\n",
              "      <td>858fa132ac</td>\n",
              "      <td>NaN</td>\n",
              "      <td>COCODY</td>\n",
              "      <td>In Service</td>\n",
              "      <td>ABIDJAN</td>\n",
              "      <td>Abidjan_EST</td>\n",
              "      <td>ZONE B - Abidjan_EST</td>\n",
              "      <td>-4.003556</td>\n",
              "      <td>5.344750</td>\n",
              "      <td>LAGUNE</td>\n",
              "      <td>ABIDJAN NORTH</td>\n",
              "      <td>a55150a8e7</td>\n",
              "    </tr>\n",
              "  </tbody>\n",
              "</table>\n",
              "</div>"
            ],
            "text/plain": [
              "  product  value  ...           area   site_code\n",
              "0   Voice      0  ...  ABIDJAN NORTH  5818d7383c\n",
              "1   Voice      0  ...     SOUTH WEST  956ede9166\n",
              "2   Voice      0  ...  ABIDJAN NORTH  a55150a8e7\n",
              "3   Voice      0  ...  ABIDJAN NORTH  a55150a8e7\n",
              "4   Voice      0  ...  ABIDJAN NORTH  a55150a8e7\n",
              "\n",
              "[5 rows x 20 columns]"
            ]
          },
          "metadata": {
            "tags": []
          },
          "execution_count": 20
        }
      ]
    },
    {
      "cell_type": "code",
      "metadata": {
        "id": "VPL0zmyJ7GR9",
        "colab": {
          "base_uri": "https://localhost:8080/",
          "height": 34
        },
        "outputId": "1be7866f-9179-47e6-c9ab-4b38fd781ce1"
      },
      "source": [
        "# Checking the shape of the new dataset\n",
        "# ---\n",
        "# \n",
        "df3_merged.shape"
      ],
      "execution_count": null,
      "outputs": [
        {
          "output_type": "execute_result",
          "data": {
            "text/plain": [
              "(99, 20)"
            ]
          },
          "metadata": {
            "tags": []
          },
          "execution_count": 21
        }
      ]
    },
    {
      "cell_type": "code",
      "metadata": {
        "id": "JTk0yY867Uh1"
      },
      "source": [
        "# Combining all three resulting datasets\n",
        "# ---\n",
        "# \n",
        "combined = pd.concat([df1_merged, df2_merged, df3_merged], ignore_index=False)"
      ],
      "execution_count": null,
      "outputs": []
    },
    {
      "cell_type": "code",
      "metadata": {
        "id": "vSfNaR217elv",
        "colab": {
          "base_uri": "https://localhost:8080/",
          "height": 394
        },
        "outputId": "c0c7f61f-b647-4dc5-c3e9-79a3166675ed"
      },
      "source": [
        "# Previewing the combined dataframe\n",
        "# \n",
        "combined.head()"
      ],
      "execution_count": null,
      "outputs": [
        {
          "output_type": "execute_result",
          "data": {
            "text/html": [
              "<div>\n",
              "<style scoped>\n",
              "    .dataframe tbody tr th:only-of-type {\n",
              "        vertical-align: middle;\n",
              "    }\n",
              "\n",
              "    .dataframe tbody tr th {\n",
              "        vertical-align: top;\n",
              "    }\n",
              "\n",
              "    .dataframe thead th {\n",
              "        text-align: right;\n",
              "    }\n",
              "</style>\n",
              "<table border=\"1\" class=\"dataframe\">\n",
              "  <thead>\n",
              "    <tr style=\"text-align: right;\">\n",
              "      <th></th>\n",
              "      <th>product</th>\n",
              "      <th>value</th>\n",
              "      <th>datetime</th>\n",
              "      <th>cell_on_site</th>\n",
              "      <th>dw_a_number_int</th>\n",
              "      <th>dw_b_number_int</th>\n",
              "      <th>country_a</th>\n",
              "      <th>country_b</th>\n",
              "      <th>cell_id</th>\n",
              "      <th>site_id</th>\n",
              "      <th>villes</th>\n",
              "      <th>status</th>\n",
              "      <th>localisation</th>\n",
              "      <th>decoupzone</th>\n",
              "      <th>zonename</th>\n",
              "      <th>longitude</th>\n",
              "      <th>latitude</th>\n",
              "      <th>region</th>\n",
              "      <th>area</th>\n",
              "      <th>site_code</th>\n",
              "    </tr>\n",
              "  </thead>\n",
              "  <tbody>\n",
              "    <tr>\n",
              "      <th>0</th>\n",
              "      <td>Voice</td>\n",
              "      <td>0</td>\n",
              "      <td>2012-05-07 08:33:43.0</td>\n",
              "      <td>0</td>\n",
              "      <td>13d236932ae2bcf</td>\n",
              "      <td>662861c8d47acbb</td>\n",
              "      <td>19e2e</td>\n",
              "      <td>19e2e</td>\n",
              "      <td>1ce5a37ea9</td>\n",
              "      <td>NaN</td>\n",
              "      <td>ATTECOUBE</td>\n",
              "      <td>In Service</td>\n",
              "      <td>ABIDJAN</td>\n",
              "      <td>Abidjan_OUEST</td>\n",
              "      <td>ZONE C - Abidjan_OUEST</td>\n",
              "      <td>-4.035111</td>\n",
              "      <td>5.348917</td>\n",
              "      <td>LAGUNE</td>\n",
              "      <td>ABIDJAN NORTH</td>\n",
              "      <td>7f76d66503</td>\n",
              "    </tr>\n",
              "    <tr>\n",
              "      <th>1</th>\n",
              "      <td>Voice</td>\n",
              "      <td>0</td>\n",
              "      <td>2012-05-07 08:36:17.0</td>\n",
              "      <td>0</td>\n",
              "      <td>704ad46f5623789</td>\n",
              "      <td>8788ee37020a0b3</td>\n",
              "      <td>19e2e</td>\n",
              "      <td>19e2e</td>\n",
              "      <td>24ced8b6ba</td>\n",
              "      <td>NaN</td>\n",
              "      <td>PORT-BOUET</td>\n",
              "      <td>In Service</td>\n",
              "      <td>ABIDJAN</td>\n",
              "      <td>Abidjan_SUD</td>\n",
              "      <td>ZONE D - Abidjan_SUD</td>\n",
              "      <td>-3.945028</td>\n",
              "      <td>5.254056</td>\n",
              "      <td>LAGUNE</td>\n",
              "      <td>ABIDJAN SOUTH</td>\n",
              "      <td>ffa6bdc032</td>\n",
              "    </tr>\n",
              "    <tr>\n",
              "      <th>2</th>\n",
              "      <td>Voice</td>\n",
              "      <td>0</td>\n",
              "      <td>2012-05-07 08:37:47.0</td>\n",
              "      <td>3</td>\n",
              "      <td>de08884e7eb68a8</td>\n",
              "      <td>5a699ac9f644039</td>\n",
              "      <td>19e2e</td>\n",
              "      <td>19e2e</td>\n",
              "      <td>f7f527c807</td>\n",
              "      <td>NaN</td>\n",
              "      <td>PLATEAU</td>\n",
              "      <td>In Service</td>\n",
              "      <td>ABIDJAN</td>\n",
              "      <td>Abidjan_CENTRE</td>\n",
              "      <td>ZONE A - Abidjan_CENTRE</td>\n",
              "      <td>-4.026139</td>\n",
              "      <td>5.329250</td>\n",
              "      <td>LAGUNE</td>\n",
              "      <td>ABIDJAN SOUTH</td>\n",
              "      <td>3e46cdd0e8</td>\n",
              "    </tr>\n",
              "    <tr>\n",
              "      <th>3</th>\n",
              "      <td>Voice</td>\n",
              "      <td>0</td>\n",
              "      <td>2012-05-07 09:56:52.0</td>\n",
              "      <td>3</td>\n",
              "      <td>a5ff70730fe55d6</td>\n",
              "      <td>f34968a670b9422</td>\n",
              "      <td>19e2e</td>\n",
              "      <td>19e2e</td>\n",
              "      <td>f7f527c807</td>\n",
              "      <td>NaN</td>\n",
              "      <td>PLATEAU</td>\n",
              "      <td>In Service</td>\n",
              "      <td>ABIDJAN</td>\n",
              "      <td>Abidjan_CENTRE</td>\n",
              "      <td>ZONE A - Abidjan_CENTRE</td>\n",
              "      <td>-4.026139</td>\n",
              "      <td>5.329250</td>\n",
              "      <td>LAGUNE</td>\n",
              "      <td>ABIDJAN SOUTH</td>\n",
              "      <td>3e46cdd0e8</td>\n",
              "    </tr>\n",
              "    <tr>\n",
              "      <th>4</th>\n",
              "      <td>Voice</td>\n",
              "      <td>0</td>\n",
              "      <td>2012-05-07 20:17:41.0</td>\n",
              "      <td>3</td>\n",
              "      <td>4106e7c8e1bdc3c</td>\n",
              "      <td>87b5c66d514431b</td>\n",
              "      <td>19e2e</td>\n",
              "      <td>19e2e</td>\n",
              "      <td>f7f527c807</td>\n",
              "      <td>NaN</td>\n",
              "      <td>PLATEAU</td>\n",
              "      <td>In Service</td>\n",
              "      <td>ABIDJAN</td>\n",
              "      <td>Abidjan_CENTRE</td>\n",
              "      <td>ZONE A - Abidjan_CENTRE</td>\n",
              "      <td>-4.026139</td>\n",
              "      <td>5.329250</td>\n",
              "      <td>LAGUNE</td>\n",
              "      <td>ABIDJAN SOUTH</td>\n",
              "      <td>3e46cdd0e8</td>\n",
              "    </tr>\n",
              "  </tbody>\n",
              "</table>\n",
              "</div>"
            ],
            "text/plain": [
              "  product  value               datetime  ...  region           area   site_code\n",
              "0   Voice      0  2012-05-07 08:33:43.0  ...  LAGUNE  ABIDJAN NORTH  7f76d66503\n",
              "1   Voice      0  2012-05-07 08:36:17.0  ...  LAGUNE  ABIDJAN SOUTH  ffa6bdc032\n",
              "2   Voice      0  2012-05-07 08:37:47.0  ...  LAGUNE  ABIDJAN SOUTH  3e46cdd0e8\n",
              "3   Voice      0  2012-05-07 09:56:52.0  ...  LAGUNE  ABIDJAN SOUTH  3e46cdd0e8\n",
              "4   Voice      0  2012-05-07 20:17:41.0  ...  LAGUNE  ABIDJAN SOUTH  3e46cdd0e8\n",
              "\n",
              "[5 rows x 20 columns]"
            ]
          },
          "metadata": {
            "tags": []
          },
          "execution_count": 23
        }
      ]
    },
    {
      "cell_type": "code",
      "metadata": {
        "id": "3XdUUIwr7if9",
        "colab": {
          "base_uri": "https://localhost:8080/",
          "height": 34
        },
        "outputId": "e57c7790-758c-4521-bf97-871ad173ed4f"
      },
      "source": [
        "# Checking the shape of the new dataset\n",
        "# ---\n",
        "# \n",
        "combined.shape"
      ],
      "execution_count": null,
      "outputs": [
        {
          "output_type": "execute_result",
          "data": {
            "text/plain": [
              "(376, 20)"
            ]
          },
          "metadata": {
            "tags": []
          },
          "execution_count": 24
        }
      ]
    },
    {
      "cell_type": "code",
      "metadata": {
        "id": "hPmR1JIz7nmY",
        "colab": {
          "base_uri": "https://localhost:8080/",
          "height": 394
        },
        "outputId": "e705d4e7-ee86-441e-ddc6-4246a75c07aa"
      },
      "source": [
        "# Dropping the irrelevant columns\n",
        "# ---\n",
        "# \n",
        "combined.drop(['country_a', 'country_b', 'cell_on_site'], axis = 1, inplace = True)\n",
        "combined.head()"
      ],
      "execution_count": null,
      "outputs": [
        {
          "output_type": "execute_result",
          "data": {
            "text/html": [
              "<div>\n",
              "<style scoped>\n",
              "    .dataframe tbody tr th:only-of-type {\n",
              "        vertical-align: middle;\n",
              "    }\n",
              "\n",
              "    .dataframe tbody tr th {\n",
              "        vertical-align: top;\n",
              "    }\n",
              "\n",
              "    .dataframe thead th {\n",
              "        text-align: right;\n",
              "    }\n",
              "</style>\n",
              "<table border=\"1\" class=\"dataframe\">\n",
              "  <thead>\n",
              "    <tr style=\"text-align: right;\">\n",
              "      <th></th>\n",
              "      <th>product</th>\n",
              "      <th>value</th>\n",
              "      <th>datetime</th>\n",
              "      <th>dw_a_number_int</th>\n",
              "      <th>dw_b_number_int</th>\n",
              "      <th>cell_id</th>\n",
              "      <th>site_id</th>\n",
              "      <th>villes</th>\n",
              "      <th>status</th>\n",
              "      <th>localisation</th>\n",
              "      <th>decoupzone</th>\n",
              "      <th>zonename</th>\n",
              "      <th>longitude</th>\n",
              "      <th>latitude</th>\n",
              "      <th>region</th>\n",
              "      <th>area</th>\n",
              "      <th>site_code</th>\n",
              "    </tr>\n",
              "  </thead>\n",
              "  <tbody>\n",
              "    <tr>\n",
              "      <th>0</th>\n",
              "      <td>Voice</td>\n",
              "      <td>0</td>\n",
              "      <td>2012-05-07 08:33:43.0</td>\n",
              "      <td>13d236932ae2bcf</td>\n",
              "      <td>662861c8d47acbb</td>\n",
              "      <td>1ce5a37ea9</td>\n",
              "      <td>NaN</td>\n",
              "      <td>ATTECOUBE</td>\n",
              "      <td>In Service</td>\n",
              "      <td>ABIDJAN</td>\n",
              "      <td>Abidjan_OUEST</td>\n",
              "      <td>ZONE C - Abidjan_OUEST</td>\n",
              "      <td>-4.035111</td>\n",
              "      <td>5.348917</td>\n",
              "      <td>LAGUNE</td>\n",
              "      <td>ABIDJAN NORTH</td>\n",
              "      <td>7f76d66503</td>\n",
              "    </tr>\n",
              "    <tr>\n",
              "      <th>1</th>\n",
              "      <td>Voice</td>\n",
              "      <td>0</td>\n",
              "      <td>2012-05-07 08:36:17.0</td>\n",
              "      <td>704ad46f5623789</td>\n",
              "      <td>8788ee37020a0b3</td>\n",
              "      <td>24ced8b6ba</td>\n",
              "      <td>NaN</td>\n",
              "      <td>PORT-BOUET</td>\n",
              "      <td>In Service</td>\n",
              "      <td>ABIDJAN</td>\n",
              "      <td>Abidjan_SUD</td>\n",
              "      <td>ZONE D - Abidjan_SUD</td>\n",
              "      <td>-3.945028</td>\n",
              "      <td>5.254056</td>\n",
              "      <td>LAGUNE</td>\n",
              "      <td>ABIDJAN SOUTH</td>\n",
              "      <td>ffa6bdc032</td>\n",
              "    </tr>\n",
              "    <tr>\n",
              "      <th>2</th>\n",
              "      <td>Voice</td>\n",
              "      <td>0</td>\n",
              "      <td>2012-05-07 08:37:47.0</td>\n",
              "      <td>de08884e7eb68a8</td>\n",
              "      <td>5a699ac9f644039</td>\n",
              "      <td>f7f527c807</td>\n",
              "      <td>NaN</td>\n",
              "      <td>PLATEAU</td>\n",
              "      <td>In Service</td>\n",
              "      <td>ABIDJAN</td>\n",
              "      <td>Abidjan_CENTRE</td>\n",
              "      <td>ZONE A - Abidjan_CENTRE</td>\n",
              "      <td>-4.026139</td>\n",
              "      <td>5.329250</td>\n",
              "      <td>LAGUNE</td>\n",
              "      <td>ABIDJAN SOUTH</td>\n",
              "      <td>3e46cdd0e8</td>\n",
              "    </tr>\n",
              "    <tr>\n",
              "      <th>3</th>\n",
              "      <td>Voice</td>\n",
              "      <td>0</td>\n",
              "      <td>2012-05-07 09:56:52.0</td>\n",
              "      <td>a5ff70730fe55d6</td>\n",
              "      <td>f34968a670b9422</td>\n",
              "      <td>f7f527c807</td>\n",
              "      <td>NaN</td>\n",
              "      <td>PLATEAU</td>\n",
              "      <td>In Service</td>\n",
              "      <td>ABIDJAN</td>\n",
              "      <td>Abidjan_CENTRE</td>\n",
              "      <td>ZONE A - Abidjan_CENTRE</td>\n",
              "      <td>-4.026139</td>\n",
              "      <td>5.329250</td>\n",
              "      <td>LAGUNE</td>\n",
              "      <td>ABIDJAN SOUTH</td>\n",
              "      <td>3e46cdd0e8</td>\n",
              "    </tr>\n",
              "    <tr>\n",
              "      <th>4</th>\n",
              "      <td>Voice</td>\n",
              "      <td>0</td>\n",
              "      <td>2012-05-07 20:17:41.0</td>\n",
              "      <td>4106e7c8e1bdc3c</td>\n",
              "      <td>87b5c66d514431b</td>\n",
              "      <td>f7f527c807</td>\n",
              "      <td>NaN</td>\n",
              "      <td>PLATEAU</td>\n",
              "      <td>In Service</td>\n",
              "      <td>ABIDJAN</td>\n",
              "      <td>Abidjan_CENTRE</td>\n",
              "      <td>ZONE A - Abidjan_CENTRE</td>\n",
              "      <td>-4.026139</td>\n",
              "      <td>5.329250</td>\n",
              "      <td>LAGUNE</td>\n",
              "      <td>ABIDJAN SOUTH</td>\n",
              "      <td>3e46cdd0e8</td>\n",
              "    </tr>\n",
              "  </tbody>\n",
              "</table>\n",
              "</div>"
            ],
            "text/plain": [
              "  product  value               datetime  ...  region           area   site_code\n",
              "0   Voice      0  2012-05-07 08:33:43.0  ...  LAGUNE  ABIDJAN NORTH  7f76d66503\n",
              "1   Voice      0  2012-05-07 08:36:17.0  ...  LAGUNE  ABIDJAN SOUTH  ffa6bdc032\n",
              "2   Voice      0  2012-05-07 08:37:47.0  ...  LAGUNE  ABIDJAN SOUTH  3e46cdd0e8\n",
              "3   Voice      0  2012-05-07 09:56:52.0  ...  LAGUNE  ABIDJAN SOUTH  3e46cdd0e8\n",
              "4   Voice      0  2012-05-07 20:17:41.0  ...  LAGUNE  ABIDJAN SOUTH  3e46cdd0e8\n",
              "\n",
              "[5 rows x 17 columns]"
            ]
          },
          "metadata": {
            "tags": []
          },
          "execution_count": 25
        }
      ]
    },
    {
      "cell_type": "code",
      "metadata": {
        "id": "cyxI--Bb7xgV",
        "colab": {
          "base_uri": "https://localhost:8080/",
          "height": 323
        },
        "outputId": "74fb92fd-ef13-4466-8c90-06fcb5e89603"
      },
      "source": [
        "# Checking for null values\n",
        "# ---\n",
        "# \n",
        "combined.isnull().sum()"
      ],
      "execution_count": null,
      "outputs": [
        {
          "output_type": "execute_result",
          "data": {
            "text/plain": [
              "product              0\n",
              "value                0\n",
              "datetime             0\n",
              "dw_a_number_int      0\n",
              "dw_b_number_int      0\n",
              "cell_id              0\n",
              "site_id            376\n",
              "villes               0\n",
              "status               1\n",
              "localisation         0\n",
              "decoupzone           0\n",
              "zonename             0\n",
              "longitude            0\n",
              "latitude             0\n",
              "region               0\n",
              "area                 0\n",
              "site_code            0\n",
              "dtype: int64"
            ]
          },
          "metadata": {
            "tags": []
          },
          "execution_count": 26
        }
      ]
    },
    {
      "cell_type": "code",
      "metadata": {
        "id": "G7u6X7ns717A"
      },
      "source": [
        "# Dropping the site_id column: There were many missing values\n",
        "# ---\n",
        "# \n",
        "combined.drop('site_id', axis = 1, inplace = True)"
      ],
      "execution_count": null,
      "outputs": []
    },
    {
      "cell_type": "code",
      "metadata": {
        "id": "pb2CtPNW8IO4"
      },
      "source": [
        "# Impute missing column with median values\n",
        "# ---\n",
        "# \n",
        "combined.fillna(np.median, inplace = True)"
      ],
      "execution_count": null,
      "outputs": []
    },
    {
      "cell_type": "code",
      "metadata": {
        "id": "6y5Ws8rr8Tf-",
        "colab": {
          "base_uri": "https://localhost:8080/",
          "height": 306
        },
        "outputId": "39649bf1-d185-45de-afc8-bf369ae6e76c"
      },
      "source": [
        "# Checking for null values\n",
        "# ---\n",
        "# \n",
        "combined.isnull().sum()"
      ],
      "execution_count": null,
      "outputs": [
        {
          "output_type": "execute_result",
          "data": {
            "text/plain": [
              "product            0\n",
              "value              0\n",
              "datetime           0\n",
              "dw_a_number_int    0\n",
              "dw_b_number_int    0\n",
              "cell_id            0\n",
              "villes             0\n",
              "status             0\n",
              "localisation       0\n",
              "decoupzone         0\n",
              "zonename           0\n",
              "longitude          0\n",
              "latitude           0\n",
              "region             0\n",
              "area               0\n",
              "site_code          0\n",
              "dtype: int64"
            ]
          },
          "metadata": {
            "tags": []
          },
          "execution_count": 29
        }
      ]
    },
    {
      "cell_type": "code",
      "metadata": {
        "id": "pG_cn2tP9Eiw"
      },
      "source": [
        "# Changing the datetime column to datetime type\n",
        "# ---\n",
        "# \n",
        "combined.datetime = pd.to_datetime(combined.datetime)"
      ],
      "execution_count": null,
      "outputs": []
    },
    {
      "cell_type": "code",
      "metadata": {
        "id": "IjjMmneE9Mm5"
      },
      "source": [
        "# Splitting the datetime to date and time\n",
        "# ---\n",
        "# \n",
        "combined['date'] = [d.date() for d in combined.datetime]\n",
        "combined['time'] = [d.time() for d in combined.datetime]\n",
        "combined['date'] = pd.to_datetime(combined['date'])\n",
        "combined['time'] = pd.to_datetime(combined['time'], format='%H:%M:%S:%f', errors = 'ignore')"
      ],
      "execution_count": null,
      "outputs": []
    },
    {
      "cell_type": "code",
      "metadata": {
        "id": "LQsV3bhh9S6l",
        "colab": {
          "base_uri": "https://localhost:8080/",
          "height": 340
        },
        "outputId": "7897e01a-e1c8-4640-971c-e22380db9520"
      },
      "source": [
        "# Checking whether the changes have been made\n",
        "# ---\n",
        "# \n",
        "combined.dtypes"
      ],
      "execution_count": null,
      "outputs": [
        {
          "output_type": "execute_result",
          "data": {
            "text/plain": [
              "product                    object\n",
              "value                       int64\n",
              "datetime           datetime64[ns]\n",
              "dw_a_number_int            object\n",
              "dw_b_number_int            object\n",
              "cell_id                    object\n",
              "villes                     object\n",
              "status                     object\n",
              "localisation               object\n",
              "decoupzone                 object\n",
              "zonename                   object\n",
              "longitude                 float64\n",
              "latitude                  float64\n",
              "region                     object\n",
              "area                       object\n",
              "site_code                  object\n",
              "date               datetime64[ns]\n",
              "time                       object\n",
              "dtype: object"
            ]
          },
          "metadata": {
            "tags": []
          },
          "execution_count": 32
        }
      ]
    },
    {
      "cell_type": "markdown",
      "metadata": {
        "id": "IkHvP2tL7QEo"
      },
      "source": [
        "### Performing Data Analysis"
      ]
    },
    {
      "cell_type": "code",
      "metadata": {
        "id": "vNKZMReT7QzQ",
        "colab": {
          "base_uri": "https://localhost:8080/",
          "height": 391
        },
        "outputId": "0a096747-dd6f-43ac-82fd-6677c82f2096"
      },
      "source": [
        "# Question 1: Which cities were used most during business hours from 9 am to 5 pm?\n",
        "# ---\n",
        "# \n",
        "\n",
        "# First, finding the cities which were used most for the three days\n",
        "# \n",
        "combined.groupby(['date', 'villes']).size()\n",
        "\n",
        "# Importing datetime library\n",
        "# ---\n",
        "# \n",
        "import datetime\n",
        "\n",
        "# Cities used most during business hours from 9 am to 5 pm\n",
        "# ---\n",
        "# \n",
        "business_hours = combined[(combined.datetime.dt.time >= datetime.time(9)) & (combined.datetime.dt.time <= datetime.time(17))]\n",
        "\n",
        "# Sorting our cities\n",
        "# ---\n",
        "#\n",
        "business_hours.groupby('villes')['villes'].count().sort_values(ascending = False)"
      ],
      "execution_count": null,
      "outputs": [
        {
          "output_type": "execute_result",
          "data": {
            "text/plain": [
              "villes\n",
              "COCODY          93\n",
              "MARCORY         32\n",
              "TREICHVILLE     20\n",
              "YAMOUSSOUKRO    18\n",
              "PORT-BOUET      17\n",
              "ABOBO           15\n",
              "TIASSALE        15\n",
              "KOUMASSI        13\n",
              "ADJAME           6\n",
              "YOPOUGON         5\n",
              "SOUBRE           5\n",
              "PLATEAU          4\n",
              "ATTECOUBE        4\n",
              "SAN-PEDRO        3\n",
              "SONGON           3\n",
              "BINGERVILLE      3\n",
              "TANDA            1\n",
              "TIEBISSOU        1\n",
              "TOUMODI          1\n",
              "ABENGOUROU       1\n",
              "Name: villes, dtype: int64"
            ]
          },
          "metadata": {
            "tags": []
          },
          "execution_count": 33
        }
      ]
    },
    {
      "cell_type": "code",
      "metadata": {
        "id": "E8ySRpsg9j2Q",
        "colab": {
          "base_uri": "https://localhost:8080/",
          "height": 340
        },
        "outputId": "0fe750c1-3527-4e72-ee04-abf61d096ce9"
      },
      "source": [
        "# Question 2: Which cities were used most during home hours from 5 pm to 9 am?\n",
        "# ---\n",
        "# \n",
        "home_hours = combined[~ ((combined.datetime.dt.time >= datetime.time(9)) & (combined.datetime.dt.time <= datetime.time(17)))]\n",
        "home_hours.groupby('villes')['villes'].count().sort_values(ascending = False)"
      ],
      "execution_count": null,
      "outputs": [
        {
          "output_type": "execute_result",
          "data": {
            "text/plain": [
              "villes\n",
              "COCODY          35\n",
              "MARCORY         12\n",
              "TIASSALE        11\n",
              "ABOBO           10\n",
              "YAMOUSSOUKRO     9\n",
              "PLATEAU          7\n",
              "PORT-BOUET       7\n",
              "TREICHVILLE      6\n",
              "YOPOUGON         6\n",
              "SOUBRE           3\n",
              "TOUMODI          3\n",
              "ADJAME           2\n",
              "TANDA            1\n",
              "TIEBISSOU        1\n",
              "KOUMASSI         1\n",
              "GAGNOA           1\n",
              "ATTECOUBE        1\n",
              "Name: villes, dtype: int64"
            ]
          },
          "metadata": {
            "tags": []
          },
          "execution_count": 35
        }
      ]
    },
    {
      "cell_type": "code",
      "metadata": {
        "id": "6MIzua6w9mPE",
        "colab": {
          "base_uri": "https://localhost:8080/",
          "height": 408
        },
        "outputId": "e6423f40-20e8-4f7c-f02b-a2a4aef9ffdc"
      },
      "source": [
        "# Question 3: Which were the most used cities for the three days?\n",
        "# ---\n",
        "# \n",
        "combined.groupby('villes')['villes'].count().sort_values(ascending = False)"
      ],
      "execution_count": null,
      "outputs": [
        {
          "output_type": "execute_result",
          "data": {
            "text/plain": [
              "villes\n",
              "COCODY          128\n",
              "MARCORY          44\n",
              "YAMOUSSOUKRO     27\n",
              "TREICHVILLE      26\n",
              "TIASSALE         26\n",
              "ABOBO            25\n",
              "PORT-BOUET       24\n",
              "KOUMASSI         14\n",
              "PLATEAU          11\n",
              "YOPOUGON         11\n",
              "SOUBRE            8\n",
              "ADJAME            8\n",
              "ATTECOUBE         5\n",
              "TOUMODI           4\n",
              "SAN-PEDRO         3\n",
              "SONGON            3\n",
              "BINGERVILLE       3\n",
              "TANDA             2\n",
              "TIEBISSOU         2\n",
              "GAGNOA            1\n",
              "ABENGOUROU        1\n",
              "Name: villes, dtype: int64"
            ]
          },
          "metadata": {
            "tags": []
          },
          "execution_count": 36
        }
      ]
    },
    {
      "cell_type": "code",
      "metadata": {
        "id": "shp1IWbr9-Ll",
        "colab": {
          "base_uri": "https://localhost:8080/",
          "height": 102
        },
        "outputId": "4577923a-4376-4f98-8b5f-ce7f209ecaab"
      },
      "source": [
        "# Question 4: Which products were the most used for the three days?\n",
        "# ---\n",
        "# \n",
        "combined.groupby(['date', 'product'])['product'].count().sort_values(ascending = False)"
      ],
      "execution_count": null,
      "outputs": [
        {
          "output_type": "execute_result",
          "data": {
            "text/plain": [
              "date        product\n",
              "2012-05-07  Voice      176\n",
              "2012-05-08  Voice      101\n",
              "2012-05-09  Voice       99\n",
              "Name: product, dtype: int64"
            ]
          },
          "metadata": {
            "tags": []
          },
          "execution_count": 37
        }
      ]
    },
    {
      "cell_type": "code",
      "metadata": {
        "id": "ddKJR1Ly-KGv",
        "colab": {
          "base_uri": "https://localhost:8080/",
          "height": 153
        },
        "outputId": "f612969f-4ee6-45ba-c15f-6684b4d6cb5c"
      },
      "source": [
        "# Question 5: Which regions which had the most used product and what product was it?\n",
        "# ---\n",
        "# \n",
        "combined.groupby(['region', 'product'])['product'].count().sort_values(ascending = False)"
      ],
      "execution_count": null,
      "outputs": [
        {
          "output_type": "execute_result",
          "data": {
            "text/plain": [
              "region         product\n",
              "LAGUNE         Voice      328\n",
              "LACS           Voice       33\n",
              "BAS SASSANDRA  Voice       11\n",
              "ZANZAN         Voice        2\n",
              "MOYEN COMOE    Voice        1\n",
              "FROMAGER       Voice        1\n",
              "Name: product, dtype: int64"
            ]
          },
          "metadata": {
            "tags": []
          },
          "execution_count": 38
        }
      ]
    },
    {
      "cell_type": "code",
      "metadata": {
        "id": "1kjwCq8b-PXs",
        "colab": {
          "base_uri": "https://localhost:8080/",
          "height": 136
        },
        "outputId": "1801291f-1c36-401a-b6d8-3c3fd3707f3b"
      },
      "source": [
        "# Question 6: Which area the used (the above product) the most used product the most?\n",
        "# ---\n",
        "# \n",
        "combined.groupby(['area', 'product'])['product'].count().sort_values(ascending = False)"
      ],
      "execution_count": null,
      "outputs": [
        {
          "output_type": "execute_result",
          "data": {
            "text/plain": [
              "area           product\n",
              "ABIDJAN NORTH  Voice      183\n",
              "ABIDJAN SOUTH  Voice      119\n",
              "SOUTH WEST     Voice       38\n",
              "CENTRE NORTH   Voice       33\n",
              "EAST           Voice        3\n",
              "Name: product, dtype: int64"
            ]
          },
          "metadata": {
            "tags": []
          },
          "execution_count": 39
        }
      ]
    }
  ]
}