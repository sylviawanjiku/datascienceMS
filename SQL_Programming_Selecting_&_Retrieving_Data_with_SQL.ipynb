{
  "nbformat": 4,
  "nbformat_minor": 0,
  "metadata": {
    "colab": {
      "name": "SQL Programming - Selecting & Retrieving Data with SQL",
      "provenance": [],
      "collapsed_sections": [
        "1nDHMRqtg1nd",
        "5NiauWDEtyQT",
        "V2bBqgpywagu",
        "5StEYulTyETT",
        "RfMZY5FixNp9",
        "OjBIzvDZycEj",
        "flPFAAxGxRjP",
        "Ebo74ksiyxSt",
        "kuQDOhnZxXSS",
        "SD-wxiNhzN8h",
        "_HPMnfsqxgWv",
        "hJ310W5zzdVQ",
        "45Pnf42Nxnkz",
        "2mNf3P6fz6qe",
        "ZBHtfAOuxtWX",
        "urJSHr5a0QHF",
        "RHhkA_Ymxxv2",
        "kXmE4FXm0otn",
        "d1c_SidIx2Pc",
        "YncWLSu11Y21"
      ],
      "toc_visible": true,
      "include_colab_link": true
    },
    "kernelspec": {
      "name": "python3",
      "display_name": "Python 3"
    },
    "accelerator": "GPU"
  },
  "cells": [
    {
      "cell_type": "markdown",
      "metadata": {
        "id": "view-in-github",
        "colab_type": "text"
      },
      "source": [
        "<a href=\"https://colab.research.google.com/github/sylviawanjiku/datascienceMS/blob/main/SQL_Programming_Selecting_%26_Retrieving_Data_with_SQL.ipynb\" target=\"_parent\"><img src=\"https://colab.research.google.com/assets/colab-badge.svg\" alt=\"Open In Colab\"/></a>"
      ]
    },
    {
      "cell_type": "markdown",
      "metadata": {
        "id": "iHn_rVx9AQbH"
      },
      "source": [
        "<font color=\"green\">*To start working on this notebook, or any other notebook that we will use in the Moringa Data Science Course, we will need to save our own copy of it. We can do this by clicking File > Save a Copy in Drive. We will then be able to make edits to our own copy of this notebook.*</font>"
      ]
    },
    {
      "cell_type": "markdown",
      "metadata": {
        "id": "vNuevLakwO1D"
      },
      "source": [
        "# Selecting & Retrieving Data with SQL"
      ]
    },
    {
      "cell_type": "markdown",
      "metadata": {
        "id": "1nDHMRqtg1nd"
      },
      "source": [
        "## 1.1 Let's first connect to our Database "
      ]
    },
    {
      "cell_type": "code",
      "metadata": {
        "id": "KEeQqc_32_uy",
        "colab": {
          "base_uri": "https://localhost:8080/",
          "height": 35
        },
        "outputId": "06c5008a-49b0-4dc3-a211-221da364972c"
      },
      "source": [
        "# We will first load the sql extension into our environment\n",
        "#\n",
        "%load_ext sql\n",
        "\n",
        "# Then connect to our in memory sqlite database\n",
        "# NB: This database will cease to exist as soon as the database connection is closed\n",
        "#\n",
        "%sql sqlite://"
      ],
      "execution_count": null,
      "outputs": [
        {
          "output_type": "execute_result",
          "data": {
            "application/vnd.google.colaboratory.intrinsic": {
              "type": "string"
            },
            "text/plain": [
              "'Connected: @None'"
            ]
          },
          "metadata": {
            "tags": []
          },
          "execution_count": 1
        }
      ]
    },
    {
      "cell_type": "markdown",
      "metadata": {
        "id": "5NiauWDEtyQT"
      },
      "source": [
        "## 1.2 Importing Data From a CSV File"
      ]
    },
    {
      "cell_type": "code",
      "metadata": {
        "id": "Y3U2kqH_6StD"
      },
      "source": [
        "# Importing the python libraries that we will need in this notebook\n",
        "#\n",
        "import csv\n",
        "import pandas as pd"
      ],
      "execution_count": null,
      "outputs": []
    },
    {
      "cell_type": "markdown",
      "metadata": {
        "id": "a_pFRGcMOBpq"
      },
      "source": [
        "Then we will download our csv file from Interpol: [here](https://bit.ly/InterpolDataset) and World Cup [here](http://bit.ly/MSWorldCupData)  . Open the link and then on our browser  Click File > Save Page As > Save. Lastly, upload it to our current environment on Colaboratory by clicking View > Table of Contents > Files then Upload.  (NB: Do not load file from url)"
      ]
    },
    {
      "cell_type": "code",
      "metadata": {
        "id": "z6U_gvHB5d_R",
        "colab": {
          "base_uri": "https://localhost:8080/",
          "height": 86
        },
        "outputId": "a5802de8-2da8-4472-daec-952df6130fe8"
      },
      "source": [
        "# Loading the first table from a local CSV file\n",
        "#\n",
        "with open('Countries.csv','r') as f:\n",
        "    Interpol = pd.read_csv(f, index_col=0, encoding='utf-8') \n",
        "\n",
        "# Then storing it in an SQL table of our in memory sqlite database\n",
        "#\n",
        "%sql DROP TABLE if EXISTS Interpol;\n",
        "%sql PERSIST Interpol;"
      ],
      "execution_count": null,
      "outputs": [
        {
          "output_type": "stream",
          "text": [
            " * sqlite://\n",
            "Done.\n",
            " * sqlite://\n"
          ],
          "name": "stdout"
        },
        {
          "output_type": "execute_result",
          "data": {
            "application/vnd.google.colaboratory.intrinsic": {
              "type": "string"
            },
            "text/plain": [
              "'Persisted interpol'"
            ]
          },
          "metadata": {
            "tags": []
          },
          "execution_count": 3
        }
      ]
    },
    {
      "cell_type": "code",
      "metadata": {
        "id": "rGMna3Px9tfO",
        "colab": {
          "base_uri": "https://localhost:8080/",
          "height": 86
        },
        "outputId": "76fb04f2-a7d7-4439-cf4f-afaefb9674ca"
      },
      "source": [
        ""
      ],
      "execution_count": null,
      "outputs": [
        {
          "output_type": "stream",
          "text": [
            " * sqlite://\n",
            "Done.\n",
            " * sqlite://\n"
          ],
          "name": "stdout"
        },
        {
          "output_type": "execute_result",
          "data": {
            "application/vnd.google.colaboratory.intrinsic": {
              "type": "string"
            },
            "text/plain": [
              "'Persisted interpol'"
            ]
          },
          "metadata": {
            "tags": []
          },
          "execution_count": 7
        }
      ]
    },
    {
      "cell_type": "code",
      "metadata": {
        "id": "50wIaXuDt6FF",
        "colab": {
          "base_uri": "https://localhost:8080/",
          "height": 86
        },
        "outputId": "952d127f-d97c-467c-a284-f8c62db46e50"
      },
      "source": [
        "# We will load all the other dataset that we will need i.e. WorldCup\n",
        "#\n",
        "with open('WorldCup.csv','r') as f:\n",
        "    WorldCup = pd.read_csv(f, index_col=0, encoding='utf-8') \n",
        "    \n",
        "%sql DROP TABLE if EXISTS WorldCup;\n",
        "%sql PERSIST WorldCup;       "
      ],
      "execution_count": null,
      "outputs": [
        {
          "output_type": "stream",
          "text": [
            " * sqlite://\n",
            "Done.\n",
            " * sqlite://\n"
          ],
          "name": "stdout"
        },
        {
          "output_type": "execute_result",
          "data": {
            "application/vnd.google.colaboratory.intrinsic": {
              "type": "string"
            },
            "text/plain": [
              "'Persisted worldcup'"
            ]
          },
          "metadata": {
            "tags": []
          },
          "execution_count": 4
        }
      ]
    },
    {
      "cell_type": "code",
      "metadata": {
        "id": "q_WlNo73PNx5"
      },
      "source": [
        "# Let's preview our Interpol table so that we can understand it\n",
        "# Try to understand all the attributes (i.e columns) since this\n",
        "# will be one of the datasets that we will work with through this session\n",
        "#\n",
        "%sql select * from Interpol limit 5;"
      ],
      "execution_count": null,
      "outputs": []
    },
    {
      "cell_type": "code",
      "metadata": {
        "id": "0efzyGvIPpxW"
      },
      "source": [
        "# Let's preview our Worldcup table so that we can also understand it.\n",
        "# You will be acting as a football commentator performing research on the \n",
        "# world cup matches played in the past.\n",
        "# \n",
        "%sql SELECT * FROM WorldCup limit 5; "
      ],
      "execution_count": null,
      "outputs": []
    },
    {
      "cell_type": "markdown",
      "metadata": {
        "id": "V2bBqgpywagu"
      },
      "source": [
        "## 1.3 Select Single Columns\n",
        " "
      ]
    },
    {
      "cell_type": "code",
      "metadata": {
        "id": "-tS9qSbtyDte"
      },
      "source": [
        "# Example 1\n",
        "# This is how we will select a single column (i.e. the Country Column) from the Interpol Dataset\n",
        "#\n",
        "%%sql\n",
        "SELECT Country FROM Interpol;"
      ],
      "execution_count": null,
      "outputs": []
    },
    {
      "cell_type": "code",
      "metadata": {
        "id": "OmKAoVo-yDjJ"
      },
      "source": [
        "# Example 2\n",
        "# Let's get the European countries without National fugitives  \n",
        "# \n",
        "%%sql\n",
        "SELECT Country FROM Interpol\n",
        "WHERE 'National Fugitives' = 0 AND Region = 'Europe'"
      ],
      "execution_count": null,
      "outputs": []
    },
    {
      "cell_type": "code",
      "metadata": {
        "id": "Trjt913gyDOF"
      },
      "source": [
        "# Example 3\n",
        "# Let's select the regions without National fugitives\n",
        "#\n",
        "%%sql\n",
        "SELECT Region FROM Interpol\n",
        "WHERE 'National Fugitives' = 0"
      ],
      "execution_count": null,
      "outputs": []
    },
    {
      "cell_type": "markdown",
      "metadata": {
        "id": "5StEYulTyETT"
      },
      "source": [
        "### <font color=\"green\"> 1.3 Challenges</font>"
      ]
    },
    {
      "cell_type": "code",
      "metadata": {
        "id": "nV7AQstWyPsy"
      },
      "source": [
        "# Challenge 1\n",
        "# Using the Interpol Dataset, let us get the Northern African countries that  \n",
        "# do not host possible fugitives or captured fugitives\n",
        "# \n",
        "OUR CODE GOES HERE"
      ],
      "execution_count": null,
      "outputs": []
    },
    {
      "cell_type": "code",
      "metadata": {
        "id": "g6yi8HaFyPeA"
      },
      "source": [
        "# Challenge 2\n",
        "# Using the Interpol Dataset, let us get the countries without a National fugitive and a Wanted fugitive\n",
        "#\n",
        "OUR CODE GOES HERE"
      ],
      "execution_count": null,
      "outputs": []
    },
    {
      "cell_type": "code",
      "metadata": {
        "id": "ZvIo11YvyPTn"
      },
      "source": [
        "# Challenge 3\n",
        "# Using the Interpol Dataset, which european countries have 3 National Fugitives\n",
        "# \n",
        "OUR CODE GOES HERE"
      ],
      "execution_count": null,
      "outputs": []
    },
    {
      "cell_type": "markdown",
      "metadata": {
        "id": "RfMZY5FixNp9"
      },
      "source": [
        "## 1.4 Multiple columns\n"
      ]
    },
    {
      "cell_type": "code",
      "metadata": {
        "id": "BJwoKj8WyXm3"
      },
      "source": [
        "# Example 1\n",
        "# Using the Interpol dataset, we would like to know the countries and their respective No. of Captured fugitives.\n",
        "#\n",
        "%%sql\n",
        "SELECT Country, \"Possible Hosted Fugitives / Captured Fugitives\" FROM Interpol;"
      ],
      "execution_count": null,
      "outputs": []
    },
    {
      "cell_type": "code",
      "metadata": {
        "id": "npFZQVKpyXfX"
      },
      "source": [
        "# Example 2\n",
        "# Using the world cup dataset, let's get teams that played in the matches with their respective referee\n",
        "# \n",
        "%%sql\n",
        "SELECT \"Home_Team_Name\", \"Away_Team_Name\", Referee FROM WorldCup;"
      ],
      "execution_count": null,
      "outputs": []
    },
    {
      "cell_type": "code",
      "metadata": {
        "id": "WoYn3-BJyXWB"
      },
      "source": [
        "# Example 3\n",
        "# Find out any three matches that have had 5 away goals  \n",
        "#\n",
        "%%sql\n",
        "SELECT * FROM WorldCup Where \"Away_Team_Goals\" = 5 LIMIT 3"
      ],
      "execution_count": null,
      "outputs": []
    },
    {
      "cell_type": "markdown",
      "metadata": {
        "id": "OjBIzvDZycEj"
      },
      "source": [
        "### <font color=\"green\"> 1.4 Challenges</font>"
      ]
    },
    {
      "cell_type": "code",
      "metadata": {
        "id": "Fj-u_o1uyeyY"
      },
      "source": [
        "# Challenge 1\n",
        "# From the Interpol dataset, let's get countries with their respective \n",
        "# No. of National fugitives and Wanted fugitives\n",
        "# \n",
        "OUR CODE GOES HERE"
      ],
      "execution_count": null,
      "outputs": []
    },
    {
      "cell_type": "code",
      "metadata": {
        "id": "xhYS4NiDyfdJ"
      },
      "source": [
        "# Challenge 2\n",
        "# Using WorldCup dataset, find out which group 4 world cup matches \n",
        "# that were played in the city of Montevideo \n",
        "#\n",
        "OUR CODE GOES HERE"
      ],
      "execution_count": null,
      "outputs": []
    },
    {
      "cell_type": "code",
      "metadata": {
        "id": "dfU-a65wyfNd",
        "colab": {
          "base_uri": "https://localhost:8080/",
          "height": 230
        },
        "outputId": "a0cb1f82-03cf-4835-82e0-1fa1e17eb751"
      },
      "source": [
        "# Challenge 3\n",
        "# Answering the same question as challenge 2, we would like to get only one match\n",
        "# \n",
        "# OUR CODE GOES HERE\n",
        "WorldCup.head(2)"
      ],
      "execution_count": null,
      "outputs": [
        {
          "output_type": "execute_result",
          "data": {
            "text/html": [
              "<div>\n",
              "<style scoped>\n",
              "    .dataframe tbody tr th:only-of-type {\n",
              "        vertical-align: middle;\n",
              "    }\n",
              "\n",
              "    .dataframe tbody tr th {\n",
              "        vertical-align: top;\n",
              "    }\n",
              "\n",
              "    .dataframe thead th {\n",
              "        text-align: right;\n",
              "    }\n",
              "</style>\n",
              "<table border=\"1\" class=\"dataframe\">\n",
              "  <thead>\n",
              "    <tr style=\"text-align: right;\">\n",
              "      <th></th>\n",
              "      <th>Datetime</th>\n",
              "      <th>Stage</th>\n",
              "      <th>Stadium</th>\n",
              "      <th>City</th>\n",
              "      <th>Home_Team_Name</th>\n",
              "      <th>Home_Team_Goals</th>\n",
              "      <th>Away_Team_Goals</th>\n",
              "      <th>Away_Team_Name</th>\n",
              "      <th>Win_conditions</th>\n",
              "      <th>Attendance</th>\n",
              "      <th>Halftime_Home_Goals</th>\n",
              "      <th>Halftime_Away_Goals</th>\n",
              "      <th>Referee</th>\n",
              "      <th>Assistant1</th>\n",
              "      <th>Assistant2</th>\n",
              "      <th>RoundID</th>\n",
              "      <th>MatchID</th>\n",
              "      <th>Home_Team_Initials</th>\n",
              "      <th>Away_Team_Initials</th>\n",
              "    </tr>\n",
              "    <tr>\n",
              "      <th>Year</th>\n",
              "      <th></th>\n",
              "      <th></th>\n",
              "      <th></th>\n",
              "      <th></th>\n",
              "      <th></th>\n",
              "      <th></th>\n",
              "      <th></th>\n",
              "      <th></th>\n",
              "      <th></th>\n",
              "      <th></th>\n",
              "      <th></th>\n",
              "      <th></th>\n",
              "      <th></th>\n",
              "      <th></th>\n",
              "      <th></th>\n",
              "      <th></th>\n",
              "      <th></th>\n",
              "      <th></th>\n",
              "      <th></th>\n",
              "    </tr>\n",
              "  </thead>\n",
              "  <tbody>\n",
              "    <tr>\n",
              "      <th>1930</th>\n",
              "      <td>13 Jul 1930 - 15:00</td>\n",
              "      <td>Group 1</td>\n",
              "      <td>Pocitos</td>\n",
              "      <td>Montevideo</td>\n",
              "      <td>France</td>\n",
              "      <td>4</td>\n",
              "      <td>1</td>\n",
              "      <td>Mexico</td>\n",
              "      <td></td>\n",
              "      <td>4444.0</td>\n",
              "      <td>3</td>\n",
              "      <td>0</td>\n",
              "      <td>LOMBARDI Domingo (URU)</td>\n",
              "      <td>CRISTOPHE Henry (BEL)</td>\n",
              "      <td>REGO Gilberto (BRA)</td>\n",
              "      <td>201</td>\n",
              "      <td>1096</td>\n",
              "      <td>FRA</td>\n",
              "      <td>MEX</td>\n",
              "    </tr>\n",
              "    <tr>\n",
              "      <th>1930</th>\n",
              "      <td>13 Jul 1930 - 15:00</td>\n",
              "      <td>Group 4</td>\n",
              "      <td>Parque Central</td>\n",
              "      <td>Montevideo</td>\n",
              "      <td>USA</td>\n",
              "      <td>3</td>\n",
              "      <td>0</td>\n",
              "      <td>Belgium</td>\n",
              "      <td></td>\n",
              "      <td>18346.0</td>\n",
              "      <td>2</td>\n",
              "      <td>0</td>\n",
              "      <td>MACIAS Jose (ARG)</td>\n",
              "      <td>MATEUCCI Francisco (URU)</td>\n",
              "      <td>WARNKEN Alberto (CHI)</td>\n",
              "      <td>201</td>\n",
              "      <td>1090</td>\n",
              "      <td>USA</td>\n",
              "      <td>BEL</td>\n",
              "    </tr>\n",
              "  </tbody>\n",
              "</table>\n",
              "</div>"
            ],
            "text/plain": [
              "                  Datetime    Stage  ... Home_Team_Initials Away_Team_Initials\n",
              "Year                                 ...                                      \n",
              "1930  13 Jul 1930 - 15:00   Group 1  ...                FRA                MEX\n",
              "1930  13 Jul 1930 - 15:00   Group 4  ...                USA                BEL\n",
              "\n",
              "[2 rows x 19 columns]"
            ]
          },
          "metadata": {
            "tags": []
          },
          "execution_count": 5
        }
      ]
    },
    {
      "cell_type": "code",
      "metadata": {
        "id": "ImCEaG9Xj1Uw",
        "colab": {
          "base_uri": "https://localhost:8080/",
          "height": 221
        },
        "outputId": "2d013604-65b0-498f-e2bb-9a5f96f97e87"
      },
      "source": [
        "WorldCup[\"City\"].value_counts()"
      ],
      "execution_count": null,
      "outputs": [
        {
          "output_type": "execute_result",
          "data": {
            "text/plain": [
              "Mexico City        23\n",
              "Rio De Janeiro     18\n",
              "Montevideo         18\n",
              "Guadalajara        17\n",
              "Johannesburg       15\n",
              "                   ..\n",
              "Strasbourg          1\n",
              "Udevalla            1\n",
              "Reims               1\n",
              "Antibes             1\n",
              "Lille               1\n",
              "Name: City, Length: 151, dtype: int64"
            ]
          },
          "metadata": {
            "tags": []
          },
          "execution_count": 21
        }
      ]
    },
    {
      "cell_type": "code",
      "metadata": {
        "id": "g4v9YS_Uh7BY",
        "colab": {
          "base_uri": "https://localhost:8080/",
          "height": 424
        },
        "outputId": "79f8f36f-232f-4e85-84b4-a935fee007b7"
      },
      "source": [
        "%%sql\n",
        "SELECT * FROM WorldCup \n",
        "WHERE City=\"Montevideo \" AND Stage=\"Group 1\";"
      ],
      "execution_count": null,
      "outputs": [
        {
          "output_type": "stream",
          "text": [
            " * sqlite://\n",
            "Done.\n"
          ],
          "name": "stdout"
        },
        {
          "output_type": "execute_result",
          "data": {
            "text/html": [
              "<table>\n",
              "    <tr>\n",
              "        <th>Year</th>\n",
              "        <th>Datetime</th>\n",
              "        <th>Stage</th>\n",
              "        <th>Stadium</th>\n",
              "        <th>City</th>\n",
              "        <th>Home_Team_Name</th>\n",
              "        <th>Home_Team_Goals</th>\n",
              "        <th>Away_Team_Goals</th>\n",
              "        <th>Away_Team_Name</th>\n",
              "        <th>Win_conditions</th>\n",
              "        <th>Attendance</th>\n",
              "        <th>Halftime_Home_Goals</th>\n",
              "        <th>Halftime_Away_Goals</th>\n",
              "        <th>Referee</th>\n",
              "        <th>Assistant1</th>\n",
              "        <th>Assistant2</th>\n",
              "        <th>RoundID</th>\n",
              "        <th>MatchID</th>\n",
              "        <th>Home_Team_Initials</th>\n",
              "        <th>Away_Team_Initials</th>\n",
              "    </tr>\n",
              "    <tr>\n",
              "        <td>1930</td>\n",
              "        <td>13 Jul 1930 - 15:00 </td>\n",
              "        <td>Group 1</td>\n",
              "        <td>Pocitos</td>\n",
              "        <td>Montevideo </td>\n",
              "        <td>France</td>\n",
              "        <td>4</td>\n",
              "        <td>1</td>\n",
              "        <td>Mexico</td>\n",
              "        <td> </td>\n",
              "        <td>4444.0</td>\n",
              "        <td>3</td>\n",
              "        <td>0</td>\n",
              "        <td>LOMBARDI Domingo (URU)</td>\n",
              "        <td>CRISTOPHE Henry (BEL)</td>\n",
              "        <td>REGO Gilberto (BRA)</td>\n",
              "        <td>201</td>\n",
              "        <td>1096</td>\n",
              "        <td>FRA</td>\n",
              "        <td>MEX</td>\n",
              "    </tr>\n",
              "    <tr>\n",
              "        <td>1930</td>\n",
              "        <td>15 Jul 1930 - 16:00 </td>\n",
              "        <td>Group 1</td>\n",
              "        <td>Parque Central</td>\n",
              "        <td>Montevideo </td>\n",
              "        <td>Argentina</td>\n",
              "        <td>1</td>\n",
              "        <td>0</td>\n",
              "        <td>France</td>\n",
              "        <td> </td>\n",
              "        <td>23409.0</td>\n",
              "        <td>0</td>\n",
              "        <td>0</td>\n",
              "        <td>REGO Gilberto (BRA)</td>\n",
              "        <td>SAUCEDO Ulises (BOL)</td>\n",
              "        <td>RADULESCU Constantin (ROU)</td>\n",
              "        <td>201</td>\n",
              "        <td>1085</td>\n",
              "        <td>ARG</td>\n",
              "        <td>FRA</td>\n",
              "    </tr>\n",
              "    <tr>\n",
              "        <td>1930</td>\n",
              "        <td>16 Jul 1930 - 14:45 </td>\n",
              "        <td>Group 1</td>\n",
              "        <td>Parque Central</td>\n",
              "        <td>Montevideo </td>\n",
              "        <td>Chile</td>\n",
              "        <td>3</td>\n",
              "        <td>0</td>\n",
              "        <td>Mexico</td>\n",
              "        <td> </td>\n",
              "        <td>9249.0</td>\n",
              "        <td>1</td>\n",
              "        <td>0</td>\n",
              "        <td>CRISTOPHE Henry (BEL)</td>\n",
              "        <td>APHESTEGUY Martin (URU)</td>\n",
              "        <td>LANGENUS Jean (BEL)</td>\n",
              "        <td>201</td>\n",
              "        <td>1095</td>\n",
              "        <td>CHI</td>\n",
              "        <td>MEX</td>\n",
              "    </tr>\n",
              "    <tr>\n",
              "        <td>1930</td>\n",
              "        <td>19 Jul 1930 - 12:50 </td>\n",
              "        <td>Group 1</td>\n",
              "        <td>Estadio Centenario</td>\n",
              "        <td>Montevideo </td>\n",
              "        <td>Chile</td>\n",
              "        <td>1</td>\n",
              "        <td>0</td>\n",
              "        <td>France</td>\n",
              "        <td> </td>\n",
              "        <td>2000.0</td>\n",
              "        <td>0</td>\n",
              "        <td>0</td>\n",
              "        <td>TEJADA Anibal (URU)</td>\n",
              "        <td>LOMBARDI Domingo (URU)</td>\n",
              "        <td>REGO Gilberto (BRA)</td>\n",
              "        <td>201</td>\n",
              "        <td>1094</td>\n",
              "        <td>CHI</td>\n",
              "        <td>FRA</td>\n",
              "    </tr>\n",
              "    <tr>\n",
              "        <td>1930</td>\n",
              "        <td>19 Jul 1930 - 15:00 </td>\n",
              "        <td>Group 1</td>\n",
              "        <td>Estadio Centenario</td>\n",
              "        <td>Montevideo </td>\n",
              "        <td>Argentina</td>\n",
              "        <td>6</td>\n",
              "        <td>3</td>\n",
              "        <td>Mexico</td>\n",
              "        <td> </td>\n",
              "        <td>42100.0</td>\n",
              "        <td>3</td>\n",
              "        <td>1</td>\n",
              "        <td>SAUCEDO Ulises (BOL)</td>\n",
              "        <td>ALONSO Gualberto (URU)</td>\n",
              "        <td>RADULESCU Constantin (ROU)</td>\n",
              "        <td>201</td>\n",
              "        <td>1086</td>\n",
              "        <td>ARG</td>\n",
              "        <td>MEX</td>\n",
              "    </tr>\n",
              "    <tr>\n",
              "        <td>1930</td>\n",
              "        <td>22 Jul 1930 - 14:45 </td>\n",
              "        <td>Group 1</td>\n",
              "        <td>Estadio Centenario</td>\n",
              "        <td>Montevideo </td>\n",
              "        <td>Argentina</td>\n",
              "        <td>3</td>\n",
              "        <td>1</td>\n",
              "        <td>Chile</td>\n",
              "        <td> </td>\n",
              "        <td>41459.0</td>\n",
              "        <td>2</td>\n",
              "        <td>1</td>\n",
              "        <td>LANGENUS Jean (BEL)</td>\n",
              "        <td>CRISTOPHE Henry (BEL)</td>\n",
              "        <td>SAUCEDO Ulises (BOL)</td>\n",
              "        <td>201</td>\n",
              "        <td>1084</td>\n",
              "        <td>ARG</td>\n",
              "        <td>CHI</td>\n",
              "    </tr>\n",
              "</table>"
            ],
            "text/plain": [
              "[(1930, '13 Jul 1930 - 15:00 ', 'Group 1', 'Pocitos', 'Montevideo ', 'France', 4, 1, 'Mexico', ' ', 4444.0, 3, 0, 'LOMBARDI Domingo (URU)', 'CRISTOPHE Henry (BEL)', 'REGO Gilberto (BRA)', 201, 1096, 'FRA', 'MEX'),\n",
              " (1930, '15 Jul 1930 - 16:00 ', 'Group 1', 'Parque Central', 'Montevideo ', 'Argentina', 1, 0, 'France', ' ', 23409.0, 0, 0, 'REGO Gilberto (BRA)', 'SAUCEDO Ulises (BOL)', 'RADULESCU Constantin (ROU)', 201, 1085, 'ARG', 'FRA'),\n",
              " (1930, '16 Jul 1930 - 14:45 ', 'Group 1', 'Parque Central', 'Montevideo ', 'Chile', 3, 0, 'Mexico', ' ', 9249.0, 1, 0, 'CRISTOPHE Henry (BEL)', 'APHESTEGUY Martin (URU)', 'LANGENUS Jean (BEL)', 201, 1095, 'CHI', 'MEX'),\n",
              " (1930, '19 Jul 1930 - 12:50 ', 'Group 1', 'Estadio Centenario', 'Montevideo ', 'Chile', 1, 0, 'France', ' ', 2000.0, 0, 0, 'TEJADA Anibal (URU)', 'LOMBARDI Domingo (URU)', 'REGO Gilberto (BRA)', 201, 1094, 'CHI', 'FRA'),\n",
              " (1930, '19 Jul 1930 - 15:00 ', 'Group 1', 'Estadio Centenario', 'Montevideo ', 'Argentina', 6, 3, 'Mexico', ' ', 42100.0, 3, 1, 'SAUCEDO Ulises (BOL)', 'ALONSO Gualberto (URU)', 'RADULESCU Constantin (ROU)', 201, 1086, 'ARG', 'MEX'),\n",
              " (1930, '22 Jul 1930 - 14:45 ', 'Group 1', 'Estadio Centenario', 'Montevideo ', 'Argentina', 3, 1, 'Chile', ' ', 41459.0, 2, 1, 'LANGENUS Jean (BEL)', 'CRISTOPHE Henry (BEL)', 'SAUCEDO Ulises (BOL)', 201, 1084, 'ARG', 'CHI')]"
            ]
          },
          "metadata": {
            "tags": []
          },
          "execution_count": 9
        }
      ]
    },
    {
      "cell_type": "code",
      "metadata": {
        "id": "RDJ_njOP185K",
        "colab": {
          "base_uri": "https://localhost:8080/",
          "height": 284
        },
        "outputId": "dd2a2394-2269-4dfa-dd85-4a7be6cc74b9"
      },
      "source": [
        "%%sql\n",
        "SELECT * FROM Interpol LIMIT 10;"
      ],
      "execution_count": null,
      "outputs": [
        {
          "output_type": "stream",
          "text": [
            " * sqlite://\n",
            "Done.\n"
          ],
          "name": "stdout"
        },
        {
          "output_type": "execute_result",
          "data": {
            "text/html": [
              "<table>\n",
              "    <tr>\n",
              "        <th>Country</th>\n",
              "        <th>National Fugitives</th>\n",
              "        <th>Wanted Fugitives</th>\n",
              "        <th>Possible Hosted Fugitives / Captured Fugitives</th>\n",
              "        <th>Region</th>\n",
              "        <th>Flag</th>\n",
              "    </tr>\n",
              "    <tr>\n",
              "        <td>Albania</td>\n",
              "        <td>3</td>\n",
              "        <td>3</td>\n",
              "        <td>0</td>\n",
              "        <td>Europe</td>\n",
              "        <td>http://www.crwflags.com/fotw/images/a/al.gif</td>\n",
              "    </tr>\n",
              "    <tr>\n",
              "        <td>Angola</td>\n",
              "        <td>0</td>\n",
              "        <td>0</td>\n",
              "        <td>1</td>\n",
              "        <td>Northern Africa</td>\n",
              "        <td>http://www.crwflags.com/fotw/images/a/ao.gif</td>\n",
              "    </tr>\n",
              "    <tr>\n",
              "        <td>Argentina</td>\n",
              "        <td>2</td>\n",
              "        <td>2</td>\n",
              "        <td>1</td>\n",
              "        <td>South America</td>\n",
              "        <td>http://www.crwflags.com/fotw/images/a/ar.gif</td>\n",
              "    </tr>\n",
              "    <tr>\n",
              "        <td>Australia</td>\n",
              "        <td>1</td>\n",
              "        <td>1</td>\n",
              "        <td>2</td>\n",
              "        <td>Oceania</td>\n",
              "        <td>http://www.crwflags.com/fotw/images/a/au.gif</td>\n",
              "    </tr>\n",
              "    <tr>\n",
              "        <td>Austria</td>\n",
              "        <td>1</td>\n",
              "        <td>1</td>\n",
              "        <td>0</td>\n",
              "        <td>Europe</td>\n",
              "        <td>http://www.crwflags.com/fotw/images/a/at.gif</td>\n",
              "    </tr>\n",
              "    <tr>\n",
              "        <td>Bangladesh</td>\n",
              "        <td>2</td>\n",
              "        <td>1</td>\n",
              "        <td>1</td>\n",
              "        <td>Asia</td>\n",
              "        <td>http://www.crwflags.com/fotw/images/b/bd.gif</td>\n",
              "    </tr>\n",
              "    <tr>\n",
              "        <td>Belarus</td>\n",
              "        <td>1</td>\n",
              "        <td>1</td>\n",
              "        <td>0</td>\n",
              "        <td>Europe</td>\n",
              "        <td>http://www.crwflags.com/fotw/images/b/by.gif</td>\n",
              "    </tr>\n",
              "    <tr>\n",
              "        <td>Belgium</td>\n",
              "        <td>0</td>\n",
              "        <td>2</td>\n",
              "        <td>0</td>\n",
              "        <td>Europe</td>\n",
              "        <td>http://www.crwflags.com/fotw/images/b/be.gif</td>\n",
              "    </tr>\n",
              "    <tr>\n",
              "        <td>Belize</td>\n",
              "        <td>1</td>\n",
              "        <td>1</td>\n",
              "        <td>0</td>\n",
              "        <td>Central America</td>\n",
              "        <td>http://www.crwflags.com/fotw/images/b/bz.gif</td>\n",
              "    </tr>\n",
              "    <tr>\n",
              "        <td>Bolivia</td>\n",
              "        <td>0</td>\n",
              "        <td>0</td>\n",
              "        <td>2</td>\n",
              "        <td>South America</td>\n",
              "        <td>http://www.crwflags.com/fotw/images/b/bo.gif</td>\n",
              "    </tr>\n",
              "</table>"
            ],
            "text/plain": [
              "[('Albania', 3, 3, 0, 'Europe', 'http://www.crwflags.com/fotw/images/a/al.gif'),\n",
              " ('Angola', 0, 0, 1, 'Northern Africa', 'http://www.crwflags.com/fotw/images/a/ao.gif'),\n",
              " ('Argentina', 2, 2, 1, 'South America', 'http://www.crwflags.com/fotw/images/a/ar.gif'),\n",
              " ('Australia', 1, 1, 2, 'Oceania', 'http://www.crwflags.com/fotw/images/a/au.gif'),\n",
              " ('Austria', 1, 1, 0, 'Europe', 'http://www.crwflags.com/fotw/images/a/at.gif'),\n",
              " ('Bangladesh', 2, 1, 1, 'Asia', 'http://www.crwflags.com/fotw/images/b/bd.gif'),\n",
              " ('Belarus', 1, 1, 0, 'Europe', 'http://www.crwflags.com/fotw/images/b/by.gif'),\n",
              " ('Belgium', 0, 2, 0, 'Europe', 'http://www.crwflags.com/fotw/images/b/be.gif'),\n",
              " ('Belize', 1, 1, 0, 'Central America', 'http://www.crwflags.com/fotw/images/b/bz.gif'),\n",
              " ('Bolivia', 0, 0, 2, 'South America', 'http://www.crwflags.com/fotw/images/b/bo.gif')]"
            ]
          },
          "metadata": {
            "tags": []
          },
          "execution_count": 14
        }
      ]
    },
    {
      "cell_type": "code",
      "metadata": {
        "id": "BqrUzVqa2e72",
        "colab": {
          "base_uri": "https://localhost:8080/",
          "height": 68
        },
        "outputId": "e2999042-2449-434c-9bcb-eb61e4644329"
      },
      "source": [
        "# SELECT Country FROM Interpol LIMIT 10;\n",
        "Interpol.columns.values"
      ],
      "execution_count": null,
      "outputs": [
        {
          "output_type": "execute_result",
          "data": {
            "text/plain": [
              "array(['National Fugitives', 'Wanted Fugitives',\n",
              "       'Possible Hosted Fugitives / Captured Fugitives', 'Region', 'Flag'],\n",
              "      dtype=object)"
            ]
          },
          "metadata": {
            "tags": []
          },
          "execution_count": 15
        }
      ]
    },
    {
      "cell_type": "markdown",
      "metadata": {
        "id": "flPFAAxGxRjP"
      },
      "source": [
        "## 1.5 Orderby"
      ]
    },
    {
      "cell_type": "code",
      "metadata": {
        "id": "P9-AxtmsypmA"
      },
      "source": [
        "# Example 1\n",
        "# Using the Interpol dataset, let's get all our records ordering \n",
        "# them by the region in ascending order\n",
        "#\n",
        "%%sql\n",
        "SELECT * FROM Interpol\n",
        "ORDER BY Region ASC;"
      ],
      "execution_count": null,
      "outputs": []
    },
    {
      "cell_type": "code",
      "metadata": {
        "id": "ItZqYP8pypec"
      },
      "source": [
        "# Example 2\n",
        "# We can do the same as in example 1 but now having the records in descending order \n",
        "# as shown below\n",
        "#\n",
        "%%sql\n",
        "SELECT * FROM Interpol\n",
        "ORDER BY Country DESC;"
      ],
      "execution_count": null,
      "outputs": []
    },
    {
      "cell_type": "code",
      "metadata": {
        "id": "wUZJ_JEbypVk"
      },
      "source": [
        "# Example 3 \n",
        "# Using the Worldcup dataset, we can select 5 World Cup Group 1 matches played \n",
        "# after 1950 and having them ordered by city in ascending order as shown below\n",
        "#\n",
        "%%sql\n",
        "SELECT * FROM WorldCup\n",
        "WHERE Stage='Group 1' AND Year > 1950\n",
        "ORDER BY City ASC\n",
        "LIMIT 5;"
      ],
      "execution_count": null,
      "outputs": []
    },
    {
      "cell_type": "markdown",
      "metadata": {
        "id": "Ebo74ksiyxSt"
      },
      "source": [
        "### <font color=\"green\"> 1.5 Challenges</font>"
      ]
    },
    {
      "cell_type": "code",
      "metadata": {
        "id": "HDrz5mCmy04V"
      },
      "source": [
        "# Challenge 1\n",
        "# Using Interpol Dataset, select all the records and order them by National Fugitives in ascending order\n",
        "# \n",
        "OUR CODE GOES HERE"
      ],
      "execution_count": null,
      "outputs": []
    },
    {
      "cell_type": "code",
      "metadata": {
        "id": "SddX9QWUy2bq"
      },
      "source": [
        "# Challenge 2\n",
        "# Using WorldCup Dataset, get the matches played in the Pocitos stadium and their attendance \n",
        "# later than 1950 and ordering them by attendance in descending order\n",
        "# \n",
        "OUR CODE GOES HERE"
      ],
      "execution_count": null,
      "outputs": []
    },
    {
      "cell_type": "code",
      "metadata": {
        "id": "YDzDazViy3jB"
      },
      "source": [
        "# Challenge 3\n",
        "# Get the World Cup Matches played in France after 1970 ordered by years in descending order \n",
        "#\n",
        "OUR CODE GOES HERE"
      ],
      "execution_count": null,
      "outputs": []
    },
    {
      "cell_type": "markdown",
      "metadata": {
        "id": "kuQDOhnZxXSS"
      },
      "source": [
        "## 1.6 Where"
      ]
    },
    {
      "cell_type": "code",
      "metadata": {
        "id": "JxMw5TSJzHaO"
      },
      "source": [
        "# Example 1\n",
        "# From our Interpol dataset, let's find out which Countries have had three or more than three National Fugitives.\n",
        "#\n",
        "%%sql\n",
        "SELECT * FROM Interpol\n",
        "WHERE Region = 'Europe';"
      ],
      "execution_count": null,
      "outputs": []
    },
    {
      "cell_type": "code",
      "metadata": {
        "id": "GwN_mf1ezHUg"
      },
      "source": [
        "# Example 2\n",
        "# From our Interpol dataset, let's get the European countries and the no of Wanted fugitives they have\n",
        "#\n",
        "%%sql\n",
        "SELECT Country, \"Wanted Fugitives\" FROM Interpol\n",
        "WHERE Region = 'Europe';"
      ],
      "execution_count": null,
      "outputs": []
    },
    {
      "cell_type": "code",
      "metadata": {
        "id": "FtFa2nvnzHJh"
      },
      "source": [
        "# Example 3\n",
        "# From our WorldCup dataset, Let us select the home teams, away teams \n",
        "# and the respective no. of home team goals, no. of away team goals\n",
        "# for the years after 1950\n",
        "#\n",
        "%%sql\n",
        "SELECT Year, Stage, Home_Team_Name, Home_Team_Goals, Away_Team_Name, Away_Team_Goals FROM WorldCup\n",
        "WHERE Year > 1930\n",
        "LIMIT 7;"
      ],
      "execution_count": null,
      "outputs": []
    },
    {
      "cell_type": "markdown",
      "metadata": {
        "id": "SD-wxiNhzN8h"
      },
      "source": [
        "### <font color=\"green\"> 1.6 Challenges</font>"
      ]
    },
    {
      "cell_type": "code",
      "metadata": {
        "id": "S9SXcemDzSMd"
      },
      "source": [
        "# Challenge 1\n",
        "# From our Interpol dataset, find out which  country had the most Captured Fugitives \n",
        "#\n",
        "OUR CODE GOES HERE"
      ],
      "execution_count": null,
      "outputs": []
    },
    {
      "cell_type": "code",
      "metadata": {
        "id": "8vTPzw0OzSDX"
      },
      "source": [
        "# Challenge 2\n",
        "# Using our Interpol dataset, get the european and asian countries;\n",
        "#\n",
        "OUR CODE GOES HERE"
      ],
      "execution_count": null,
      "outputs": []
    },
    {
      "cell_type": "code",
      "metadata": {
        "id": "Z4vVPXxHzR3D"
      },
      "source": [
        "# Challenge 3 \n",
        "# From our Interpol dataset, find out which top countries had the least National fugities\n",
        "#\n",
        "OUR CODE GOES HERE"
      ],
      "execution_count": null,
      "outputs": []
    },
    {
      "cell_type": "markdown",
      "metadata": {
        "id": "_HPMnfsqxgWv"
      },
      "source": [
        "## 1.7 Between "
      ]
    },
    {
      "cell_type": "code",
      "metadata": {
        "id": "-Y121Fc_zjTu"
      },
      "source": [
        "# Example 1\n",
        "# Select the countries with national fugitives between 0 and 3 ordered by nationnal fugitives ascending order\n",
        "#\n",
        "%%sql\n",
        "SELECT Country, \"National Fugitives\" FROM Interpol\n",
        "WHERE \"National Fugitives\" BETWEEN 0 AND 3 ORDER BY \"National Fugitives\" ASC;"
      ],
      "execution_count": null,
      "outputs": []
    },
    {
      "cell_type": "code",
      "metadata": {
        "id": "Rl1dSSYzzjLw"
      },
      "source": [
        "# Example 2\n",
        "# Select the countries with national fugitives not between 0 and 4 ordered by nationnal fugitives ascending order\n",
        "#\n",
        "%%sql\n",
        "SELECT Country, \"National Fugitives\" FROM Interpol\n",
        "WHERE \"National Fugitives\" NOT BETWEEN 0 AND 4 ORDER BY \"National Fugitives\" ASC;"
      ],
      "execution_count": null,
      "outputs": []
    },
    {
      "cell_type": "code",
      "metadata": {
        "id": "8KedUOf4zjDs"
      },
      "source": [
        "# Example 3\n",
        "# Select any 5 matches played after 1950 which did not have the home team as Germany\n",
        "#\n",
        "%%sql\n",
        "SELECT * FROM WorldCup\n",
        "WHERE NOT \"Home Team Name\" = 'Germany' AND NOT Year < 1950\n",
        "LIMIT 5;"
      ],
      "execution_count": null,
      "outputs": []
    },
    {
      "cell_type": "markdown",
      "metadata": {
        "id": "hJ310W5zzdVQ"
      },
      "source": [
        "### <font color=\"green\"> 1.7 Challenges</font>"
      ]
    },
    {
      "cell_type": "code",
      "metadata": {
        "id": "yK5U8gQ6zoIM"
      },
      "source": [
        "# Challenge 1\n",
        "# From the Interpol dataset, get all asian countries with wanted fugitives between 0 and 2\n",
        "#\n",
        "OUR CODE GOES HERE"
      ],
      "execution_count": null,
      "outputs": []
    },
    {
      "cell_type": "code",
      "metadata": {
        "id": "rm5PecphzoAZ"
      },
      "source": [
        "# Challenge 2\n",
        "# From the World cup dataset, get all the matches that were played later than 1980 with an attendance less than 5000 \n",
        "# \n",
        "OUR CODE GOES HERE"
      ],
      "execution_count": null,
      "outputs": []
    },
    {
      "cell_type": "code",
      "metadata": {
        "id": "VcEWqciwzn0K"
      },
      "source": [
        "# Challenge 3 \n",
        "# Which matches were played between the year 1990 and 2000?\n",
        "# \n",
        "OUR CODE GOES HERE"
      ],
      "execution_count": null,
      "outputs": []
    },
    {
      "cell_type": "markdown",
      "metadata": {
        "id": "45Pnf42Nxnkz"
      },
      "source": [
        "## 1.8 Distinct"
      ]
    },
    {
      "cell_type": "code",
      "metadata": {
        "id": "QuaneZrhz6Ts"
      },
      "source": [
        "# Example 1\n",
        "# Let's find out which stadiums have hosted world cup matches\n",
        "%%sql\n",
        "SELECT DISTINCT Stadium FROM WorldCup;"
      ],
      "execution_count": null,
      "outputs": []
    },
    {
      "cell_type": "code",
      "metadata": {
        "id": "wMiHIgS8z6MT"
      },
      "source": [
        "# Example 2\n",
        "# Let's find out which world cup cities have hosted world cup matches after 2000\n",
        "#\n",
        "%%sql\n",
        "SELECT DISTINCT City FROM WorldCup WHERE Year > 2000;"
      ],
      "execution_count": null,
      "outputs": []
    },
    {
      "cell_type": "markdown",
      "metadata": {
        "id": "2mNf3P6fz6qe"
      },
      "source": [
        "### <font color=\"green\"> 1.8 Challenges</font>"
      ]
    },
    {
      "cell_type": "code",
      "metadata": {
        "id": "vK4W0rDtz9xP"
      },
      "source": [
        "# Challenge 1\n",
        "# Name the stages in the world cup and order them alphabetically by stage.\n",
        "# \n",
        "OUR CODE GOES HERE"
      ],
      "execution_count": null,
      "outputs": []
    },
    {
      "cell_type": "code",
      "metadata": {
        "id": "-VgClIuzz9ho"
      },
      "source": [
        "# Challenge 2\n",
        "# Which cities hosted the world cup between 1950 and 2000?\n",
        "#\n",
        "OUR CODE GOES HERE"
      ],
      "execution_count": null,
      "outputs": []
    },
    {
      "cell_type": "code",
      "metadata": {
        "id": "9Mo8KbOoz8c2"
      },
      "source": [
        "# Challenge 3\n",
        "# During which years was the world cup hosted in?\n",
        "#\n",
        "OUR CODE GOES HERE"
      ],
      "execution_count": null,
      "outputs": []
    },
    {
      "cell_type": "markdown",
      "metadata": {
        "id": "ZBHtfAOuxtWX"
      },
      "source": [
        "## 1.9 Count"
      ]
    },
    {
      "cell_type": "code",
      "metadata": {
        "id": "lf6o06zW0LTU"
      },
      "source": [
        "# Example 1\n",
        "# How many countries were listed in interpol's data? \n",
        "#\n",
        "%%sql\n",
        "SELECT COUNT(Country) FROM Interpol;"
      ],
      "execution_count": null,
      "outputs": []
    },
    {
      "cell_type": "code",
      "metadata": {
        "id": "98PmdA100LSE"
      },
      "source": [
        "# Example 2\n",
        "# How many times has Brazil played home during world cup matches?\n",
        "#\n",
        "%%sql\n",
        "SELECT COUNT(\"Home_Team_Name\") FROM WorldCup where Home_Team_Name = 'Brazil';"
      ],
      "execution_count": null,
      "outputs": []
    },
    {
      "cell_type": "code",
      "metadata": {
        "id": "E4BpjhuF0LFh"
      },
      "source": [
        "# Example 3\n",
        "# Find out the number of times that stadiums have hosted matches in the World Cup? \n",
        "# \n",
        "%%sql\n",
        "SELECT COUNT(Stadium)\n",
        "FROM WorldCup;"
      ],
      "execution_count": null,
      "outputs": []
    },
    {
      "cell_type": "markdown",
      "metadata": {
        "id": "urJSHr5a0QHF"
      },
      "source": [
        "### <font color=\"green\"> 1.9 Challenges</font>"
      ]
    },
    {
      "cell_type": "code",
      "metadata": {
        "id": "MRDj9E4B0fWe"
      },
      "source": [
        "# Challenge 1\n",
        "# Using Interpol Dataset, find out how many wanted fugitives there are in Northern Africa.\n",
        "# \n",
        "OUR CODE GOES HERE"
      ],
      "execution_count": null,
      "outputs": []
    },
    {
      "cell_type": "code",
      "metadata": {
        "id": "vtNJoQ7m0e0Q"
      },
      "source": [
        "# Challenge 2\n",
        "# Using WorldCup Dataset, find out how many Possible Hosted Fugitives / Captured Fugitives \n",
        "# there are in Europe and Northern Africa.\n",
        "# \n",
        "OUR CODE GOES HERE"
      ],
      "execution_count": null,
      "outputs": []
    },
    {
      "cell_type": "code",
      "metadata": {
        "id": "QPMB6WLl0eil"
      },
      "source": [
        "# Challenge 3\n",
        "# Using WorldCup dataset, find out how many away teams were played where a team scored more than 3 goals.\n",
        "# \n",
        "OUR CODE GOES HERE"
      ],
      "execution_count": null,
      "outputs": []
    },
    {
      "cell_type": "markdown",
      "metadata": {
        "id": "RHhkA_Ymxxv2"
      },
      "source": [
        "## 1.10 Groupby"
      ]
    },
    {
      "cell_type": "code",
      "metadata": {
        "id": "v_FSehRC0nKn"
      },
      "source": [
        "# Example 1\n",
        "# Which three stadiums have hosted the most world cup games?\n",
        "#\n",
        "%%sql\n",
        "SELECT Stadium, COUNT(Stadium)\n",
        "FROM WorldCup\n",
        "GROUP BY Stadium \n",
        "ORDER BY COUNT(Stadium) DESC LIMIT 3;"
      ],
      "execution_count": null,
      "outputs": []
    },
    {
      "cell_type": "code",
      "metadata": {
        "id": "8Wg9ppdr0m93"
      },
      "source": [
        "# Example 2\n",
        "# Which three stadiums have hosted the least world cup games?\n",
        "#\n",
        "%%sql\n",
        "SELECT City, COUNT(Stadium)\n",
        "FROM WorldCup\n",
        "GROUP BY Stadium \n",
        "ORDER BY COUNT(Stadium) ASC LIMIT 3;"
      ],
      "execution_count": null,
      "outputs": []
    },
    {
      "cell_type": "markdown",
      "metadata": {
        "id": "kXmE4FXm0otn"
      },
      "source": [
        "### <font color=\"green\"> 1.10 Challenges</font>"
      ]
    },
    {
      "cell_type": "code",
      "metadata": {
        "id": "WoXJYKgW1J85"
      },
      "source": [
        "# Challenge 1\n",
        "# What has been the largest no. of home goals scored by three home teams? \n",
        "# \n",
        "OUR CODE GOES HERE"
      ],
      "execution_count": null,
      "outputs": []
    },
    {
      "cell_type": "code",
      "metadata": {
        "id": "og-hKLN21JzZ"
      },
      "source": [
        "# Challenge 2\n",
        "# Which away teams have scored the lowest no. of away goals?\n",
        "# \n",
        "OUR CODE GOES HERE"
      ],
      "execution_count": null,
      "outputs": []
    },
    {
      "cell_type": "code",
      "metadata": {
        "id": "AEMk4s-m1Jjm"
      },
      "source": [
        "# Challenge 3\n",
        "# Select records from the World Cup Dataset grouping by City \n",
        "# \n",
        "OUR CODE GOES HERE"
      ],
      "execution_count": null,
      "outputs": []
    },
    {
      "cell_type": "markdown",
      "metadata": {
        "id": "d1c_SidIx2Pc"
      },
      "source": [
        "##1.11 Null Values\n"
      ]
    },
    {
      "cell_type": "code",
      "metadata": {
        "id": "XyrUTtx_1Yg7"
      },
      "source": [
        "# Example 1\n",
        "# Select any one record from the world cup dataset that has null examples?\n",
        "# \n",
        "%%sql\n",
        "SELECT *\n",
        "FROM WorldCup\n",
        "WHERE Attendance IS NULL LIMIT 1;"
      ],
      "execution_count": null,
      "outputs": []
    },
    {
      "cell_type": "code",
      "metadata": {
        "id": "NhxldRCs1YXo"
      },
      "source": [
        "# Example 2\n",
        "# Select any 5 records without null examples from the Worldcup Dataset \n",
        "#\n",
        "%%sql\n",
        "SELECT *\n",
        "FROM WorldCup\n",
        "WHERE City IS NOT NULL\n",
        "LIMIT 5;"
      ],
      "execution_count": null,
      "outputs": []
    },
    {
      "cell_type": "markdown",
      "metadata": {
        "id": "YncWLSu11Y21"
      },
      "source": [
        "### <font color=\"green\"> 1.11 Challenges</font>"
      ]
    },
    {
      "cell_type": "code",
      "metadata": {
        "id": "04dsl20p1eXH",
        "colab": {
          "base_uri": "https://localhost:8080/",
          "height": 360
        },
        "outputId": "43e20b63-1e37-45d2-e849-fe3819b72697"
      },
      "source": [
        "# Challenge 1\n",
        "# Using the Worldcup dataset, select all the records that contain null values?\n",
        "#\n",
        "%%sql\n",
        "SELECT * FROM WorldCup LIMIT 5;"
      ],
      "execution_count": null,
      "outputs": [
        {
          "output_type": "stream",
          "text": [
            " * sqlite://\n",
            "Done.\n"
          ],
          "name": "stdout"
        },
        {
          "output_type": "execute_result",
          "data": {
            "text/html": [
              "<table>\n",
              "    <tr>\n",
              "        <th>Year</th>\n",
              "        <th>Datetime</th>\n",
              "        <th>Stage</th>\n",
              "        <th>Stadium</th>\n",
              "        <th>City</th>\n",
              "        <th>Home_Team_Name</th>\n",
              "        <th>Home_Team_Goals</th>\n",
              "        <th>Away_Team_Goals</th>\n",
              "        <th>Away_Team_Name</th>\n",
              "        <th>Win_conditions</th>\n",
              "        <th>Attendance</th>\n",
              "        <th>Halftime_Home_Goals</th>\n",
              "        <th>Halftime_Away_Goals</th>\n",
              "        <th>Referee</th>\n",
              "        <th>Assistant1</th>\n",
              "        <th>Assistant2</th>\n",
              "        <th>RoundID</th>\n",
              "        <th>MatchID</th>\n",
              "        <th>Home_Team_Initials</th>\n",
              "        <th>Away_Team_Initials</th>\n",
              "    </tr>\n",
              "    <tr>\n",
              "        <td>1930</td>\n",
              "        <td>13 Jul 1930 - 15:00 </td>\n",
              "        <td>Group 1</td>\n",
              "        <td>Pocitos</td>\n",
              "        <td>Montevideo </td>\n",
              "        <td>France</td>\n",
              "        <td>4</td>\n",
              "        <td>1</td>\n",
              "        <td>Mexico</td>\n",
              "        <td> </td>\n",
              "        <td>4444.0</td>\n",
              "        <td>3</td>\n",
              "        <td>0</td>\n",
              "        <td>LOMBARDI Domingo (URU)</td>\n",
              "        <td>CRISTOPHE Henry (BEL)</td>\n",
              "        <td>REGO Gilberto (BRA)</td>\n",
              "        <td>201</td>\n",
              "        <td>1096</td>\n",
              "        <td>FRA</td>\n",
              "        <td>MEX</td>\n",
              "    </tr>\n",
              "    <tr>\n",
              "        <td>1930</td>\n",
              "        <td>13 Jul 1930 - 15:00 </td>\n",
              "        <td>Group 4</td>\n",
              "        <td>Parque Central</td>\n",
              "        <td>Montevideo </td>\n",
              "        <td>USA</td>\n",
              "        <td>3</td>\n",
              "        <td>0</td>\n",
              "        <td>Belgium</td>\n",
              "        <td> </td>\n",
              "        <td>18346.0</td>\n",
              "        <td>2</td>\n",
              "        <td>0</td>\n",
              "        <td>MACIAS Jose (ARG)</td>\n",
              "        <td>MATEUCCI Francisco (URU)</td>\n",
              "        <td>WARNKEN Alberto (CHI)</td>\n",
              "        <td>201</td>\n",
              "        <td>1090</td>\n",
              "        <td>USA</td>\n",
              "        <td>BEL</td>\n",
              "    </tr>\n",
              "    <tr>\n",
              "        <td>1930</td>\n",
              "        <td>14 Jul 1930 - 12:45 </td>\n",
              "        <td>Group 2</td>\n",
              "        <td>Parque Central</td>\n",
              "        <td>Montevideo </td>\n",
              "        <td>Yugoslavia</td>\n",
              "        <td>2</td>\n",
              "        <td>1</td>\n",
              "        <td>Brazil</td>\n",
              "        <td> </td>\n",
              "        <td>24059.0</td>\n",
              "        <td>2</td>\n",
              "        <td>0</td>\n",
              "        <td>TEJADA Anibal (URU)</td>\n",
              "        <td>VALLARINO Ricardo (URU)</td>\n",
              "        <td>BALWAY Thomas (FRA)</td>\n",
              "        <td>201</td>\n",
              "        <td>1093</td>\n",
              "        <td>YUG</td>\n",
              "        <td>BRA</td>\n",
              "    </tr>\n",
              "    <tr>\n",
              "        <td>1930</td>\n",
              "        <td>14 Jul 1930 - 14:50 </td>\n",
              "        <td>Group 3</td>\n",
              "        <td>Pocitos</td>\n",
              "        <td>Montevideo </td>\n",
              "        <td>Romania</td>\n",
              "        <td>3</td>\n",
              "        <td>1</td>\n",
              "        <td>Peru</td>\n",
              "        <td> </td>\n",
              "        <td>2549.0</td>\n",
              "        <td>1</td>\n",
              "        <td>0</td>\n",
              "        <td>WARNKEN Alberto (CHI)</td>\n",
              "        <td>LANGENUS Jean (BEL)</td>\n",
              "        <td>MATEUCCI Francisco (URU)</td>\n",
              "        <td>201</td>\n",
              "        <td>1098</td>\n",
              "        <td>ROU</td>\n",
              "        <td>PER</td>\n",
              "    </tr>\n",
              "    <tr>\n",
              "        <td>1930</td>\n",
              "        <td>15 Jul 1930 - 16:00 </td>\n",
              "        <td>Group 1</td>\n",
              "        <td>Parque Central</td>\n",
              "        <td>Montevideo </td>\n",
              "        <td>Argentina</td>\n",
              "        <td>1</td>\n",
              "        <td>0</td>\n",
              "        <td>France</td>\n",
              "        <td> </td>\n",
              "        <td>23409.0</td>\n",
              "        <td>0</td>\n",
              "        <td>0</td>\n",
              "        <td>REGO Gilberto (BRA)</td>\n",
              "        <td>SAUCEDO Ulises (BOL)</td>\n",
              "        <td>RADULESCU Constantin (ROU)</td>\n",
              "        <td>201</td>\n",
              "        <td>1085</td>\n",
              "        <td>ARG</td>\n",
              "        <td>FRA</td>\n",
              "    </tr>\n",
              "</table>"
            ],
            "text/plain": [
              "[(1930, '13 Jul 1930 - 15:00 ', 'Group 1', 'Pocitos', 'Montevideo ', 'France', 4, 1, 'Mexico', ' ', 4444.0, 3, 0, 'LOMBARDI Domingo (URU)', 'CRISTOPHE Henry (BEL)', 'REGO Gilberto (BRA)', 201, 1096, 'FRA', 'MEX'),\n",
              " (1930, '13 Jul 1930 - 15:00 ', 'Group 4', 'Parque Central', 'Montevideo ', 'USA', 3, 0, 'Belgium', ' ', 18346.0, 2, 0, 'MACIAS Jose (ARG)', 'MATEUCCI Francisco (URU)', 'WARNKEN Alberto (CHI)', 201, 1090, 'USA', 'BEL'),\n",
              " (1930, '14 Jul 1930 - 12:45 ', 'Group 2', 'Parque Central', 'Montevideo ', 'Yugoslavia', 2, 1, 'Brazil', ' ', 24059.0, 2, 0, 'TEJADA Anibal (URU)', 'VALLARINO Ricardo (URU)', 'BALWAY Thomas (FRA)', 201, 1093, 'YUG', 'BRA'),\n",
              " (1930, '14 Jul 1930 - 14:50 ', 'Group 3', 'Pocitos', 'Montevideo ', 'Romania', 3, 1, 'Peru', ' ', 2549.0, 1, 0, 'WARNKEN Alberto (CHI)', 'LANGENUS Jean (BEL)', 'MATEUCCI Francisco (URU)', 201, 1098, 'ROU', 'PER'),\n",
              " (1930, '15 Jul 1930 - 16:00 ', 'Group 1', 'Parque Central', 'Montevideo ', 'Argentina', 1, 0, 'France', ' ', 23409.0, 0, 0, 'REGO Gilberto (BRA)', 'SAUCEDO Ulises (BOL)', 'RADULESCU Constantin (ROU)', 201, 1085, 'ARG', 'FRA')]"
            ]
          },
          "metadata": {
            "tags": []
          },
          "execution_count": 9
        }
      ]
    },
    {
      "cell_type": "code",
      "metadata": {
        "id": "L5TBZKqf1eN2"
      },
      "source": [
        "# Challenge 2\n",
        "# Select all the records that do not contain null values from the Interpol dataset\n",
        "#\n",
        "OUR CODE GOES HERE"
      ],
      "execution_count": null,
      "outputs": []
    },
    {
      "cell_type": "code",
      "metadata": {
        "id": "0Dy2oNUMjwlg"
      },
      "source": [
        ""
      ],
      "execution_count": null,
      "outputs": []
    }
  ]
}