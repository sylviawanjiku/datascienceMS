{
  "nbformat": 4,
  "nbformat_minor": 0,
  "metadata": {
    "colab": {
      "name": "Sylvia GBV.ipynb",
      "provenance": [],
      "include_colab_link": true
    },
    "kernelspec": {
      "display_name": "Python 3",
      "name": "python3"
    },
    "language_info": {
      "name": "python"
    },
    "widgets": {
      "application/vnd.jupyter.widget-state+json": {
        "dceefb817f454d15b2de23143c01bb4a": {
          "model_module": "@jupyter-widgets/controls",
          "model_name": "HBoxModel",
          "state": {
            "_view_name": "HBoxView",
            "_dom_classes": [],
            "_model_name": "HBoxModel",
            "_view_module": "@jupyter-widgets/controls",
            "_model_module_version": "1.5.0",
            "_view_count": null,
            "_view_module_version": "1.5.0",
            "box_style": "",
            "layout": "IPY_MODEL_3b4689c0d75847c9b6f37e636a4042da",
            "_model_module": "@jupyter-widgets/controls",
            "children": [
              "IPY_MODEL_58b0206665bc4025a7528421de0f6d63",
              "IPY_MODEL_36ea2294827f487590562185fa4815c5",
              "IPY_MODEL_0547de9a2518447aa1e391ab2340b52e"
            ]
          }
        },
        "3b4689c0d75847c9b6f37e636a4042da": {
          "model_module": "@jupyter-widgets/base",
          "model_name": "LayoutModel",
          "state": {
            "_view_name": "LayoutView",
            "grid_template_rows": null,
            "right": null,
            "justify_content": null,
            "_view_module": "@jupyter-widgets/base",
            "overflow": null,
            "_model_module_version": "1.2.0",
            "_view_count": null,
            "flex_flow": "row wrap",
            "width": "100%",
            "min_width": null,
            "border": null,
            "align_items": null,
            "bottom": null,
            "_model_module": "@jupyter-widgets/base",
            "top": null,
            "grid_column": null,
            "overflow_y": null,
            "overflow_x": null,
            "grid_auto_flow": null,
            "grid_area": null,
            "grid_template_columns": null,
            "flex": null,
            "_model_name": "LayoutModel",
            "justify_items": null,
            "grid_row": null,
            "max_height": null,
            "align_content": null,
            "visibility": null,
            "align_self": null,
            "height": null,
            "min_height": null,
            "padding": null,
            "grid_auto_rows": null,
            "grid_gap": null,
            "max_width": null,
            "order": null,
            "_view_module_version": "1.2.0",
            "grid_template_areas": null,
            "object_position": null,
            "object_fit": null,
            "grid_auto_columns": null,
            "margin": null,
            "display": "inline-flex",
            "left": null
          }
        },
        "58b0206665bc4025a7528421de0f6d63": {
          "model_module": "@jupyter-widgets/controls",
          "model_name": "HTMLModel",
          "state": {
            "_view_name": "HTMLView",
            "style": "IPY_MODEL_99096d2255954e9d8ed6f1a65f24c0e0",
            "_dom_classes": [],
            "description": "",
            "_model_name": "HTMLModel",
            "placeholder": "​",
            "_view_module": "@jupyter-widgets/controls",
            "_model_module_version": "1.5.0",
            "value": "Done! Use &#x27;show&#x27; commands to display/save.   ",
            "_view_count": null,
            "_view_module_version": "1.5.0",
            "description_tooltip": null,
            "_model_module": "@jupyter-widgets/controls",
            "layout": "IPY_MODEL_2e9f80e1d5f14e10a0161a22859eb94d"
          }
        },
        "36ea2294827f487590562185fa4815c5": {
          "model_module": "@jupyter-widgets/controls",
          "model_name": "FloatProgressModel",
          "state": {
            "_view_name": "ProgressView",
            "style": "IPY_MODEL_26777ce2c53d4f4eb7934bf37ed470ab",
            "_dom_classes": [],
            "description": "",
            "_model_name": "FloatProgressModel",
            "bar_style": "success",
            "max": 1,
            "_view_module": "@jupyter-widgets/controls",
            "_model_module_version": "1.5.0",
            "value": 1,
            "_view_count": null,
            "_view_module_version": "1.5.0",
            "orientation": "horizontal",
            "min": 0,
            "description_tooltip": null,
            "_model_module": "@jupyter-widgets/controls",
            "layout": "IPY_MODEL_97142f4849134eeab256d9db0984ca0e"
          }
        },
        "0547de9a2518447aa1e391ab2340b52e": {
          "model_module": "@jupyter-widgets/controls",
          "model_name": "HTMLModel",
          "state": {
            "_view_name": "HTMLView",
            "style": "IPY_MODEL_1e880d413f714db5837177d46dfbb0c5",
            "_dom_classes": [],
            "description": "",
            "_model_name": "HTMLModel",
            "placeholder": "​",
            "_view_module": "@jupyter-widgets/controls",
            "_model_module_version": "1.5.0",
            "value": " [100%]   00:00 -&gt; (00:00 left)",
            "_view_count": null,
            "_view_module_version": "1.5.0",
            "description_tooltip": null,
            "_model_module": "@jupyter-widgets/controls",
            "layout": "IPY_MODEL_eee4db622705491e84bd4a48a89aab32"
          }
        },
        "99096d2255954e9d8ed6f1a65f24c0e0": {
          "model_module": "@jupyter-widgets/controls",
          "model_name": "DescriptionStyleModel",
          "state": {
            "_view_name": "StyleView",
            "_model_name": "DescriptionStyleModel",
            "description_width": "",
            "_view_module": "@jupyter-widgets/base",
            "_model_module_version": "1.5.0",
            "_view_count": null,
            "_view_module_version": "1.2.0",
            "_model_module": "@jupyter-widgets/controls"
          }
        },
        "2e9f80e1d5f14e10a0161a22859eb94d": {
          "model_module": "@jupyter-widgets/base",
          "model_name": "LayoutModel",
          "state": {
            "_view_name": "LayoutView",
            "grid_template_rows": null,
            "right": null,
            "justify_content": null,
            "_view_module": "@jupyter-widgets/base",
            "overflow": null,
            "_model_module_version": "1.2.0",
            "_view_count": null,
            "flex_flow": null,
            "width": null,
            "min_width": null,
            "border": null,
            "align_items": null,
            "bottom": null,
            "_model_module": "@jupyter-widgets/base",
            "top": null,
            "grid_column": null,
            "overflow_y": null,
            "overflow_x": null,
            "grid_auto_flow": null,
            "grid_area": null,
            "grid_template_columns": null,
            "flex": null,
            "_model_name": "LayoutModel",
            "justify_items": null,
            "grid_row": null,
            "max_height": null,
            "align_content": null,
            "visibility": null,
            "align_self": null,
            "height": null,
            "min_height": null,
            "padding": null,
            "grid_auto_rows": null,
            "grid_gap": null,
            "max_width": null,
            "order": null,
            "_view_module_version": "1.2.0",
            "grid_template_areas": null,
            "object_position": null,
            "object_fit": null,
            "grid_auto_columns": null,
            "margin": null,
            "display": null,
            "left": null
          }
        },
        "26777ce2c53d4f4eb7934bf37ed470ab": {
          "model_module": "@jupyter-widgets/controls",
          "model_name": "ProgressStyleModel",
          "state": {
            "_view_name": "StyleView",
            "_model_name": "ProgressStyleModel",
            "description_width": "",
            "_view_module": "@jupyter-widgets/base",
            "_model_module_version": "1.5.0",
            "_view_count": null,
            "_view_module_version": "1.2.0",
            "bar_color": null,
            "_model_module": "@jupyter-widgets/controls"
          }
        },
        "97142f4849134eeab256d9db0984ca0e": {
          "model_module": "@jupyter-widgets/base",
          "model_name": "LayoutModel",
          "state": {
            "_view_name": "LayoutView",
            "grid_template_rows": null,
            "right": null,
            "justify_content": null,
            "_view_module": "@jupyter-widgets/base",
            "overflow": null,
            "_model_module_version": "1.2.0",
            "_view_count": null,
            "flex_flow": null,
            "width": null,
            "min_width": null,
            "border": null,
            "align_items": null,
            "bottom": null,
            "_model_module": "@jupyter-widgets/base",
            "top": null,
            "grid_column": null,
            "overflow_y": null,
            "overflow_x": null,
            "grid_auto_flow": null,
            "grid_area": null,
            "grid_template_columns": null,
            "flex": "2",
            "_model_name": "LayoutModel",
            "justify_items": null,
            "grid_row": null,
            "max_height": null,
            "align_content": null,
            "visibility": null,
            "align_self": null,
            "height": null,
            "min_height": null,
            "padding": null,
            "grid_auto_rows": null,
            "grid_gap": null,
            "max_width": null,
            "order": null,
            "_view_module_version": "1.2.0",
            "grid_template_areas": null,
            "object_position": null,
            "object_fit": null,
            "grid_auto_columns": null,
            "margin": null,
            "display": null,
            "left": null
          }
        },
        "1e880d413f714db5837177d46dfbb0c5": {
          "model_module": "@jupyter-widgets/controls",
          "model_name": "DescriptionStyleModel",
          "state": {
            "_view_name": "StyleView",
            "_model_name": "DescriptionStyleModel",
            "description_width": "",
            "_view_module": "@jupyter-widgets/base",
            "_model_module_version": "1.5.0",
            "_view_count": null,
            "_view_module_version": "1.2.0",
            "_model_module": "@jupyter-widgets/controls"
          }
        },
        "eee4db622705491e84bd4a48a89aab32": {
          "model_module": "@jupyter-widgets/base",
          "model_name": "LayoutModel",
          "state": {
            "_view_name": "LayoutView",
            "grid_template_rows": null,
            "right": null,
            "justify_content": null,
            "_view_module": "@jupyter-widgets/base",
            "overflow": null,
            "_model_module_version": "1.2.0",
            "_view_count": null,
            "flex_flow": null,
            "width": null,
            "min_width": null,
            "border": null,
            "align_items": null,
            "bottom": null,
            "_model_module": "@jupyter-widgets/base",
            "top": null,
            "grid_column": null,
            "overflow_y": null,
            "overflow_x": null,
            "grid_auto_flow": null,
            "grid_area": null,
            "grid_template_columns": null,
            "flex": null,
            "_model_name": "LayoutModel",
            "justify_items": null,
            "grid_row": null,
            "max_height": null,
            "align_content": null,
            "visibility": null,
            "align_self": null,
            "height": null,
            "min_height": null,
            "padding": null,
            "grid_auto_rows": null,
            "grid_gap": null,
            "max_width": null,
            "order": null,
            "_view_module_version": "1.2.0",
            "grid_template_areas": null,
            "object_position": null,
            "object_fit": null,
            "grid_auto_columns": null,
            "margin": null,
            "display": null,
            "left": null
          }
        }
      }
    }
  },
  "cells": [
    {
      "cell_type": "markdown",
      "metadata": {
        "id": "view-in-github",
        "colab_type": "text"
      },
      "source": [
        "<a href=\"https://colab.research.google.com/github/sylviawanjiku/datascienceMS/blob/main/Sylvia_GBV.ipynb\" target=\"_parent\"><img src=\"https://colab.research.google.com/assets/colab-badge.svg\" alt=\"Open In Colab\"/></a>"
      ]
    },
    {
      "cell_type": "code",
      "metadata": {
        "colab": {
          "base_uri": "https://localhost:8080/",
          "height": 35
        },
        "id": "20SFv3GCfL1E",
        "outputId": "534edece-08dd-46d4-ed7d-155571bf4d61"
      },
      "source": [
        "'''!pip3 install --user --upgrade git+https://github.com/twintproject/twint.git@origin/master #egg=twint'''"
      ],
      "execution_count": null,
      "outputs": [
        {
          "output_type": "execute_result",
          "data": {
            "application/vnd.google.colaboratory.intrinsic+json": {
              "type": "string"
            },
            "text/plain": [
              "'!pip3 install --user --upgrade git+https://github.com/twintproject/twint.git@origin/master #egg=twint'"
            ]
          },
          "metadata": {
            "tags": []
          },
          "execution_count": 3
        }
      ]
    },
    {
      "cell_type": "code",
      "metadata": {
        "id": "VsBQ_tyIao4M"
      },
      "source": [
        "!git clone --depth=1 https://github.com/twintproject/twint.git\n",
        "%cd twint\n",
        "!pip3 install . -r requirements.txt"
      ],
      "execution_count": null,
      "outputs": []
    },
    {
      "cell_type": "code",
      "metadata": {
        "id": "FO8Zr5yubANw"
      },
      "source": [
        "import twint\n",
        "!twint -h"
      ],
      "execution_count": null,
      "outputs": []
    },
    {
      "cell_type": "code",
      "metadata": {
        "id": "HgtVYI7HJxxc"
      },
      "source": [
        "from datetime import timedelta\n",
        "from string import ascii_letters, digits\n",
        "from os import mkdir, path\n",
        "import nest_asyncio\n",
        "import pandas as pd\n",
        "import twint\n",
        "\n",
        "nest_asyncio.apply()\n",
        "\n",
        "def clean_name(dirname):\n",
        "    \n",
        "    valid = set(ascii_letters + digits)\n",
        "    return ''.join(a for a in dirname if a in valid)\n",
        "\n",
        "\n",
        "def twint_search(searchterm, since, until, json_name):\n",
        "\n",
        "    c = twint.Config()\n",
        "    c.Search = searchterm\n",
        "    c.Since = since\n",
        "    c.Until = until\n",
        "    c.Limit = 100\n",
        "    c.Lang = \"en\"\n",
        "    c.Hide_output = True\n",
        "    c.Store_json = True\n",
        "    c.Output = json_name\n",
        "    c.Debug = True\n",
        "\n",
        "    try:\n",
        "        twint.run.Search(c)    \n",
        "        \n",
        "    except (KeyboardInterrupt, SystemExit):\n",
        "        raise\n",
        "\n",
        "        \n",
        "#     except:\n",
        "#         print(\"Problem with %s.\" % since)\n",
        "\n",
        "\n",
        "def twint_loop(searchterm, since, until):\n",
        "\n",
        "    dirname = clean_name(searchterm)\n",
        "    \n",
        "    try:\n",
        "        mkdir(dirname)\n",
        "        print(\"Directory\" , dirname ,  \"Created \")\n",
        "        \n",
        "    except FileExistsError:\n",
        "        print(\"Directory\" , dirname ,  \"already exists\")\n",
        "\n",
        "    daterange = pd.date_range(since, until)\n",
        "\n",
        "    for start_date in daterange:\n",
        "\n",
        "        since= start_date.strftime(\"%Y-%m-%d\")\n",
        "        until = (start_date + timedelta(days=1)).strftime(\"%Y-%m-%d\")\n",
        "\n",
        "        json_name = '%s.json' % since\n",
        "        json_name = path.join(dirname, json_name)\n",
        "\n",
        "        print('Getting %s ' % since )\n",
        "        twint_search(searchterm, since, until, json_name)"
      ],
      "execution_count": null,
      "outputs": []
    },
    {
      "cell_type": "code",
      "metadata": {
        "id": "gkfS71HafF7R"
      },
      "source": [
        "twint_loop('child marriage OR children marriage OR underage marriage OR forced marriage OR sex trafficking OR woman trafficking OR women trafficking OR girl trafficking OR female trafficking OR child trafficking OR children trafficking', '01-01-2021', '05-01-2021')\n",
        "twint_loop('forced marriage OR sex trafficking OR woman trafficking OR women trafficking', '01-01-2021', '05-01-2021')"
      ],
      "execution_count": null,
      "outputs": []
    },
    {
      "cell_type": "code",
      "metadata": {
        "id": "zrXklHsBfW6y"
      },
      "source": [
        "from glob import glob\n",
        "\n",
        "# file_names = glob(path.join('childmarriageORchildrenmarriageORunderagemarriageORforcedmarriageORsextraffickingORwomantraffickingORwomentraffickingORgirltraffickingORfemaletraffickingORchildtraffickingORchildrentrafficking','*.json'))\n",
        "# file_names = glob(path.join('childmarriageORchildrenmarriageORunderagemarriage','*.json'))\n",
        "file_names = glob(path.join('forcedmarriageORsextraffickingORwomantraffickingORwomentrafficking','*.json'))\n",
        "# file_names = glob(path.join('girltraffickingORfemaletraffickingORchildtraffickingORchildrentrafficking','*.json'))\n",
        "dfs = [pd.read_json(fn, lines = True) for fn in file_names]\n",
        "gender_df2 = pd.concat(dfs)\n",
        "gender_df2['tweet']\n"
      ],
      "execution_count": null,
      "outputs": []
    },
    {
      "cell_type": "code",
      "metadata": {
        "id": "6Xd8Xxrea3jC",
        "colab": {
          "base_uri": "https://localhost:8080/"
        },
        "outputId": "0d8e39ee-5daa-4c40-f48d-af9ac3d3e14a"
      },
      "source": [
        "gender_df2.shape"
      ],
      "execution_count": null,
      "outputs": [
        {
          "output_type": "execute_result",
          "data": {
            "text/plain": [
              "(3397, 36)"
            ]
          },
          "metadata": {
            "tags": []
          },
          "execution_count": 29
        }
      ]
    },
    {
      "cell_type": "code",
      "metadata": {
        "id": "O-dZLoY0e8Di"
      },
      "source": [
        "gender_df2.columns"
      ],
      "execution_count": null,
      "outputs": []
    },
    {
      "cell_type": "code",
      "metadata": {
        "id": "DH9gR-qaelrU"
      },
      "source": [
        "gender_df2.to_csv('gender_violence2.csv')"
      ],
      "execution_count": null,
      "outputs": []
    },
    {
      "cell_type": "code",
      "metadata": {
        "id": "8CW-6JiLgXzU"
      },
      "source": [
        "dfirst = pd.read_csv('gender_violence1.csv')\n",
        "dsecond= pd.read_csv('gender_violence2.csv')\n",
        "dthird = pd.read_csv('gender_violence3.csv')\n"
      ],
      "execution_count": null,
      "outputs": []
    },
    {
      "cell_type": "code",
      "metadata": {
        "id": "zVtm__BugPU-"
      },
      "source": [
        "frames = [dfirst,dsecond,dthird]"
      ],
      "execution_count": null,
      "outputs": []
    },
    {
      "cell_type": "code",
      "metadata": {
        "id": "uJoTzfBcshMg"
      },
      "source": [
        "result = pd.concat(frames)"
      ],
      "execution_count": null,
      "outputs": []
    },
    {
      "cell_type": "code",
      "metadata": {
        "id": "shxglXslszG7"
      },
      "source": [
        "result.info()"
      ],
      "execution_count": null,
      "outputs": []
    },
    {
      "cell_type": "code",
      "metadata": {
        "id": "1ZnxzZhqe6j5"
      },
      "source": [
        "# I don't need these columns, so dropping them. You can keep them if you want.\n",
        "import pandas as pd\n",
        "\n",
        "df= pd.read_csv('gbv-harmful-trafficking.csv')\n",
        "drop_list = ['Unnamed: 0','id','conversation_id','created_at','name','timezone','user_id','cashtags','place','quote_url','near','geo','source','user_rt_id','user_rt','retweet_id','retweet_date','translate','trans_src','trans_dest','video','retweet']\n",
        "df = result.drop(columns=drop_list)\n",
        "\n",
        "# have a look again.\n",
        "display(df.info())"
      ],
      "execution_count": null,
      "outputs": []
    },
    {
      "cell_type": "code",
      "metadata": {
        "id": "OyiExuRZgELP"
      },
      "source": [
        "# Check the above link for other installation instructions.\n",
        "!pip install texthero\n",
        "\n",
        "# import texthero\n",
        "import texthero as hero"
      ],
      "execution_count": null,
      "outputs": []
    },
    {
      "cell_type": "code",
      "metadata": {
        "id": "JMbC0JVZgRQl"
      },
      "source": [
        "\n",
        "# let's do text preprocessing\n",
        "from texthero import preprocessing\n",
        "\n",
        "# creating a custom pipeline to preprocess the raw text we have\n",
        "custom_pipeline = [preprocessing.fillna\n",
        "                   , preprocessing.lowercase\n",
        "                  #  , preprocessing.remove_digits # you can uncomment this if you want to remove digits as well.\n",
        "                   , preprocessing.remove_punctuation\n",
        "                   , preprocessing.remove_diacritics\n",
        "                   , preprocessing.remove_stopwords\n",
        "                   , preprocessing.remove_whitespace\n",
        "                   , preprocessing.stem]\n",
        "\n",
        "# simply call clean() method to clean the raw text in 'tweet' col and pass the custom_pipeline to pipeline argument\n",
        "df['clean_tweet'] = hero.clean(df['tweet'], pipeline = custom_pipeline)\n",
        "\n",
        "df['tweet']"
      ],
      "execution_count": null,
      "outputs": []
    },
    {
      "cell_type": "code",
      "metadata": {
        "id": "drGED9Kyg8T7"
      },
      "source": [
        "# Check the above link for other installation instructions\n",
        "!pip3 install sweetviz\n",
        "\n",
        "# importing sweetviz\n",
        "import sweetviz as sv"
      ],
      "execution_count": null,
      "outputs": []
    },
    {
      "cell_type": "code",
      "metadata": {
        "colab": {
          "base_uri": "https://localhost:8080/",
          "height": 86,
          "referenced_widgets": [
            "dceefb817f454d15b2de23143c01bb4a",
            "3b4689c0d75847c9b6f37e636a4042da",
            "58b0206665bc4025a7528421de0f6d63",
            "36ea2294827f487590562185fa4815c5",
            "0547de9a2518447aa1e391ab2340b52e",
            "99096d2255954e9d8ed6f1a65f24c0e0",
            "2e9f80e1d5f14e10a0161a22859eb94d",
            "26777ce2c53d4f4eb7934bf37ed470ab",
            "97142f4849134eeab256d9db0984ca0e",
            "1e880d413f714db5837177d46dfbb0c5",
            "eee4db622705491e84bd4a48a89aab32"
          ]
        },
        "id": "U4uF3mIXhJ39",
        "outputId": "9184dac5-61b3-49a9-9dfe-818f3780ec49"
      },
      "source": [
        "viewdf = df.drop(columns=['date','time'])\n",
        "\n",
        "# #to analyze the data and create a report, simply call analyze() method passing in the dataframe as argument\n",
        "gbv_report = sv.analyze(viewdf)\n",
        "\n",
        "# #display the report as html\n",
        "gbv_report.show_html('gbv.html')"
      ],
      "execution_count": null,
      "outputs": [
        {
          "output_type": "display_data",
          "data": {
            "application/vnd.jupyter.widget-view+json": {
              "model_id": "dceefb817f454d15b2de23143c01bb4a",
              "version_minor": 0,
              "version_major": 2
            },
            "text/plain": [
              "                                             |          | [  0%]   00:00 -> (? left)"
            ]
          },
          "metadata": {
            "tags": []
          }
        },
        {
          "output_type": "stream",
          "text": [
            "Report gbv.html was generated! NOTEBOOK/COLAB USERS: the web browser MAY not pop up, regardless, the report IS saved in your notebook/colab files.\n"
          ],
          "name": "stdout"
        }
      ]
    },
    {
      "cell_type": "code",
      "metadata": {
        "id": "smY_fFcDjD1x"
      },
      "source": [
        "!pip install emojis"
      ],
      "execution_count": null,
      "outputs": []
    },
    {
      "cell_type": "code",
      "metadata": {
        "id": "3x923jF9tkPr"
      },
      "source": [
        "import emojis\n",
        "emoji_list=[]\n",
        "\n",
        "for tweet in tweets:\n",
        "  emoji_present = emojis.get(tweet)\n",
        "  if emoji_present:\n",
        "    emoji_list.append(emoji_present)\n",
        "    # One-Liner to union a list of sets\n",
        "    print(set().union(*emoji_list))    "
      ],
      "execution_count": null,
      "outputs": []
    }
  ]
}